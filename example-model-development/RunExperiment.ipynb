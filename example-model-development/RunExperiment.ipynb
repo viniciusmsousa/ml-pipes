{
 "metadata": {
  "language_info": {
   "codemirror_mode": {
    "name": "ipython",
    "version": 3
   },
   "file_extension": ".py",
   "mimetype": "text/x-python",
   "name": "python",
   "nbconvert_exporter": "python",
   "pygments_lexer": "ipython3",
   "version": "3.8.5"
  },
  "orig_nbformat": 2,
  "kernelspec": {
   "name": "python385jvsc74a57bd091e54437ba924c8ff0ef21fd935a5cc04c16b591cf97d51ec85aa641f4cda69d",
   "display_name": "Python 3.8.5 64-bit ('ml-pipes-VBbH4xSK-py3.8': venv)"
  },
  "metadata": {
   "interpreter": {
    "hash": "4e3b28acd7a0957c37c0956cd76d2c0402b105ada09a22b696d0c202f94577cc"
   }
  }
 },
 "nbformat": 4,
 "nbformat_minor": 2,
 "cells": [
  {
   "source": [
    "# Model Development Example with MLFlow\n",
    "\n",
    "This notebook serves as an example of how MLFlow can be used in the development of a machine learning model.\n",
    "\n",
    "The rest of the notebook is organized as follows\n",
    "- 1) The Problem;\n",
    "- 2) Setup Development Environment;\n",
    "- 3) Training different Models;\n",
    "- 4) Setting the Best Model to Production and the Second best to stage (so that we can deploy an API later)."
   ],
   "cell_type": "markdown",
   "metadata": {}
  },
  {
   "cell_type": "code",
   "execution_count": 1,
   "metadata": {},
   "outputs": [
    {
     "output_type": "stream",
     "name": "stdout",
     "text": [
      "/media/vinicius/Dados/poetry/virtualenvs/ml-pipes-VBbH4xSK-py3.8/bin/python\n"
     ]
    }
   ],
   "source": [
    "!which python"
   ]
  },
  {
   "cell_type": "code",
   "execution_count": 2,
   "metadata": {},
   "outputs": [],
   "source": [
    "# Import Libs\n",
    "import os\n",
    "from dotenv import load_dotenv\n",
    "import pandas as pd\n",
    "import mlflow\n",
    "from mlflow.tracking import MlflowClient\n",
    "from mlflow.entities import ViewType\n",
    "\n",
    "from dao.CreditCardDefault import load_creditcard_dataset\n",
    "from trainers.h2o_automl import H2OClassifier\n",
    "from trainers.pycaret import PycaretClassifier\n",
    "from trainers.spark import SparkClassifier\n",
    "\n",
    "load_dotenv(dotenv_path='../ml-pipes/')\n",
    "pd.set_option('display.max_columns', 500)\n",
    "\n",
    "EXPERIMENT_NAME = \"CreditCardDefault\"\n",
    "TRACKING_URI = 'http://127.0.0.1:5000'\n",
    "CREDIT_CARD_MODEL_NAME = EXPERIMENT_NAME\n",
    "THRESHOLD = 0.5\n",
    "CHAMPION_METRIC = 'ks'\n",
    "FOLDS = 5"
   ]
  },
  {
   "source": [
    "## 1) The problem\n",
    "\n",
    "The first thing we need to have to build a model is a problem to solve. Here it is used as example the [Credit Card Default from Kagle](https://www.kaggle.com/mlg-ulb/creditcardfraud), where basically the objective if to predict based on a few features whether or not a client will default on its credit card. The taret variable can assume the values 1, for default, and 0 for non default. Therefore it is a binary classification problem.\n",
    "\n",
    "Bellow the dataset is imported and the first rows of the dataset. Note that the Time column has been removed from the original dataset.\n",
    "\n",
    "Make sure that you have the file `example-model-development/dao/data/creditcard.csv` inside your project."
   ],
   "cell_type": "markdown",
   "metadata": {}
  },
  {
   "cell_type": "code",
   "execution_count": 4,
   "metadata": {},
   "outputs": [
    {
     "output_type": "execute_result",
     "data": {
      "text/plain": [
       "              V1        V2        V3        V4        V5        V6        V7  \\\n",
       "130658  1.368404 -0.423220  0.410756 -0.806396 -0.642184 -0.331725 -0.523129   \n",
       "18988   1.357532 -1.303938 -0.199479 -1.498897 -1.127011 -0.272185 -0.860090   \n",
       "110902 -1.405474  0.994269  1.467485 -1.986441 -1.243961 -0.523304 -0.314165   \n",
       "104426 -7.550169  6.433746 -2.810013 -3.131537 -1.685287 -0.665016 -0.666020   \n",
       "82413  -2.037267  1.941805  0.136512 -0.798728 -0.845243 -0.590195 -0.462000   \n",
       "\n",
       "              V8        V9       V10       V11       V12       V13       V14  \\\n",
       "130658 -0.115005 -0.966748  0.520532 -0.042983  0.166267  1.618911 -0.420917   \n",
       "18988   0.051638 -1.996670  1.629421  0.798558 -1.351043 -1.714358  0.500234   \n",
       "110902  0.422654  2.200189 -0.476182 -0.092892  0.883387 -0.059324 -0.587641   \n",
       "104426  1.505854  4.864181  7.834397  0.650600  1.399985  1.165278 -1.454507   \n",
       "82413   1.425195 -0.348145 -0.542304  0.273056  1.158715 -0.052899  0.889831   \n",
       "\n",
       "             V15       V16       V17       V18       V19       V20       V21  \\\n",
       "130658  0.942149  0.984929  0.285962 -2.080199  0.372764  0.160176 -0.068704   \n",
       "18988   0.174627 -0.537946  0.645634  0.226221 -0.105278 -0.353391 -0.133541   \n",
       "110902  0.944823 -1.115766  0.518518 -0.530520  0.432153  0.404095 -0.080130   \n",
       "104426  0.133876  0.773779 -1.296268  0.023486 -0.904458  3.584708 -0.906316   \n",
       "82413  -1.054842  0.609319 -0.168637  0.107530  0.116411 -0.041282 -0.096690   \n",
       "\n",
       "             V22       V23       V24       V25       V26       V27       V28  \\\n",
       "130658 -0.240810  0.094137 -0.261473  0.248152 -0.435464  0.033116  0.020626   \n",
       "18988  -0.231315 -0.082597 -0.361752  0.407616 -0.112577 -0.004237  0.001871   \n",
       "110902  0.358614 -0.034897  0.445072  0.039238 -0.075287  0.222351 -0.013392   \n",
       "104426 -0.867041  0.276942 -0.896160  1.362156  0.823835  2.102968  0.818651   \n",
       "82413  -0.410116  0.039041  0.022263 -0.032636  0.311809  0.131647  0.099978   \n",
       "\n",
       "        Amount  Class  \n",
       "130658   20.00      0  \n",
       "18988    77.20      0  \n",
       "110902    0.99      0  \n",
       "104426    0.92      0  \n",
       "82413     1.00      0  "
      ],
      "text/html": "<div>\n<style scoped>\n    .dataframe tbody tr th:only-of-type {\n        vertical-align: middle;\n    }\n\n    .dataframe tbody tr th {\n        vertical-align: top;\n    }\n\n    .dataframe thead th {\n        text-align: right;\n    }\n</style>\n<table border=\"1\" class=\"dataframe\">\n  <thead>\n    <tr style=\"text-align: right;\">\n      <th></th>\n      <th>V1</th>\n      <th>V2</th>\n      <th>V3</th>\n      <th>V4</th>\n      <th>V5</th>\n      <th>V6</th>\n      <th>V7</th>\n      <th>V8</th>\n      <th>V9</th>\n      <th>V10</th>\n      <th>V11</th>\n      <th>V12</th>\n      <th>V13</th>\n      <th>V14</th>\n      <th>V15</th>\n      <th>V16</th>\n      <th>V17</th>\n      <th>V18</th>\n      <th>V19</th>\n      <th>V20</th>\n      <th>V21</th>\n      <th>V22</th>\n      <th>V23</th>\n      <th>V24</th>\n      <th>V25</th>\n      <th>V26</th>\n      <th>V27</th>\n      <th>V28</th>\n      <th>Amount</th>\n      <th>Class</th>\n    </tr>\n  </thead>\n  <tbody>\n    <tr>\n      <th>130658</th>\n      <td>1.368404</td>\n      <td>-0.423220</td>\n      <td>0.410756</td>\n      <td>-0.806396</td>\n      <td>-0.642184</td>\n      <td>-0.331725</td>\n      <td>-0.523129</td>\n      <td>-0.115005</td>\n      <td>-0.966748</td>\n      <td>0.520532</td>\n      <td>-0.042983</td>\n      <td>0.166267</td>\n      <td>1.618911</td>\n      <td>-0.420917</td>\n      <td>0.942149</td>\n      <td>0.984929</td>\n      <td>0.285962</td>\n      <td>-2.080199</td>\n      <td>0.372764</td>\n      <td>0.160176</td>\n      <td>-0.068704</td>\n      <td>-0.240810</td>\n      <td>0.094137</td>\n      <td>-0.261473</td>\n      <td>0.248152</td>\n      <td>-0.435464</td>\n      <td>0.033116</td>\n      <td>0.020626</td>\n      <td>20.00</td>\n      <td>0</td>\n    </tr>\n    <tr>\n      <th>18988</th>\n      <td>1.357532</td>\n      <td>-1.303938</td>\n      <td>-0.199479</td>\n      <td>-1.498897</td>\n      <td>-1.127011</td>\n      <td>-0.272185</td>\n      <td>-0.860090</td>\n      <td>0.051638</td>\n      <td>-1.996670</td>\n      <td>1.629421</td>\n      <td>0.798558</td>\n      <td>-1.351043</td>\n      <td>-1.714358</td>\n      <td>0.500234</td>\n      <td>0.174627</td>\n      <td>-0.537946</td>\n      <td>0.645634</td>\n      <td>0.226221</td>\n      <td>-0.105278</td>\n      <td>-0.353391</td>\n      <td>-0.133541</td>\n      <td>-0.231315</td>\n      <td>-0.082597</td>\n      <td>-0.361752</td>\n      <td>0.407616</td>\n      <td>-0.112577</td>\n      <td>-0.004237</td>\n      <td>0.001871</td>\n      <td>77.20</td>\n      <td>0</td>\n    </tr>\n    <tr>\n      <th>110902</th>\n      <td>-1.405474</td>\n      <td>0.994269</td>\n      <td>1.467485</td>\n      <td>-1.986441</td>\n      <td>-1.243961</td>\n      <td>-0.523304</td>\n      <td>-0.314165</td>\n      <td>0.422654</td>\n      <td>2.200189</td>\n      <td>-0.476182</td>\n      <td>-0.092892</td>\n      <td>0.883387</td>\n      <td>-0.059324</td>\n      <td>-0.587641</td>\n      <td>0.944823</td>\n      <td>-1.115766</td>\n      <td>0.518518</td>\n      <td>-0.530520</td>\n      <td>0.432153</td>\n      <td>0.404095</td>\n      <td>-0.080130</td>\n      <td>0.358614</td>\n      <td>-0.034897</td>\n      <td>0.445072</td>\n      <td>0.039238</td>\n      <td>-0.075287</td>\n      <td>0.222351</td>\n      <td>-0.013392</td>\n      <td>0.99</td>\n      <td>0</td>\n    </tr>\n    <tr>\n      <th>104426</th>\n      <td>-7.550169</td>\n      <td>6.433746</td>\n      <td>-2.810013</td>\n      <td>-3.131537</td>\n      <td>-1.685287</td>\n      <td>-0.665016</td>\n      <td>-0.666020</td>\n      <td>1.505854</td>\n      <td>4.864181</td>\n      <td>7.834397</td>\n      <td>0.650600</td>\n      <td>1.399985</td>\n      <td>1.165278</td>\n      <td>-1.454507</td>\n      <td>0.133876</td>\n      <td>0.773779</td>\n      <td>-1.296268</td>\n      <td>0.023486</td>\n      <td>-0.904458</td>\n      <td>3.584708</td>\n      <td>-0.906316</td>\n      <td>-0.867041</td>\n      <td>0.276942</td>\n      <td>-0.896160</td>\n      <td>1.362156</td>\n      <td>0.823835</td>\n      <td>2.102968</td>\n      <td>0.818651</td>\n      <td>0.92</td>\n      <td>0</td>\n    </tr>\n    <tr>\n      <th>82413</th>\n      <td>-2.037267</td>\n      <td>1.941805</td>\n      <td>0.136512</td>\n      <td>-0.798728</td>\n      <td>-0.845243</td>\n      <td>-0.590195</td>\n      <td>-0.462000</td>\n      <td>1.425195</td>\n      <td>-0.348145</td>\n      <td>-0.542304</td>\n      <td>0.273056</td>\n      <td>1.158715</td>\n      <td>-0.052899</td>\n      <td>0.889831</td>\n      <td>-1.054842</td>\n      <td>0.609319</td>\n      <td>-0.168637</td>\n      <td>0.107530</td>\n      <td>0.116411</td>\n      <td>-0.041282</td>\n      <td>-0.096690</td>\n      <td>-0.410116</td>\n      <td>0.039041</td>\n      <td>0.022263</td>\n      <td>-0.032636</td>\n      <td>0.311809</td>\n      <td>0.131647</td>\n      <td>0.099978</td>\n      <td>1.00</td>\n      <td>0</td>\n    </tr>\n  </tbody>\n</table>\n</div>"
     },
     "metadata": {},
     "execution_count": 4
    }
   ],
   "source": [
    "dataset = load_creditcard_dataset()\n",
    "dataset.head()"
   ]
  },
  {
   "source": [
    "## 2) Setup Development Environment\n",
    "\n",
    "Now that a problem has been stated and some data to help solving the problem has been gathered, the next step is to setup our environment to make use of the mlflow tracking module. In order to do that we need to (i) make sure that our enviroment (the python session that is running this notebook) has acces to the bucket that we created and (ii) Setup an MLFlow Experiment."
   ],
   "cell_type": "markdown",
   "metadata": {}
  },
  {
   "cell_type": "code",
   "execution_count": 5,
   "metadata": {},
   "outputs": [],
   "source": [
    "# Setting credentials to bucket (here is harder  coded for )\n",
    "# Here you set the credentials created in the .env file\n",
    "os.environ['MLFLOW_S3_ENDPOINT_URL'] = 'http://127.0.0.1:9000'\n",
    "os.environ['AWS_ACCESS_KEY_ID'] = os.getenv('MINIO_ACCESS_KEY')\n",
    "os.environ['AWS_SECRET_ACCESS_KEY'] = os.getenv('MINIO_SECRET_KEY')"
   ]
  },
  {
   "source": [
    "**MLFlow is built upon the concept of experiments. A experiment is a series of fits, where parameters, metrics, models and artifacts can be associated with the respective fit (in an machine learning package agnostic way).**\n",
    "\n",
    "The code bellow tries to create an experiment, if that experiments already existis then it sets the experiment to the active one."
   ],
   "cell_type": "markdown",
   "metadata": {}
  },
  {
   "cell_type": "code",
   "execution_count": 6,
   "metadata": {
    "tags": []
   },
   "outputs": [],
   "source": [
    "mlflow.set_tracking_uri(TRACKING_URI)\n",
    "try:\n",
    "    experiment = mlflow.create_experiment(EXPERIMENT_NAME)\n",
    "except Exception:\n",
    "    client = MlflowClient()\n",
    "    experiment = client.get_experiment_by_name(EXPERIMENT_NAME)\n",
    "\n",
    "mlflow.set_experiment(EXPERIMENT_NAME)"
   ]
  },
  {
   "source": [
    "## 3) Training different Models\n",
    "\n",
    "The next step if to train, evaluate and log a few different models. In order to demonstrate that MLFlow allows us to use different machine learning packages we will train an H2O autoML, SkLearn models (using pycaret) and spark. Now is the time where MLFlow is put into action: For each model that if fitted it will be logged a few parameters, metrics, artifacts and the models it self. To understand how this is done it checkout the classifiers definitions in the `./trainers` folder and the [MLFlow Logging Documentaion](https://www.mlflow.org/docs/latest/tracking.html#logging-data-to-runs), it all happens inside the `mlflow.start_run()` context manager. "
   ],
   "cell_type": "markdown",
   "metadata": {}
  },
  {
   "cell_type": "code",
   "execution_count": 7,
   "metadata": {},
   "outputs": [
    {
     "output_type": "stream",
     "name": "stdout",
     "text": [
      "Checking whether there is an H2O instance running at http://localhost:54321 ..... not found.\n",
      "Attempting to start a local H2O server...\n",
      "  Java Version: openjdk version \"11.0.11\" 2021-04-20; OpenJDK Runtime Environment (build 11.0.11+9-Ubuntu-0ubuntu2.20.04); OpenJDK 64-Bit Server VM (build 11.0.11+9-Ubuntu-0ubuntu2.20.04, mixed mode, sharing)\n",
      "  Starting server from /media/vinicius/Dados/poetry/virtualenvs/ml-pipes-VBbH4xSK-py3.8/lib/python3.8/site-packages/h2o/backend/bin/h2o.jar\n",
      "  Ice root: /tmp/tmpqa4jhzqd\n",
      "  JVM stdout: /tmp/tmpqa4jhzqd/h2o_vinicius_started_from_python.out\n",
      "  JVM stderr: /tmp/tmpqa4jhzqd/h2o_vinicius_started_from_python.err\n",
      "  Server is running at http://127.0.0.1:54321\n",
      "Connecting to H2O server at http://127.0.0.1:54321 ... successful.\n"
     ]
    },
    {
     "output_type": "display_data",
     "data": {
      "text/plain": "--------------------------  ------------------------------------------------------------------\nH2O_cluster_uptime:         04 secs\nH2O_cluster_timezone:       America/Sao_Paulo\nH2O_data_parsing_timezone:  UTC\nH2O_cluster_version:        3.32.1.1\nH2O_cluster_version_age:    1 month and 25 days\nH2O_cluster_name:           H2O_from_python_vinicius_puf7c7\nH2O_cluster_total_nodes:    1\nH2O_cluster_free_memory:    3 Gb\nH2O_cluster_total_cores:    8\nH2O_cluster_allowed_cores:  8\nH2O_cluster_status:         accepting new members, healthy\nH2O_connection_url:         http://127.0.0.1:54321\nH2O_connection_proxy:       {\"http\": null, \"https\": null}\nH2O_internal_security:      False\nH2O_API_Extensions:         Amazon S3, XGBoost, Algos, AutoML, Core V3, TargetEncoder, Core V4\nPython_version:             3.8.5 final\n--------------------------  ------------------------------------------------------------------",
      "text/html": "<div style=\"overflow:auto\"><table style=\"width:50%\"><tr><td>H2O_cluster_uptime:</td>\n<td>04 secs</td></tr>\n<tr><td>H2O_cluster_timezone:</td>\n<td>America/Sao_Paulo</td></tr>\n<tr><td>H2O_data_parsing_timezone:</td>\n<td>UTC</td></tr>\n<tr><td>H2O_cluster_version:</td>\n<td>3.32.1.1</td></tr>\n<tr><td>H2O_cluster_version_age:</td>\n<td>1 month and 25 days </td></tr>\n<tr><td>H2O_cluster_name:</td>\n<td>H2O_from_python_vinicius_puf7c7</td></tr>\n<tr><td>H2O_cluster_total_nodes:</td>\n<td>1</td></tr>\n<tr><td>H2O_cluster_free_memory:</td>\n<td>3 Gb</td></tr>\n<tr><td>H2O_cluster_total_cores:</td>\n<td>8</td></tr>\n<tr><td>H2O_cluster_allowed_cores:</td>\n<td>8</td></tr>\n<tr><td>H2O_cluster_status:</td>\n<td>accepting new members, healthy</td></tr>\n<tr><td>H2O_connection_url:</td>\n<td>http://127.0.0.1:54321</td></tr>\n<tr><td>H2O_connection_proxy:</td>\n<td>{\"http\": null, \"https\": null}</td></tr>\n<tr><td>H2O_internal_security:</td>\n<td>False</td></tr>\n<tr><td>H2O_API_Extensions:</td>\n<td>Amazon S3, XGBoost, Algos, AutoML, Core V3, TargetEncoder, Core V4</td></tr>\n<tr><td>Python_version:</td>\n<td>3.8.5 final</td></tr></table></div>"
     },
     "metadata": {}
    },
    {
     "output_type": "stream",
     "name": "stdout",
     "text": [
      "Parse progress: |█████████████████████████████████████████████████████████| 100%\n",
      "AutoML progress: |\n",
      "09:19:32.277: User specified a validation frame with cross-validation still enabled. Please note that the models will still be validated using cross-validation only, the validation frame will be used to provide purely informative validation metrics on the trained models.\n",
      "\n",
      "████████████████████████████████████████████████████████| 100%\n",
      "Could not find exact threshold 0.5; using closest threshold found 0.25716614702173335.\n",
      "Could not find exact threshold 0.5; using closest threshold found 0.25716614702173335.\n",
      "Could not find exact threshold 0.5; using closest threshold found 0.25716614702173335.\n",
      "Could not find exact threshold 0.5; using closest threshold found 0.25716614702173335.\n",
      "Could not find exact threshold 0.5; using closest threshold found 0.25716614702173335.\n"
     ]
    },
    {
     "output_type": "execute_result",
     "data": {
      "text/plain": [
       "<trainers.h2o_automl.H2OClassifier at 0x7f1f954fc4c0>"
      ]
     },
     "metadata": {},
     "execution_count": 7
    }
   ],
   "source": [
    "H2OClassifier(\n",
    "    run_name='H2O',\n",
    "    max_mem_size='3G',\n",
    "    threshold=THRESHOLD,\n",
    "    df=dataset,\n",
    "    target_col='Class',\n",
    "    sort_metric='aucpr',\n",
    "    max_models=8,\n",
    "    max_runtime_secs=10,\n",
    "    nfolds=FOLDS,\n",
    "    seed=90\n",
    ")"
   ]
  },
  {
   "cell_type": "code",
   "execution_count": 9,
   "metadata": {
    "tags": []
   },
   "outputs": [
    {
     "output_type": "display_data",
     "data": {
      "text/plain": "                 Parameters\nn_components           None\npriors                 None\nshrinkage              None\nsolver                  svd\nstore_covariance      False\ntol                  0.0001",
      "text/html": "<div>\n<style scoped>\n    .dataframe tbody tr th:only-of-type {\n        vertical-align: middle;\n    }\n\n    .dataframe tbody tr th {\n        vertical-align: top;\n    }\n\n    .dataframe thead th {\n        text-align: right;\n    }\n</style>\n<table border=\"1\" class=\"dataframe\">\n  <thead>\n    <tr style=\"text-align: right;\">\n      <th></th>\n      <th>Parameters</th>\n    </tr>\n  </thead>\n  <tbody>\n    <tr>\n      <th>n_components</th>\n      <td>None</td>\n    </tr>\n    <tr>\n      <th>priors</th>\n      <td>None</td>\n    </tr>\n    <tr>\n      <th>shrinkage</th>\n      <td>None</td>\n    </tr>\n    <tr>\n      <th>solver</th>\n      <td>svd</td>\n    </tr>\n    <tr>\n      <th>store_covariance</th>\n      <td>False</td>\n    </tr>\n    <tr>\n      <th>tol</th>\n      <td>0.0001</td>\n    </tr>\n  </tbody>\n</table>\n</div>"
     },
     "metadata": {}
    },
    {
     "output_type": "stream",
     "name": "stdout",
     "text": [
      "Error in logging parameter for                                 pycaret_precision_2\n",
      "[Errno 2] No such file or directory: 'Hyperparameters.png'\n"
     ]
    },
    {
     "output_type": "execute_result",
     "data": {
      "text/plain": [
       "<trainers.pycaret.PycaretClassifier at 0x7faf34558d60>"
      ]
     },
     "metadata": {},
     "execution_count": 9
    }
   ],
   "source": [
    "PycaretClassifier(\n",
    "        experiment_name=EXPERIMENT_NAME,\n",
    "        run_name='Pycaret2',\n",
    "        sort_metric='precision',\n",
    "        df=dataset,\n",
    "        target='Class',\n",
    "        threshold=THRESHOLD,\n",
    "        n_best_models=3,\n",
    "        data_split_stratify=True,\n",
    "        nfolds=FOLDS,\n",
    "        normalize=True,\n",
    "        transformation=True,\n",
    "        ignore_low_variance=True,\n",
    "        remove_multicollinearity=True,\n",
    "        multicollinearity_threshold=0.95,\n",
    "        session_id=54321\n",
    ")"
   ]
  },
  {
   "cell_type": "code",
   "execution_count": 10,
   "metadata": {},
   "outputs": [
    {
     "output_type": "execute_result",
     "data": {
      "text/plain": [
       "<trainers.spark.SparkClassifier at 0x7fe32bb66310>"
      ]
     },
     "metadata": {},
     "execution_count": 10
    }
   ],
   "source": [
    "SparkClassifier(\n",
    "    df = dataset,\n",
    "    target_col = 'Class',\n",
    "    run_name = 'spark_classifier',\n",
    "    max_mem_size = 4,\n",
    "    n_cores = 4,\n",
    "    seed = 90\n",
    ")"
   ]
  },
  {
   "source": [
    "If everything runned as expected you can now check the MLFlow Server at [http://127.0.0.1:5000](http://127.0.0.1:5000) to compare and explore the models runs."
   ],
   "cell_type": "markdown",
   "metadata": {}
  },
  {
   "source": [
    "## 4) Setting the Best Model to Production\n",
    "\n",
    "The final step in this notebook if to set to production the model with the best selected metric, imported as `CHAMPION_METRIC`. This is done to show is is possible to create an automated workflow using MLFlow to deplot a model. However it is also possible to deplot the model using the [UI server](https://www.mlflow.org/docs/latest/model-registry.html#ui-workflow).\n",
    "\n",
    "Once this is done you can return to the README file to check how the model is now deployed."
   ],
   "cell_type": "markdown",
   "metadata": {}
  },
  {
   "cell_type": "code",
   "execution_count": 10,
   "metadata": {},
   "outputs": [
    {
     "output_type": "stream",
     "name": "stderr",
     "text": [
      "Registered model 'CreditCardDefault' already exists. Creating a new version of this model...\n",
      "2021/05/19 09:02:38 INFO mlflow.tracking._model_registry.client: Waiting up to 300 seconds for model version to finish creation.                     Model name: CreditCardDefault, version 3\n",
      "Created version '3' of model 'CreditCardDefault'.\n"
     ]
    },
    {
     "output_type": "execute_result",
     "data": {
      "text/plain": [
       "<ModelVersion: creation_timestamp=1621425758707, current_stage='Staging', description='Deploying model with model registery', last_updated_timestamp=1621425758825, name='CreditCardDefault', run_id='c325b227a2d24a3994ca8e75b0201117', run_link='', source='/media/vinicius/Dados/projects/ml-pipes/mlflow_artifact_store/1/c325b227a2d24a3994ca8e75b0201117/artifacts/model', status='READY', status_message='', tags={}, user_id='', version='3'>"
      ]
     },
     "metadata": {},
     "execution_count": 10
    }
   ],
   "source": [
    "# Getting The best Model according to CHAMPION_METRIC\n",
    "champion = MlflowClient().search_runs(\n",
    "    experiment_ids=[\n",
    "        str(\n",
    "            mlflow.get_experiment_by_name(name=EXPERIMENT_NAME).experiment_id\n",
    "        )\n",
    "    ],\n",
    "    run_view_type=ViewType.ALL,\n",
    "    order_by=[f\"metrics.{CHAMPION_METRIC} DESC\"],\n",
    "    max_results=1\n",
    ")\n",
    "run_id = champion[0].info.run_id\n",
    "\n",
    "# Registering Model in model registery\n",
    "model = mlflow.register_model(\n",
    "    model_uri=f\"runs:/{run_id}/model\",\n",
    "    name=CREDIT_CARD_MODEL_NAME\n",
    ")\n",
    "\n",
    "# Setting version 1\n",
    "MlflowClient().update_model_version(\n",
    "    name=CREDIT_CARD_MODEL_NAME,\n",
    "    version=model.version,\n",
    "    description='Deploying model with model registery'\n",
    ")\n",
    "\n",
    "# Setting it to production\n",
    "MlflowClient().transition_model_version_stage(\n",
    "    name=CREDIT_CARD_MODEL_NAME,\n",
    "    version=model.version,\n",
    "    stage=\"Staging\"\n",
    ")"
   ]
  },
  {
   "cell_type": "code",
   "execution_count": null,
   "metadata": {},
   "outputs": [],
   "source": []
  }
 ]
}