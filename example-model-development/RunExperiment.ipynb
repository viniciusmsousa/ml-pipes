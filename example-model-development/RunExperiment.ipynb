{
 "metadata": {
  "language_info": {
   "codemirror_mode": {
    "name": "ipython",
    "version": 3
   },
   "file_extension": ".py",
   "mimetype": "text/x-python",
   "name": "python",
   "nbconvert_exporter": "python",
   "pygments_lexer": "ipython3",
   "version": "3.8.5"
  },
  "orig_nbformat": 2,
  "kernelspec": {
   "name": "python385jvsc74a57bd091e54437ba924c8ff0ef21fd935a5cc04c16b591cf97d51ec85aa641f4cda69d",
   "display_name": "Python 3.8.5 64-bit ('ml-pipes-VBbH4xSK-py3.8': venv)"
  },
  "metadata": {
   "interpreter": {
    "hash": "4e3b28acd7a0957c37c0956cd76d2c0402b105ada09a22b696d0c202f94577cc"
   }
  }
 },
 "nbformat": 4,
 "nbformat_minor": 2,
 "cells": [
  {
   "source": [
    "# Model Development Example with MLFlow\n",
    "\n",
    "This notebook serves as an example of how MLFlow can be used in the development of a machine learning model.\n",
    "\n",
    "The rest of the notebook is organized as follows\n",
    "- 1) The Problem;\n",
    "- 2) Setup Development Environment;\n",
    "- 3) Training different Models;\n",
    "- 4) Setting the Best Model to Production and the Second best to stage (so that we can deploy an API later)."
   ],
   "cell_type": "markdown",
   "metadata": {}
  },
  {
   "cell_type": "code",
   "execution_count": 1,
   "metadata": {},
   "outputs": [
    {
     "output_type": "stream",
     "name": "stdout",
     "text": [
      "/media/vinicius/Dados/poetry/virtualenvs/ml-pipes-VBbH4xSK-py3.8/bin/python\n"
     ]
    }
   ],
   "source": [
    "!which python"
   ]
  },
  {
   "cell_type": "code",
   "execution_count": 3,
   "metadata": {},
   "outputs": [],
   "source": [
    "# Import Libs\n",
    "import os\n",
    "from dotenv import load_dotenv\n",
    "import pandas as pd\n",
    "import mlflow\n",
    "from mlflow.tracking import MlflowClient\n",
    "from mlflow.entities import ViewType\n",
    "\n",
    "from dao.CreditCardDefault import load_creditcard_dataset\n",
    "from trainers.h2o_automl import H2OClassifier\n",
    "from trainers.pycaret import PycaretClassifier\n",
    "from trainers.spark import SparkClassifier\n",
    "\n",
    "load_dotenv(dotenv_path='../ml-pipes/')\n",
    "pd.set_option('display.max_columns', 500)\n",
    "\n",
    "EXPERIMENT_NAME = \"CreditCardDefault\"\n",
    "TRACKING_URI = 'http://127.0.0.1:5000'\n",
    "CREDIT_CARD_MODEL_NAME = EXPERIMENT_NAME\n",
    "THRESHOLD = 0.5\n",
    "CHAMPION_METRIC = 'ks'\n",
    "FOLDS = 5"
   ]
  },
  {
   "source": [
    "## 1) The problem\n",
    "\n",
    "The first thing we need to have to build a model is a problem to solve. Here it is used as example the [Credit Card Default from Kagle](https://www.kaggle.com/mlg-ulb/creditcardfraud), where basically the objective if to predict based on a few features whether or not a client will default on its credit card. The taret variable can assume the values 1, for default, and 0 for non default. Therefore it is a binary classification problem.\n",
    "\n",
    "Bellow the dataset is imported and the first rows of the dataset. Note that the Time column has been removed from the original dataset."
   ],
   "cell_type": "markdown",
   "metadata": {}
  },
  {
   "cell_type": "code",
   "execution_count": 4,
   "metadata": {},
   "outputs": [
    {
     "output_type": "execute_result",
     "data": {
      "text/plain": [
       "              V1        V2        V3        V4        V5        V6        V7  \\\n",
       "80863   1.245674  0.166975  0.488306  0.635322 -0.562777 -1.011073  0.014953   \n",
       "35521  -0.882173 -1.725795  1.780052 -0.960257 -0.873474 -0.734802 -1.257349   \n",
       "11717  -0.632820 -0.080301  2.062261 -0.078480 -0.960507  0.567219  0.519078   \n",
       "222254  0.218703  0.937836 -0.669641 -0.154342  0.388547 -0.668786 -0.143498   \n",
       "221679  1.913739 -0.802655 -0.783270 -1.028325 -0.058540  0.952319 -0.907332   \n",
       "\n",
       "              V8        V9       V10       V11       V12       V13       V14  \\\n",
       "80863  -0.160211  0.170362 -0.044575 -0.356749 -0.073460 -0.517760  0.406969   \n",
       "35521   0.059632 -1.980021  1.447301 -0.094626 -1.065870  0.517367 -0.598702   \n",
       "11717   0.087120  1.732191 -1.488289  0.359036 -1.766809  2.373478  0.650105   \n",
       "222254 -2.980654 -0.389590 -0.979103 -1.353385 -0.016372 -1.125787  1.011845   \n",
       "221679  0.457399  1.631972 -0.522016 -0.240486  0.123593 -0.877798  0.265922   \n",
       "\n",
       "             V15       V16       V17       V18       V19       V20       V21  \\\n",
       "80863   1.124147  0.342470 -0.374656 -0.438992 -0.116091 -0.132080 -0.262581   \n",
       "35521   1.456061 -0.932074  1.086826  0.142174  0.189911 -0.371194  0.075282   \n",
       "11717  -1.077059 -0.530218  1.107549 -0.673870 -0.007732  0.371242 -0.162851   \n",
       "222254 -0.750857 -0.274635 -0.088236 -0.618918 -0.271763  0.402438 -1.290661   \n",
       "221679  2.147953 -0.523533  0.364879 -1.530706 -0.804835 -0.282553 -0.111758   \n",
       "\n",
       "             V22       V23       V24       V25       V26       V27       V28  \\\n",
       "80863  -0.816264  0.140304  0.357827  0.186423  0.096544 -0.035866  0.018495   \n",
       "35521   0.945697  0.918384  0.384133 -0.237373  0.068078  0.125960 -0.042035   \n",
       "11717  -0.264086  0.426659  0.091449 -0.288418  0.884637 -0.080061  0.025521   \n",
       "222254  0.412819 -0.144995 -0.083913  0.754766  0.401134  0.056396  0.267991   \n",
       "221679 -0.201889  0.521655 -0.450327 -0.871367  0.409314  0.000881 -0.052602   \n",
       "\n",
       "        Amount  Class  \n",
       "80863     8.99      0  \n",
       "35521    11.00      0  \n",
       "11717   197.84      0  \n",
       "222254    1.00      0  \n",
       "221679   15.02      0  "
      ],
      "text/html": "<div>\n<style scoped>\n    .dataframe tbody tr th:only-of-type {\n        vertical-align: middle;\n    }\n\n    .dataframe tbody tr th {\n        vertical-align: top;\n    }\n\n    .dataframe thead th {\n        text-align: right;\n    }\n</style>\n<table border=\"1\" class=\"dataframe\">\n  <thead>\n    <tr style=\"text-align: right;\">\n      <th></th>\n      <th>V1</th>\n      <th>V2</th>\n      <th>V3</th>\n      <th>V4</th>\n      <th>V5</th>\n      <th>V6</th>\n      <th>V7</th>\n      <th>V8</th>\n      <th>V9</th>\n      <th>V10</th>\n      <th>V11</th>\n      <th>V12</th>\n      <th>V13</th>\n      <th>V14</th>\n      <th>V15</th>\n      <th>V16</th>\n      <th>V17</th>\n      <th>V18</th>\n      <th>V19</th>\n      <th>V20</th>\n      <th>V21</th>\n      <th>V22</th>\n      <th>V23</th>\n      <th>V24</th>\n      <th>V25</th>\n      <th>V26</th>\n      <th>V27</th>\n      <th>V28</th>\n      <th>Amount</th>\n      <th>Class</th>\n    </tr>\n  </thead>\n  <tbody>\n    <tr>\n      <th>80863</th>\n      <td>1.245674</td>\n      <td>0.166975</td>\n      <td>0.488306</td>\n      <td>0.635322</td>\n      <td>-0.562777</td>\n      <td>-1.011073</td>\n      <td>0.014953</td>\n      <td>-0.160211</td>\n      <td>0.170362</td>\n      <td>-0.044575</td>\n      <td>-0.356749</td>\n      <td>-0.073460</td>\n      <td>-0.517760</td>\n      <td>0.406969</td>\n      <td>1.124147</td>\n      <td>0.342470</td>\n      <td>-0.374656</td>\n      <td>-0.438992</td>\n      <td>-0.116091</td>\n      <td>-0.132080</td>\n      <td>-0.262581</td>\n      <td>-0.816264</td>\n      <td>0.140304</td>\n      <td>0.357827</td>\n      <td>0.186423</td>\n      <td>0.096544</td>\n      <td>-0.035866</td>\n      <td>0.018495</td>\n      <td>8.99</td>\n      <td>0</td>\n    </tr>\n    <tr>\n      <th>35521</th>\n      <td>-0.882173</td>\n      <td>-1.725795</td>\n      <td>1.780052</td>\n      <td>-0.960257</td>\n      <td>-0.873474</td>\n      <td>-0.734802</td>\n      <td>-1.257349</td>\n      <td>0.059632</td>\n      <td>-1.980021</td>\n      <td>1.447301</td>\n      <td>-0.094626</td>\n      <td>-1.065870</td>\n      <td>0.517367</td>\n      <td>-0.598702</td>\n      <td>1.456061</td>\n      <td>-0.932074</td>\n      <td>1.086826</td>\n      <td>0.142174</td>\n      <td>0.189911</td>\n      <td>-0.371194</td>\n      <td>0.075282</td>\n      <td>0.945697</td>\n      <td>0.918384</td>\n      <td>0.384133</td>\n      <td>-0.237373</td>\n      <td>0.068078</td>\n      <td>0.125960</td>\n      <td>-0.042035</td>\n      <td>11.00</td>\n      <td>0</td>\n    </tr>\n    <tr>\n      <th>11717</th>\n      <td>-0.632820</td>\n      <td>-0.080301</td>\n      <td>2.062261</td>\n      <td>-0.078480</td>\n      <td>-0.960507</td>\n      <td>0.567219</td>\n      <td>0.519078</td>\n      <td>0.087120</td>\n      <td>1.732191</td>\n      <td>-1.488289</td>\n      <td>0.359036</td>\n      <td>-1.766809</td>\n      <td>2.373478</td>\n      <td>0.650105</td>\n      <td>-1.077059</td>\n      <td>-0.530218</td>\n      <td>1.107549</td>\n      <td>-0.673870</td>\n      <td>-0.007732</td>\n      <td>0.371242</td>\n      <td>-0.162851</td>\n      <td>-0.264086</td>\n      <td>0.426659</td>\n      <td>0.091449</td>\n      <td>-0.288418</td>\n      <td>0.884637</td>\n      <td>-0.080061</td>\n      <td>0.025521</td>\n      <td>197.84</td>\n      <td>0</td>\n    </tr>\n    <tr>\n      <th>222254</th>\n      <td>0.218703</td>\n      <td>0.937836</td>\n      <td>-0.669641</td>\n      <td>-0.154342</td>\n      <td>0.388547</td>\n      <td>-0.668786</td>\n      <td>-0.143498</td>\n      <td>-2.980654</td>\n      <td>-0.389590</td>\n      <td>-0.979103</td>\n      <td>-1.353385</td>\n      <td>-0.016372</td>\n      <td>-1.125787</td>\n      <td>1.011845</td>\n      <td>-0.750857</td>\n      <td>-0.274635</td>\n      <td>-0.088236</td>\n      <td>-0.618918</td>\n      <td>-0.271763</td>\n      <td>0.402438</td>\n      <td>-1.290661</td>\n      <td>0.412819</td>\n      <td>-0.144995</td>\n      <td>-0.083913</td>\n      <td>0.754766</td>\n      <td>0.401134</td>\n      <td>0.056396</td>\n      <td>0.267991</td>\n      <td>1.00</td>\n      <td>0</td>\n    </tr>\n    <tr>\n      <th>221679</th>\n      <td>1.913739</td>\n      <td>-0.802655</td>\n      <td>-0.783270</td>\n      <td>-1.028325</td>\n      <td>-0.058540</td>\n      <td>0.952319</td>\n      <td>-0.907332</td>\n      <td>0.457399</td>\n      <td>1.631972</td>\n      <td>-0.522016</td>\n      <td>-0.240486</td>\n      <td>0.123593</td>\n      <td>-0.877798</td>\n      <td>0.265922</td>\n      <td>2.147953</td>\n      <td>-0.523533</td>\n      <td>0.364879</td>\n      <td>-1.530706</td>\n      <td>-0.804835</td>\n      <td>-0.282553</td>\n      <td>-0.111758</td>\n      <td>-0.201889</td>\n      <td>0.521655</td>\n      <td>-0.450327</td>\n      <td>-0.871367</td>\n      <td>0.409314</td>\n      <td>0.000881</td>\n      <td>-0.052602</td>\n      <td>15.02</td>\n      <td>0</td>\n    </tr>\n  </tbody>\n</table>\n</div>"
     },
     "metadata": {},
     "execution_count": 4
    }
   ],
   "source": [
    "dataset = load_creditcard_dataset()\n",
    "dataset.head()"
   ]
  },
  {
   "source": [
    "## 2) Setup Development Environment\n",
    "\n",
    "Now that a problem has been stated and some data to help solving the problem has been gathered, the next step is to setup our environment to make use of the mlflow tracking module. In order to do that we need to (i) make sure that our enviroment (the python session that is running this notebook) has acces to the bucket that we created and (ii) Setup an MLFlow Experiment."
   ],
   "cell_type": "markdown",
   "metadata": {}
  },
  {
   "cell_type": "code",
   "execution_count": 5,
   "metadata": {},
   "outputs": [],
   "source": [
    "# Setting credentials to bucket (here is harder  coded for )\n",
    "# Here you set the credentials created in the .env file\n",
    "os.environ['MLFLOW_S3_ENDPOINT_URL'] = 'http://127.0.0.1:9000'\n",
    "os.environ['AWS_ACCESS_KEY_ID'] = os.getenv('MINIO_ACCESS_KEY')\n",
    "os.environ['AWS_SECRET_ACCESS_KEY'] = os.getenv('MINIO_SECRET_KEY')"
   ]
  },
  {
   "source": [
    "**MLFlow is built upon the concept of experiments. A experiment is a series of fits, where parameters, metrics, models and artifacts can be associated with the respective fit (in an machine learning package agnostic way).**\n",
    "\n",
    "The code bellow tries to create an experiment, if that experiments already existis then it sets the experiment to the active one."
   ],
   "cell_type": "markdown",
   "metadata": {}
  },
  {
   "cell_type": "code",
   "execution_count": 6,
   "metadata": {
    "tags": []
   },
   "outputs": [],
   "source": [
    "mlflow.set_tracking_uri(TRACKING_URI)\n",
    "try:\n",
    "    experiment = mlflow.create_experiment(EXPERIMENT_NAME)\n",
    "except Exception:\n",
    "    client = MlflowClient()\n",
    "    experiment = client.get_experiment_by_name(EXPERIMENT_NAME)\n",
    "\n",
    "mlflow.set_experiment(EXPERIMENT_NAME)"
   ]
  },
  {
   "source": [
    "## 3) Training different Models\n",
    "\n",
    "The next step if to train, evaluate and log a few different models. In order to demonstrate that MLFlow allows us to use different machine learning packages we will train an H2O autoML, SkLearn models (using pycaret) and spark. Now is the time where MLFlow is put into action: For each model that if fitted it will be logged a few parameters, metrics, artifacts and the models it self. To understand how this is done it checkout the classifiers definitions in the `./trainers` folder and the [MLFlow Logging Documentaion](https://www.mlflow.org/docs/latest/tracking.html#logging-data-to-runs), it all happens inside the `mlflow.start_run()` context manager. "
   ],
   "cell_type": "markdown",
   "metadata": {}
  },
  {
   "cell_type": "code",
   "execution_count": 8,
   "metadata": {},
   "outputs": [
    {
     "output_type": "stream",
     "name": "stdout",
     "text": [
      "Checking whether there is an H2O instance running at http://localhost:54321 . connected.\n"
     ]
    },
    {
     "output_type": "display_data",
     "data": {
      "text/plain": "--------------------------  ------------------------------------------------------------------\nH2O_cluster_uptime:         1 min 28 secs\nH2O_cluster_timezone:       America/Sao_Paulo\nH2O_data_parsing_timezone:  UTC\nH2O_cluster_version:        3.32.1.1\nH2O_cluster_version_age:    1 month and 25 days\nH2O_cluster_name:           H2O_from_python_vinicius_ai63is\nH2O_cluster_total_nodes:    1\nH2O_cluster_free_memory:    2.993 Gb\nH2O_cluster_total_cores:    8\nH2O_cluster_allowed_cores:  8\nH2O_cluster_status:         locked, healthy\nH2O_connection_url:         http://localhost:54321\nH2O_connection_proxy:       {\"http\": null, \"https\": null}\nH2O_internal_security:      False\nH2O_API_Extensions:         Amazon S3, XGBoost, Algos, AutoML, Core V3, TargetEncoder, Core V4\nPython_version:             3.8.5 final\n--------------------------  ------------------------------------------------------------------",
      "text/html": "<div style=\"overflow:auto\"><table style=\"width:50%\"><tr><td>H2O_cluster_uptime:</td>\n<td>1 min 28 secs</td></tr>\n<tr><td>H2O_cluster_timezone:</td>\n<td>America/Sao_Paulo</td></tr>\n<tr><td>H2O_data_parsing_timezone:</td>\n<td>UTC</td></tr>\n<tr><td>H2O_cluster_version:</td>\n<td>3.32.1.1</td></tr>\n<tr><td>H2O_cluster_version_age:</td>\n<td>1 month and 25 days </td></tr>\n<tr><td>H2O_cluster_name:</td>\n<td>H2O_from_python_vinicius_ai63is</td></tr>\n<tr><td>H2O_cluster_total_nodes:</td>\n<td>1</td></tr>\n<tr><td>H2O_cluster_free_memory:</td>\n<td>2.993 Gb</td></tr>\n<tr><td>H2O_cluster_total_cores:</td>\n<td>8</td></tr>\n<tr><td>H2O_cluster_allowed_cores:</td>\n<td>8</td></tr>\n<tr><td>H2O_cluster_status:</td>\n<td>locked, healthy</td></tr>\n<tr><td>H2O_connection_url:</td>\n<td>http://localhost:54321</td></tr>\n<tr><td>H2O_connection_proxy:</td>\n<td>{\"http\": null, \"https\": null}</td></tr>\n<tr><td>H2O_internal_security:</td>\n<td>False</td></tr>\n<tr><td>H2O_API_Extensions:</td>\n<td>Amazon S3, XGBoost, Algos, AutoML, Core V3, TargetEncoder, Core V4</td></tr>\n<tr><td>Python_version:</td>\n<td>3.8.5 final</td></tr></table></div>"
     },
     "metadata": {}
    },
    {
     "output_type": "stream",
     "name": "stdout",
     "text": [
      "Parse progress: |█████████████████████████████████████████████████████████| 100%\n",
      "AutoML progress: |\n",
      "19:12:49.777: User specified a validation frame with cross-validation still enabled. Please note that the models will still be validated using cross-validation only, the validation frame will be used to provide purely informative validation metrics on the trained models.\n",
      "\n",
      "████████████████████████████████████████████████████████| 100%\n",
      "Could not find exact threshold 0.5; using closest threshold found 0.36810806231534454.\n",
      "Could not find exact threshold 0.5; using closest threshold found 0.36810806231534454.\n",
      "Could not find exact threshold 0.5; using closest threshold found 0.36810806231534454.\n",
      "Could not find exact threshold 0.5; using closest threshold found 0.36810806231534454.\n",
      "Could not find exact threshold 0.5; using closest threshold found 0.36810806231534454.\n"
     ]
    },
    {
     "output_type": "execute_result",
     "data": {
      "text/plain": [
       "<trainers.h2o_automl.H2OClassifier at 0x7faf526d1e50>"
      ]
     },
     "metadata": {},
     "execution_count": 8
    }
   ],
   "source": [
    "H2OClassifier(\n",
    "    run_name='H2O',\n",
    "    max_mem_size='3G',\n",
    "    threshold=THRESHOLD,\n",
    "    df=dataset,\n",
    "    target_col='Class',\n",
    "    sort_metric='aucpr',\n",
    "    max_models=8,\n",
    "    max_runtime_secs=10,\n",
    "    nfolds=FOLDS,\n",
    "    seed=90\n",
    ")"
   ]
  },
  {
   "cell_type": "code",
   "execution_count": 9,
   "metadata": {
    "tags": []
   },
   "outputs": [
    {
     "output_type": "display_data",
     "data": {
      "text/plain": "                 Parameters\nn_components           None\npriors                 None\nshrinkage              None\nsolver                  svd\nstore_covariance      False\ntol                  0.0001",
      "text/html": "<div>\n<style scoped>\n    .dataframe tbody tr th:only-of-type {\n        vertical-align: middle;\n    }\n\n    .dataframe tbody tr th {\n        vertical-align: top;\n    }\n\n    .dataframe thead th {\n        text-align: right;\n    }\n</style>\n<table border=\"1\" class=\"dataframe\">\n  <thead>\n    <tr style=\"text-align: right;\">\n      <th></th>\n      <th>Parameters</th>\n    </tr>\n  </thead>\n  <tbody>\n    <tr>\n      <th>n_components</th>\n      <td>None</td>\n    </tr>\n    <tr>\n      <th>priors</th>\n      <td>None</td>\n    </tr>\n    <tr>\n      <th>shrinkage</th>\n      <td>None</td>\n    </tr>\n    <tr>\n      <th>solver</th>\n      <td>svd</td>\n    </tr>\n    <tr>\n      <th>store_covariance</th>\n      <td>False</td>\n    </tr>\n    <tr>\n      <th>tol</th>\n      <td>0.0001</td>\n    </tr>\n  </tbody>\n</table>\n</div>"
     },
     "metadata": {}
    },
    {
     "output_type": "stream",
     "name": "stdout",
     "text": [
      "Error in logging parameter for                                 pycaret_precision_2\n",
      "[Errno 2] No such file or directory: 'Hyperparameters.png'\n"
     ]
    },
    {
     "output_type": "execute_result",
     "data": {
      "text/plain": [
       "<trainers.pycaret.PycaretClassifier at 0x7faf34558d60>"
      ]
     },
     "metadata": {},
     "execution_count": 9
    }
   ],
   "source": [
    "PycaretClassifier(\n",
    "        experiment_name=EXPERIMENT_NAME,\n",
    "        run_name='Pycaret2',\n",
    "        sort_metric='precision',\n",
    "        df=dataset,\n",
    "        target='Class',\n",
    "        threshold=THRESHOLD,\n",
    "        n_best_models=3,\n",
    "        data_split_stratify=True,\n",
    "        nfolds=FOLDS,\n",
    "        normalize=True,\n",
    "        transformation=True,\n",
    "        ignore_low_variance=True,\n",
    "        remove_multicollinearity=True,\n",
    "        multicollinearity_threshold=0.95,\n",
    "        session_id=54321\n",
    ")"
   ]
  },
  {
   "cell_type": "code",
   "execution_count": 10,
   "metadata": {},
   "outputs": [
    {
     "output_type": "execute_result",
     "data": {
      "text/plain": [
       "<trainers.spark.SparkClassifier at 0x7fe32bb66310>"
      ]
     },
     "metadata": {},
     "execution_count": 10
    }
   ],
   "source": [
    "SparkClassifier(\n",
    "    df = dataset,\n",
    "    target_col = 'Class',\n",
    "    run_name = 'spark_classifier',\n",
    "    max_mem_size = 4,\n",
    "    n_cores = 4,\n",
    "    seed = 90\n",
    ")"
   ]
  },
  {
   "source": [
    "If everything runned as expected you can now check the MLFlow Server at [http://127.0.0.1:5000](http://127.0.0.1:5000) to compare and explore the models runs."
   ],
   "cell_type": "markdown",
   "metadata": {}
  },
  {
   "source": [
    "## 4) Setting the Best Model to Production\n",
    "\n",
    "The final step in this notebook if to set to production the model with the best selected metric, imported as `CHAMPION_METRIC`. This is done to show is is possible to create an automated workflow using MLFlow to deplot a model. However it is also possible to deplot the model using the [UI server](https://www.mlflow.org/docs/latest/model-registry.html#ui-workflow).\n",
    "\n",
    "Once this is done you can return to the README file to check how the model is now deployed."
   ],
   "cell_type": "markdown",
   "metadata": {}
  },
  {
   "cell_type": "code",
   "execution_count": 10,
   "metadata": {},
   "outputs": [
    {
     "output_type": "stream",
     "name": "stderr",
     "text": [
      "Registered model 'CreditCardDefault' already exists. Creating a new version of this model...\n",
      "2021/05/19 09:02:38 INFO mlflow.tracking._model_registry.client: Waiting up to 300 seconds for model version to finish creation.                     Model name: CreditCardDefault, version 3\n",
      "Created version '3' of model 'CreditCardDefault'.\n"
     ]
    },
    {
     "output_type": "execute_result",
     "data": {
      "text/plain": [
       "<ModelVersion: creation_timestamp=1621425758707, current_stage='Staging', description='Deploying model with model registery', last_updated_timestamp=1621425758825, name='CreditCardDefault', run_id='c325b227a2d24a3994ca8e75b0201117', run_link='', source='/media/vinicius/Dados/projects/ml-pipes/mlflow_artifact_store/1/c325b227a2d24a3994ca8e75b0201117/artifacts/model', status='READY', status_message='', tags={}, user_id='', version='3'>"
      ]
     },
     "metadata": {},
     "execution_count": 10
    }
   ],
   "source": [
    "# Getting The best Model according to CHAMPION_METRIC\n",
    "champion = MlflowClient().search_runs(\n",
    "    experiment_ids=[\n",
    "        str(\n",
    "            mlflow.get_experiment_by_name(name=EXPERIMENT_NAME).experiment_id\n",
    "        )\n",
    "    ],\n",
    "    run_view_type=ViewType.ALL,\n",
    "    order_by=[f\"metrics.{CHAMPION_METRIC} DESC\"],\n",
    "    max_results=1\n",
    ")\n",
    "run_id = champion[0].info.run_id\n",
    "\n",
    "# Registering Model in model registery\n",
    "model = mlflow.register_model(\n",
    "    model_uri=f\"runs:/{run_id}/model\",\n",
    "    name=CREDIT_CARD_MODEL_NAME\n",
    ")\n",
    "\n",
    "# Setting version 1\n",
    "MlflowClient().update_model_version(\n",
    "    name=CREDIT_CARD_MODEL_NAME,\n",
    "    version=model.version,\n",
    "    description='Deploying model with model registery'\n",
    ")\n",
    "\n",
    "# Setting it to production\n",
    "MlflowClient().transition_model_version_stage(\n",
    "    name=CREDIT_CARD_MODEL_NAME,\n",
    "    version=model.version,\n",
    "    stage=\"Staging\"\n",
    ")"
   ]
  },
  {
   "cell_type": "code",
   "execution_count": null,
   "metadata": {},
   "outputs": [],
   "source": []
  }
 ]
}