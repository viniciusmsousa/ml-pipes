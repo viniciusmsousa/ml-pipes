{
 "metadata": {
  "language_info": {
   "codemirror_mode": {
    "name": "ipython",
    "version": 3
   },
   "file_extension": ".py",
   "mimetype": "text/x-python",
   "name": "python",
   "nbconvert_exporter": "python",
   "pygments_lexer": "ipython3",
   "version": "3.8.5"
  },
  "orig_nbformat": 2,
  "kernelspec": {
   "name": "python385jvsc74a57bd091e54437ba924c8ff0ef21fd935a5cc04c16b591cf97d51ec85aa641f4cda69d",
   "display_name": "Python 3.8.5 64-bit ('ml-pipes-VBbH4xSK-py3.8': venv)",
   "language": "python"
  },
  "metadata": {
   "interpreter": {
    "hash": "91e54437ba924c8ff0ef21fd935a5cc04c16b591cf97d51ec85aa641f4cda69d"
   }
  }
 },
 "nbformat": 4,
 "nbformat_minor": 2,
 "cells": [
  {
   "source": [
    "# Ml-Pipes\n",
    "\n",
    "The objective of this project is to present a gentle introduction of how a machine learning model can be trained and deployed. And how [MLFlow](https://www.mlflow.org/), [FastAPI](https://fastapi.tiangolo.com/) and [Docker](https://docs.docker.com/) can facilite a couple aspects of such a task. Within this context, this notebook represents the development part of the model, where a data scientist would create a few models, evaluate it using some metrics and select the best one based in a metric. There are a lot of different machine learning tools that can be used in order to create models. It is important to note that the objective of this notebook is to give a broad overview of and end to end machine learning process, and therefore it is recommended to have the documentation of the frameworks used here as a companion. Also, the README file from the project explains how to reproduce the whole project.\n",
    "\n",
    "The rest of the notebook is organized as follows\n",
    "- 1) The Problem;\n",
    "- 2) Setting up an MLFlow Experiment;\n",
    "- 3) Training different Models;\n",
    "- 4) Setting the Best Model to Production.\n",
    "\n",
    "The code bellow imports everything that will be used throughout the notebook."
   ],
   "cell_type": "markdown",
   "metadata": {}
  },
  {
   "cell_type": "code",
   "execution_count": 1,
   "metadata": {},
   "outputs": [],
   "source": [
    "# Import Libs\n",
    "import pandas as pd\n",
    "pd.set_option('display.max_columns', 500)\n",
    "\n",
    "import mlflow\n",
    "from mlflow.tracking import MlflowClient\n",
    "from mlflow.entities import ViewType\n",
    "\n",
    "from settings import EXPERIMENT_NAME, FOLDS, CREDIT_CARD_MODEL_NAME,\\\n",
    "     CHAMPION_METRIC, THRESHOLD  # pylint: disable=import-error\n",
    "from dao.CreditCardDefault \\\n",
    "    import load_creditcard_dataset  # pylint: disable=import-error\n",
    "\n",
    "from trainers.h2o_automl import H2OClassifier  # pylint: disable=import-error\n",
    "from trainers.pycaret import PycaretClassifier  # pylint: disable=import-error\n",
    "from trainers.spark import SparkClassifier\n"
   ]
  },
  {
   "source": [
    "## 1) The problem\n",
    "\n",
    "The first thing we need to have to build a model is a problem to solve. Here it is used as example the [Credit Card Default from Kagle](https://www.kaggle.com/mlg-ulb/creditcardfraud), where basically the objective if to predict based on a few features whether or not a client will default on its credit card. The taret variable can assume the values 1, for default, and 0 for non default. Therefore it is a binary classification problem.\n",
    "\n",
    "Bellow the dataset is imported and the first rows of the dataset. Note that the Time column has been removed from the original dataset."
   ],
   "cell_type": "markdown",
   "metadata": {}
  },
  {
   "cell_type": "code",
   "execution_count": 2,
   "metadata": {},
   "outputs": [
    {
     "output_type": "execute_result",
     "data": {
      "text/plain": [
       "              V1        V2        V3        V4        V5        V6        V7  \\\n",
       "68845  -0.998343  0.641091  1.088884 -0.738617  0.957973 -0.382510  0.931253   \n",
       "247541 -0.716504 -0.413574  2.192305 -2.448089 -0.088301  1.349923 -0.744641   \n",
       "19085   1.176214  0.143430  0.800902  0.663136 -0.576966 -0.573517 -0.165220   \n",
       "174248  2.097365  0.002373 -1.886971  0.441321  0.600840 -0.772248  0.472642   \n",
       "2784   -2.106211  0.577057  1.717694  1.444458 -0.291290  1.200384  0.382507   \n",
       "\n",
       "              V8        V9       V10       V11       V12       V13       V14  \\\n",
       "68845   0.033828 -0.861026 -0.498659  1.120652  0.460317 -0.506587  0.588127   \n",
       "247541  0.569540 -0.262896 -0.496400 -0.799800 -0.273611  0.105582 -1.248839   \n",
       "19085  -0.055699  0.113294 -0.128330  0.307778  0.733804  0.653405  0.096494   \n",
       "174248 -0.345949  0.365600  0.124068 -1.201862  0.195007 -0.075479  0.396852   \n",
       "2784   -0.271320  1.875879  1.899204  0.920970  1.155478 -0.267004 -1.663355   \n",
       "\n",
       "             V15       V16       V17       V18       V19       V20       V21  \\\n",
       "68845  -0.235785  0.201504 -0.576826 -0.595309 -0.354798 -0.203423 -0.244445   \n",
       "247541 -2.212797  1.592573 -0.374872 -0.336119  0.970103  0.129017  0.121044   \n",
       "19085   1.314621 -0.009988 -0.101657 -0.896489 -0.730990 -0.099048 -0.049434   \n",
       "174248 -0.392231 -0.460740 -0.228219 -0.664436  0.266854 -0.192546 -0.049559   \n",
       "2784   -1.837417 -1.697223  0.482872 -0.786058  1.534240 -0.004477 -0.571590   \n",
       "\n",
       "             V22       V23       V24       V25       V26       V27       V28  \\\n",
       "68845  -0.862160 -0.091341 -0.320700 -0.166933  0.009657 -0.074248  0.064860   \n",
       "247541  0.400631 -0.511535 -0.317870  0.667286 -0.137734  0.057048  0.046901   \n",
       "19085  -0.071165  0.127330  0.427297  0.163114  0.238571  0.000802  0.021950   \n",
       "174248  0.018541  0.059929  0.523290  0.274317  0.361685 -0.089921 -0.068673   \n",
       "2784   -0.227883  0.050134  0.017689 -0.338141 -0.687573 -1.906314 -0.920435   \n",
       "\n",
       "        Amount  Class  \n",
       "68845    38.90      0  \n",
       "247541    5.80      0  \n",
       "19085     5.37      0  \n",
       "174248   12.99      0  \n",
       "2784     35.99      0  "
      ],
      "text/html": "<div>\n<style scoped>\n    .dataframe tbody tr th:only-of-type {\n        vertical-align: middle;\n    }\n\n    .dataframe tbody tr th {\n        vertical-align: top;\n    }\n\n    .dataframe thead th {\n        text-align: right;\n    }\n</style>\n<table border=\"1\" class=\"dataframe\">\n  <thead>\n    <tr style=\"text-align: right;\">\n      <th></th>\n      <th>V1</th>\n      <th>V2</th>\n      <th>V3</th>\n      <th>V4</th>\n      <th>V5</th>\n      <th>V6</th>\n      <th>V7</th>\n      <th>V8</th>\n      <th>V9</th>\n      <th>V10</th>\n      <th>V11</th>\n      <th>V12</th>\n      <th>V13</th>\n      <th>V14</th>\n      <th>V15</th>\n      <th>V16</th>\n      <th>V17</th>\n      <th>V18</th>\n      <th>V19</th>\n      <th>V20</th>\n      <th>V21</th>\n      <th>V22</th>\n      <th>V23</th>\n      <th>V24</th>\n      <th>V25</th>\n      <th>V26</th>\n      <th>V27</th>\n      <th>V28</th>\n      <th>Amount</th>\n      <th>Class</th>\n    </tr>\n  </thead>\n  <tbody>\n    <tr>\n      <th>68845</th>\n      <td>-0.998343</td>\n      <td>0.641091</td>\n      <td>1.088884</td>\n      <td>-0.738617</td>\n      <td>0.957973</td>\n      <td>-0.382510</td>\n      <td>0.931253</td>\n      <td>0.033828</td>\n      <td>-0.861026</td>\n      <td>-0.498659</td>\n      <td>1.120652</td>\n      <td>0.460317</td>\n      <td>-0.506587</td>\n      <td>0.588127</td>\n      <td>-0.235785</td>\n      <td>0.201504</td>\n      <td>-0.576826</td>\n      <td>-0.595309</td>\n      <td>-0.354798</td>\n      <td>-0.203423</td>\n      <td>-0.244445</td>\n      <td>-0.862160</td>\n      <td>-0.091341</td>\n      <td>-0.320700</td>\n      <td>-0.166933</td>\n      <td>0.009657</td>\n      <td>-0.074248</td>\n      <td>0.064860</td>\n      <td>38.90</td>\n      <td>0</td>\n    </tr>\n    <tr>\n      <th>247541</th>\n      <td>-0.716504</td>\n      <td>-0.413574</td>\n      <td>2.192305</td>\n      <td>-2.448089</td>\n      <td>-0.088301</td>\n      <td>1.349923</td>\n      <td>-0.744641</td>\n      <td>0.569540</td>\n      <td>-0.262896</td>\n      <td>-0.496400</td>\n      <td>-0.799800</td>\n      <td>-0.273611</td>\n      <td>0.105582</td>\n      <td>-1.248839</td>\n      <td>-2.212797</td>\n      <td>1.592573</td>\n      <td>-0.374872</td>\n      <td>-0.336119</td>\n      <td>0.970103</td>\n      <td>0.129017</td>\n      <td>0.121044</td>\n      <td>0.400631</td>\n      <td>-0.511535</td>\n      <td>-0.317870</td>\n      <td>0.667286</td>\n      <td>-0.137734</td>\n      <td>0.057048</td>\n      <td>0.046901</td>\n      <td>5.80</td>\n      <td>0</td>\n    </tr>\n    <tr>\n      <th>19085</th>\n      <td>1.176214</td>\n      <td>0.143430</td>\n      <td>0.800902</td>\n      <td>0.663136</td>\n      <td>-0.576966</td>\n      <td>-0.573517</td>\n      <td>-0.165220</td>\n      <td>-0.055699</td>\n      <td>0.113294</td>\n      <td>-0.128330</td>\n      <td>0.307778</td>\n      <td>0.733804</td>\n      <td>0.653405</td>\n      <td>0.096494</td>\n      <td>1.314621</td>\n      <td>-0.009988</td>\n      <td>-0.101657</td>\n      <td>-0.896489</td>\n      <td>-0.730990</td>\n      <td>-0.099048</td>\n      <td>-0.049434</td>\n      <td>-0.071165</td>\n      <td>0.127330</td>\n      <td>0.427297</td>\n      <td>0.163114</td>\n      <td>0.238571</td>\n      <td>0.000802</td>\n      <td>0.021950</td>\n      <td>5.37</td>\n      <td>0</td>\n    </tr>\n    <tr>\n      <th>174248</th>\n      <td>2.097365</td>\n      <td>0.002373</td>\n      <td>-1.886971</td>\n      <td>0.441321</td>\n      <td>0.600840</td>\n      <td>-0.772248</td>\n      <td>0.472642</td>\n      <td>-0.345949</td>\n      <td>0.365600</td>\n      <td>0.124068</td>\n      <td>-1.201862</td>\n      <td>0.195007</td>\n      <td>-0.075479</td>\n      <td>0.396852</td>\n      <td>-0.392231</td>\n      <td>-0.460740</td>\n      <td>-0.228219</td>\n      <td>-0.664436</td>\n      <td>0.266854</td>\n      <td>-0.192546</td>\n      <td>-0.049559</td>\n      <td>0.018541</td>\n      <td>0.059929</td>\n      <td>0.523290</td>\n      <td>0.274317</td>\n      <td>0.361685</td>\n      <td>-0.089921</td>\n      <td>-0.068673</td>\n      <td>12.99</td>\n      <td>0</td>\n    </tr>\n    <tr>\n      <th>2784</th>\n      <td>-2.106211</td>\n      <td>0.577057</td>\n      <td>1.717694</td>\n      <td>1.444458</td>\n      <td>-0.291290</td>\n      <td>1.200384</td>\n      <td>0.382507</td>\n      <td>-0.271320</td>\n      <td>1.875879</td>\n      <td>1.899204</td>\n      <td>0.920970</td>\n      <td>1.155478</td>\n      <td>-0.267004</td>\n      <td>-1.663355</td>\n      <td>-1.837417</td>\n      <td>-1.697223</td>\n      <td>0.482872</td>\n      <td>-0.786058</td>\n      <td>1.534240</td>\n      <td>-0.004477</td>\n      <td>-0.571590</td>\n      <td>-0.227883</td>\n      <td>0.050134</td>\n      <td>0.017689</td>\n      <td>-0.338141</td>\n      <td>-0.687573</td>\n      <td>-1.906314</td>\n      <td>-0.920435</td>\n      <td>35.99</td>\n      <td>0</td>\n    </tr>\n  </tbody>\n</table>\n</div>"
     },
     "metadata": {},
     "execution_count": 2
    }
   ],
   "source": [
    "dataset = load_creditcard_dataset()\n",
    "dataset.head()"
   ]
  },
  {
   "source": [
    "## 2) Setting up an MLFlow Experiment\n",
    "\n",
    "Now that a problem has been stated and some data to help solving the problem has been gathered, the next step is to setup a MLFlow experiment to log our models. **MLFlow is built upon the concept of experiments. A experiment is a series of fits, where parameters, metrics, models and artifacts can be associated with the respective fit (in an machine learning package agnostic way).**\n",
    "\n",
    "The code bellow tries to create an experiment, if that experiments already existis then it sets the experiment to the active one.\n",
    " "
   ],
   "cell_type": "markdown",
   "metadata": {}
  },
  {
   "cell_type": "code",
   "execution_count": 3,
   "metadata": {},
   "outputs": [],
   "source": [
    "mlflow.set_tracking_uri(\"sqlite:///mlruns.db\")\n",
    "try:\n",
    "    experiment = mlflow.create_experiment(EXPERIMENT_NAME)\n",
    "except Exception:\n",
    "    client = MlflowClient()\n",
    "    experiment = client.get_experiment_by_name(EXPERIMENT_NAME)\n",
    "mlflow.set_experiment(EXPERIMENT_NAME)\n",
    "mlflow.set_tracking_uri(\"sqlite:///mlruns.db\")"
   ]
  },
  {
   "source": [
    "## 3) Training different Models\n",
    "\n",
    "The ext step if to train, evaluate and log a few different models. In order to demonstrate that MLFlow allows us to use different machine learning packages we will train an H2O autoML and SkLearn models (using pycaret). Now is the time where MLFlow is put into action: For each model that if fitted it will be logged a few parameters, metrics, artifacts and the models it self. To understand how this is done it checkout the classifiers definitions in `src/trainers/` folder and the [MLFlow Logging Documentaion](https://www.mlflow.org/docs/latest/tracking.html#logging-data-to-runs), ot all happens inside the `mlflow.start_run()` context manager. \n",
    "\n",
    "The next cells will train different classifiers. Once they finish running you can deploy the [MLFlow Tracking UI](https://www.mlflow.org/docs/latest/tracking.html#tracking-ui) by executing `mlflow ui -p 5000 --backend-store-uri sqlite:///mlruns.db` in the terminal inside the `src/` folder. and see the results at [127.0.0.1:5000](127.0.0.1:5000)."
   ],
   "cell_type": "markdown",
   "metadata": {}
  },
  {
   "cell_type": "code",
   "execution_count": 5,
   "metadata": {},
   "outputs": [
    {
     "output_type": "stream",
     "name": "stdout",
     "text": [
      "Checking whether there is an H2O instance running at http://localhost:54321 ..... not found.\n",
      "Attempting to start a local H2O server...\n",
      "  Java Version: openjdk version \"11.0.11\" 2021-04-20; OpenJDK Runtime Environment (build 11.0.11+9-Ubuntu-0ubuntu2.20.04); OpenJDK 64-Bit Server VM (build 11.0.11+9-Ubuntu-0ubuntu2.20.04, mixed mode, sharing)\n",
      "  Starting server from /media/vinicius/Dados/poetry/virtualenvs/ml-pipes-VBbH4xSK-py3.8/lib/python3.8/site-packages/h2o/backend/bin/h2o.jar\n",
      "  Ice root: /tmp/tmpm4g3x_95\n",
      "  JVM stdout: /tmp/tmpm4g3x_95/h2o_vinicius_started_from_python.out\n",
      "  JVM stderr: /tmp/tmpm4g3x_95/h2o_vinicius_started_from_python.err\n",
      "  Server is running at http://127.0.0.1:54321\n",
      "Connecting to H2O server at http://127.0.0.1:54321 ... successful.\n"
     ]
    },
    {
     "output_type": "display_data",
     "data": {
      "text/plain": "--------------------------  ------------------------------------------------------------------\nH2O_cluster_uptime:         01 secs\nH2O_cluster_timezone:       America/Sao_Paulo\nH2O_data_parsing_timezone:  UTC\nH2O_cluster_version:        3.32.1.1\nH2O_cluster_version_age:    1 month and 17 days\nH2O_cluster_name:           H2O_from_python_vinicius_0nznbh\nH2O_cluster_total_nodes:    1\nH2O_cluster_free_memory:    3 Gb\nH2O_cluster_total_cores:    8\nH2O_cluster_allowed_cores:  8\nH2O_cluster_status:         accepting new members, healthy\nH2O_connection_url:         http://127.0.0.1:54321\nH2O_connection_proxy:       {\"http\": null, \"https\": null}\nH2O_internal_security:      False\nH2O_API_Extensions:         Amazon S3, XGBoost, Algos, AutoML, Core V3, TargetEncoder, Core V4\nPython_version:             3.8.5 final\n--------------------------  ------------------------------------------------------------------",
      "text/html": "<div style=\"overflow:auto\"><table style=\"width:50%\"><tr><td>H2O_cluster_uptime:</td>\n<td>01 secs</td></tr>\n<tr><td>H2O_cluster_timezone:</td>\n<td>America/Sao_Paulo</td></tr>\n<tr><td>H2O_data_parsing_timezone:</td>\n<td>UTC</td></tr>\n<tr><td>H2O_cluster_version:</td>\n<td>3.32.1.1</td></tr>\n<tr><td>H2O_cluster_version_age:</td>\n<td>1 month and 17 days </td></tr>\n<tr><td>H2O_cluster_name:</td>\n<td>H2O_from_python_vinicius_0nznbh</td></tr>\n<tr><td>H2O_cluster_total_nodes:</td>\n<td>1</td></tr>\n<tr><td>H2O_cluster_free_memory:</td>\n<td>3 Gb</td></tr>\n<tr><td>H2O_cluster_total_cores:</td>\n<td>8</td></tr>\n<tr><td>H2O_cluster_allowed_cores:</td>\n<td>8</td></tr>\n<tr><td>H2O_cluster_status:</td>\n<td>accepting new members, healthy</td></tr>\n<tr><td>H2O_connection_url:</td>\n<td>http://127.0.0.1:54321</td></tr>\n<tr><td>H2O_connection_proxy:</td>\n<td>{\"http\": null, \"https\": null}</td></tr>\n<tr><td>H2O_internal_security:</td>\n<td>False</td></tr>\n<tr><td>H2O_API_Extensions:</td>\n<td>Amazon S3, XGBoost, Algos, AutoML, Core V3, TargetEncoder, Core V4</td></tr>\n<tr><td>Python_version:</td>\n<td>3.8.5 final</td></tr></table></div>"
     },
     "metadata": {}
    },
    {
     "output_type": "stream",
     "name": "stdout",
     "text": [
      "Parse progress: |█████████████████████████████████████████████████████████| 100%\n",
      "AutoML progress: |\n",
      "19:36:14.309: User specified a validation frame with cross-validation still enabled. Please note that the models will still be validated using cross-validation only, the validation frame will be used to provide purely informative validation metrics on the trained models.\n",
      "\n",
      "████████████████████████████████████████████████████████| 100%\n",
      "Could not find exact threshold 0.5; using closest threshold found 0.6850710478928808.\n",
      "Could not find exact threshold 0.5; using closest threshold found 0.6850710478928808.\n",
      "Could not find exact threshold 0.5; using closest threshold found 0.6850710478928808.\n",
      "Could not find exact threshold 0.5; using closest threshold found 0.6850710478928808.\n",
      "Could not find exact threshold 0.5; using closest threshold found 0.6850710478928808.\n"
     ]
    },
    {
     "output_type": "execute_result",
     "data": {
      "text/plain": [
       "<trainers.h2o_automl.H2OClassifier at 0x7f895bc87af0>"
      ]
     },
     "metadata": {},
     "execution_count": 5
    }
   ],
   "source": [
    "H2OClassifier(\n",
    "    run_name='H2O',\n",
    "    max_mem_size='3G',\n",
    "    threshold=THRESHOLD,\n",
    "    df=dataset,\n",
    "    target_col='Class',\n",
    "    sort_metric='aucpr',\n",
    "    max_models=8,\n",
    "    max_runtime_secs=60,\n",
    "    nfolds=FOLDS,\n",
    "    seed=90\n",
    ")"
   ]
  },
  {
   "cell_type": "code",
   "execution_count": 6,
   "metadata": {
    "tags": []
   },
   "outputs": [
    {
     "output_type": "display_data",
     "data": {
      "text/plain": "                         Parameters\nbootstrap                      True\nccp_alpha                       0.0\nclass_weight                   None\ncriterion                      gini\nmax_depth                      None\nmax_features                   auto\nmax_leaf_nodes                 None\nmax_samples                    None\nmin_impurity_decrease           0.0\nmin_impurity_split             None\nmin_samples_leaf                  1\nmin_samples_split                 2\nmin_weight_fraction_leaf        0.0\nn_estimators                    100\nn_jobs                           -1\noob_score                     False\nrandom_state                  54321\nverbose                           0\nwarm_start                    False",
      "text/html": "<div>\n<style scoped>\n    .dataframe tbody tr th:only-of-type {\n        vertical-align: middle;\n    }\n\n    .dataframe tbody tr th {\n        vertical-align: top;\n    }\n\n    .dataframe thead th {\n        text-align: right;\n    }\n</style>\n<table border=\"1\" class=\"dataframe\">\n  <thead>\n    <tr style=\"text-align: right;\">\n      <th></th>\n      <th>Parameters</th>\n    </tr>\n  </thead>\n  <tbody>\n    <tr>\n      <th>bootstrap</th>\n      <td>True</td>\n    </tr>\n    <tr>\n      <th>ccp_alpha</th>\n      <td>0.0</td>\n    </tr>\n    <tr>\n      <th>class_weight</th>\n      <td>None</td>\n    </tr>\n    <tr>\n      <th>criterion</th>\n      <td>gini</td>\n    </tr>\n    <tr>\n      <th>max_depth</th>\n      <td>None</td>\n    </tr>\n    <tr>\n      <th>max_features</th>\n      <td>auto</td>\n    </tr>\n    <tr>\n      <th>max_leaf_nodes</th>\n      <td>None</td>\n    </tr>\n    <tr>\n      <th>max_samples</th>\n      <td>None</td>\n    </tr>\n    <tr>\n      <th>min_impurity_decrease</th>\n      <td>0.0</td>\n    </tr>\n    <tr>\n      <th>min_impurity_split</th>\n      <td>None</td>\n    </tr>\n    <tr>\n      <th>min_samples_leaf</th>\n      <td>1</td>\n    </tr>\n    <tr>\n      <th>min_samples_split</th>\n      <td>2</td>\n    </tr>\n    <tr>\n      <th>min_weight_fraction_leaf</th>\n      <td>0.0</td>\n    </tr>\n    <tr>\n      <th>n_estimators</th>\n      <td>100</td>\n    </tr>\n    <tr>\n      <th>n_jobs</th>\n      <td>-1</td>\n    </tr>\n    <tr>\n      <th>oob_score</th>\n      <td>False</td>\n    </tr>\n    <tr>\n      <th>random_state</th>\n      <td>54321</td>\n    </tr>\n    <tr>\n      <th>verbose</th>\n      <td>0</td>\n    </tr>\n    <tr>\n      <th>warm_start</th>\n      <td>False</td>\n    </tr>\n  </tbody>\n</table>\n</div>"
     },
     "metadata": {}
    },
    {
     "output_type": "execute_result",
     "data": {
      "text/plain": [
       "<trainers.pycaret.PycaretClassifier at 0x7f89d89b2a00>"
      ]
     },
     "metadata": {},
     "execution_count": 6
    }
   ],
   "source": [
    "PycaretClassifier(\n",
    "        experiment_name=EXPERIMENT_NAME,\n",
    "        run_name='Pycaret',\n",
    "        sort_metric='precision',\n",
    "        df=dataset,\n",
    "        target='Class',\n",
    "        threshold=THRESHOLD,\n",
    "        n_best_models=3,\n",
    "        data_split_stratify=True,\n",
    "        nfolds=FOLDS,\n",
    "        normalize=True,\n",
    "        transformation=True,\n",
    "        ignore_low_variance=True,\n",
    "        remove_multicollinearity=True,\n",
    "        multicollinearity_threshold=0.95,\n",
    "        session_id=54321\n",
    ")"
   ]
  },
  {
   "cell_type": "code",
   "execution_count": 4,
   "metadata": {},
   "outputs": [
    {
     "output_type": "execute_result",
     "data": {
      "text/plain": [
       "<trainers.spark.SparkClassifier at 0x7f9e204f4a60>"
      ]
     },
     "metadata": {},
     "execution_count": 4
    }
   ],
   "source": [
    "SparkClassifier(\n",
    "    df = dataset,\n",
    "    target_col = 'Class',\n",
    "    run_name = 'spark_classifier',\n",
    "    max_mem_size = 4,\n",
    "    n_cores = 4,\n",
    "    seed = 90\n",
    ")"
   ]
  },
  {
   "source": [
    "## 4) Setting the Best Model to Production\n",
    "\n",
    "The final step in this notebook if to set to production the model with the best selected metric, imported as `CHAMPION_METRIC`. This is done to show is is possible to create an automated workflow using MLFlow to deplot a model. However it is also possible to deplot the model using the [UI server](https://www.mlflow.org/docs/latest/model-registry.html#ui-workflow).\n",
    "\n",
    "Once this is done you can return to the README file to check how the model is now deployed."
   ],
   "cell_type": "markdown",
   "metadata": {}
  },
  {
   "cell_type": "code",
   "execution_count": 5,
   "metadata": {},
   "outputs": [
    {
     "output_type": "stream",
     "name": "stderr",
     "text": [
      "Registered model 'CreditCardDefault' already exists. Creating a new version of this model...\n",
      "2021/05/12 19:40:19 INFO mlflow.tracking._model_registry.client: Waiting up to 300 seconds for model version to finish creation.                     Model name: CreditCardDefault, version 3\n",
      "Created version '3' of model 'CreditCardDefault'.\n"
     ]
    },
    {
     "output_type": "execute_result",
     "data": {
      "text/plain": [
       "<ModelVersion: creation_timestamp=1620859218737, current_stage='Production', description='Deploying model with model registery', last_updated_timestamp=1620859219580, name='CreditCardDefault', run_id='498b06c18dbd4d79b3229ccddd7ed9c4', run_link=None, source='./mlruns/1/498b06c18dbd4d79b3229ccddd7ed9c4/artifacts/model', status='READY', status_message=None, tags={}, user_id=None, version=3>"
      ]
     },
     "metadata": {},
     "execution_count": 5
    }
   ],
   "source": [
    "# Getting The best Model according to CHAMPION_METRIC\n",
    "champion = MlflowClient().search_runs(\n",
    "    experiment_ids=[\n",
    "        str(\n",
    "            mlflow.get_experiment_by_name(name=EXPERIMENT_NAME).experiment_id\n",
    "        )\n",
    "    ],\n",
    "    run_view_type=ViewType.ALL,\n",
    "    order_by=[f\"metrics.{CHAMPION_METRIC} DESC\"],\n",
    "    max_results=1\n",
    ")\n",
    "run_id = champion[0].info.run_id\n",
    "\n",
    "# Registering Model in model registery\n",
    "model = mlflow.register_model(\n",
    "    model_uri=f\"runs:/{run_id}/model\",\n",
    "    name=CREDIT_CARD_MODEL_NAME\n",
    ")\n",
    "\n",
    "# Setting version 1\n",
    "MlflowClient().update_model_version(\n",
    "    name=CREDIT_CARD_MODEL_NAME,\n",
    "    version=model.version,\n",
    "    description='Deploying model with model registery'\n",
    ")\n",
    "\n",
    "# Setting it to production\n",
    "MlflowClient().transition_model_version_stage(\n",
    "    name=CREDIT_CARD_MODEL_NAME,\n",
    "    version=model.version,\n",
    "    stage=\"Production\"\n",
    ")"
   ]
  },
  {
   "cell_type": "code",
   "execution_count": null,
   "metadata": {},
   "outputs": [],
   "source": []
  }
 ]
}