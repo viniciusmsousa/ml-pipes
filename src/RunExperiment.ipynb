{
 "metadata": {
  "language_info": {
   "codemirror_mode": {
    "name": "ipython",
    "version": 3
   },
   "file_extension": ".py",
   "mimetype": "text/x-python",
   "name": "python",
   "nbconvert_exporter": "python",
   "pygments_lexer": "ipython3",
   "version": "3.8.5"
  },
  "orig_nbformat": 2,
  "kernelspec": {
   "name": "python385jvsc74a57bd0c9fc4c3811342d18b1d771eeb4454233fe0cc3424ac4c0acdbd253af946cc4c8",
   "display_name": "Python 3.8.5 64-bit ('ml-pipes-VBbH4xSK-py3.8': poetry)"
  },
  "metadata": {
   "interpreter": {
    "hash": "4e3b28acd7a0957c37c0956cd76d2c0402b105ada09a22b696d0c202f94577cc"
   }
  }
 },
 "nbformat": 4,
 "nbformat_minor": 2,
 "cells": [
  {
   "source": [
    "# Ml-Pipes\n",
    "\n",
    "The objective of this project is to present a gentle introduction of how a machine learning model can be trained and deployed. And how [MLFlow](https://www.mlflow.org/), [FastAPI](https://fastapi.tiangolo.com/) and [Docker](https://docs.docker.com/) can facilite a couple aspects of such a task. Within this context, this notebook represents the development part of the model, where a data scientist would create a few models, evaluate it using some metrics and select the best one based in a metric. There are a lot of different machine learning tools that can be used in order to create models. It is important to note that the objective of this notebook is to give a broad overview of and end to end machine learning process, and therefore it is recommended to have the documentation of the frameworks used here as a companion. Also, the README file from the project explains how to reproduce the whole project.\n",
    "\n",
    "The rest of the notebook is organized as follows\n",
    "- 1) The Problem;\n",
    "- 2) Setting up an MLFlow Experiment;\n",
    "- 3) Training different Models;\n",
    "- 4) Setting the Best Model to Production.\n",
    "\n",
    "The code bellow imports everything that will be used throughout the notebook."
   ],
   "cell_type": "markdown",
   "metadata": {}
  },
  {
   "cell_type": "code",
   "execution_count": 1,
   "metadata": {},
   "outputs": [],
   "source": [
    "# Import Libs\n",
    "import pandas as pd\n",
    "pd.set_option('display.max_columns', 500)\n",
    "\n",
    "import mlflow\n",
    "from mlflow.tracking import MlflowClient\n",
    "from mlflow.entities import ViewType\n",
    "\n",
    "from settings import EXPERIMENT_NAME, TRACKING_URI, FOLDS, CREDIT_CARD_MODEL_NAME,\\\n",
    "     CHAMPION_METRIC, THRESHOLD  # pylint: disable=import-error\n",
    "from dao.CreditCardDefault \\\n",
    "    import load_creditcard_dataset  # pylint: disable=import-error\n",
    "\n",
    "from trainers.h2o_automl import H2OClassifier  # pylint: disable=import-error\n",
    "from trainers.pycaret import PycaretClassifier  # pylint: disable=import-error\n",
    "from trainers.spark import SparkClassifier\n"
   ]
  },
  {
   "source": [
    "## 1) The problem\n",
    "\n",
    "The first thing we need to have to build a model is a problem to solve. Here it is used as example the [Credit Card Default from Kagle](https://www.kaggle.com/mlg-ulb/creditcardfraud), where basically the objective if to predict based on a few features whether or not a client will default on its credit card. The taret variable can assume the values 1, for default, and 0 for non default. Therefore it is a binary classification problem.\n",
    "\n",
    "Bellow the dataset is imported and the first rows of the dataset. Note that the Time column has been removed from the original dataset."
   ],
   "cell_type": "markdown",
   "metadata": {}
  },
  {
   "cell_type": "code",
   "execution_count": 2,
   "metadata": {},
   "outputs": [
    {
     "output_type": "execute_result",
     "data": {
      "text/plain": [
       "              V1        V2        V3        V4        V5        V6        V7  \\\n",
       "115755 -0.799734  0.736136  2.833526  0.974067 -0.514931  0.792281 -0.370207   \n",
       "85889  -6.737663  4.100392 -4.472101  0.398944 -3.263179 -0.853346 -4.868432   \n",
       "1609    0.995158 -0.621826 -0.325852 -1.356740 -0.686005 -1.435876  0.409797   \n",
       "74445  -3.085516 -1.232223  0.763441 -0.242930  1.213530 -0.933337 -1.104850   \n",
       "5598   -0.094255  0.373340  1.175382  0.627407 -0.160934  0.310964  0.927078   \n",
       "\n",
       "              V8        V9       V10       V11       V12       V13       V14  \\\n",
       "115755  0.557209 -0.299558  0.031400  1.320422  0.313413 -0.279858  0.070491   \n",
       "85889  -1.311996 -2.131241 -3.351927 -0.124521  1.312198 -2.229997  2.897330   \n",
       "1609   -0.334338  0.685586 -0.915185  1.855483  1.516669  0.161217  0.678325   \n",
       "74445   0.669397  0.619235 -0.260568 -1.388942 -0.316119 -0.494229  0.241798   \n",
       "5598   -0.983293  0.928696  1.421688  0.319144 -2.850179  1.707957  0.491084   \n",
       "\n",
       "             V15       V16       V17       V18       V19       V20       V21  \\\n",
       "115755  1.552428  0.222578 -0.315646  0.984362  0.252127  0.243629  0.346323   \n",
       "85889  -0.572473  2.478137  2.617134  1.442733 -1.011416 -0.356178 -1.992125   \n",
       "1609    0.754820 -0.604068 -0.219514  0.099932  0.984132  0.247418  0.123912   \n",
       "74445   0.993925  1.071331 -0.762457 -0.133627 -1.297000 -0.405427 -0.109123   \n",
       "5598   -0.855800 -2.854832  1.056708  0.772647 -0.624793 -0.585970 -0.559566   \n",
       "\n",
       "             V22       V23       V24       V25       V26       V27       V28  \\\n",
       "115755  1.113320 -0.278916  0.032092  0.103587 -0.026899  0.391301  0.149521   \n",
       "85889   0.446780  0.389360  0.352274 -0.441319 -0.013318 -2.346112 -0.641572   \n",
       "1609    0.111217 -0.238331  0.606093  0.597169 -0.033266 -0.051457  0.024328   \n",
       "74445  -0.241966 -0.984082 -0.689215 -0.614096  0.066562  0.645604 -0.315022   \n",
       "5598   -0.157548  0.158081 -0.007013 -1.211904 -0.627710 -0.852221 -0.525718   \n",
       "\n",
       "        Amount  Class  \n",
       "115755   13.99      0  \n",
       "85889     0.76      0  \n",
       "1609    160.00      0  \n",
       "74445    11.40      0  \n",
       "5598     76.19      0  "
      ],
      "text/html": "<div>\n<style scoped>\n    .dataframe tbody tr th:only-of-type {\n        vertical-align: middle;\n    }\n\n    .dataframe tbody tr th {\n        vertical-align: top;\n    }\n\n    .dataframe thead th {\n        text-align: right;\n    }\n</style>\n<table border=\"1\" class=\"dataframe\">\n  <thead>\n    <tr style=\"text-align: right;\">\n      <th></th>\n      <th>V1</th>\n      <th>V2</th>\n      <th>V3</th>\n      <th>V4</th>\n      <th>V5</th>\n      <th>V6</th>\n      <th>V7</th>\n      <th>V8</th>\n      <th>V9</th>\n      <th>V10</th>\n      <th>V11</th>\n      <th>V12</th>\n      <th>V13</th>\n      <th>V14</th>\n      <th>V15</th>\n      <th>V16</th>\n      <th>V17</th>\n      <th>V18</th>\n      <th>V19</th>\n      <th>V20</th>\n      <th>V21</th>\n      <th>V22</th>\n      <th>V23</th>\n      <th>V24</th>\n      <th>V25</th>\n      <th>V26</th>\n      <th>V27</th>\n      <th>V28</th>\n      <th>Amount</th>\n      <th>Class</th>\n    </tr>\n  </thead>\n  <tbody>\n    <tr>\n      <th>115755</th>\n      <td>-0.799734</td>\n      <td>0.736136</td>\n      <td>2.833526</td>\n      <td>0.974067</td>\n      <td>-0.514931</td>\n      <td>0.792281</td>\n      <td>-0.370207</td>\n      <td>0.557209</td>\n      <td>-0.299558</td>\n      <td>0.031400</td>\n      <td>1.320422</td>\n      <td>0.313413</td>\n      <td>-0.279858</td>\n      <td>0.070491</td>\n      <td>1.552428</td>\n      <td>0.222578</td>\n      <td>-0.315646</td>\n      <td>0.984362</td>\n      <td>0.252127</td>\n      <td>0.243629</td>\n      <td>0.346323</td>\n      <td>1.113320</td>\n      <td>-0.278916</td>\n      <td>0.032092</td>\n      <td>0.103587</td>\n      <td>-0.026899</td>\n      <td>0.391301</td>\n      <td>0.149521</td>\n      <td>13.99</td>\n      <td>0</td>\n    </tr>\n    <tr>\n      <th>85889</th>\n      <td>-6.737663</td>\n      <td>4.100392</td>\n      <td>-4.472101</td>\n      <td>0.398944</td>\n      <td>-3.263179</td>\n      <td>-0.853346</td>\n      <td>-4.868432</td>\n      <td>-1.311996</td>\n      <td>-2.131241</td>\n      <td>-3.351927</td>\n      <td>-0.124521</td>\n      <td>1.312198</td>\n      <td>-2.229997</td>\n      <td>2.897330</td>\n      <td>-0.572473</td>\n      <td>2.478137</td>\n      <td>2.617134</td>\n      <td>1.442733</td>\n      <td>-1.011416</td>\n      <td>-0.356178</td>\n      <td>-1.992125</td>\n      <td>0.446780</td>\n      <td>0.389360</td>\n      <td>0.352274</td>\n      <td>-0.441319</td>\n      <td>-0.013318</td>\n      <td>-2.346112</td>\n      <td>-0.641572</td>\n      <td>0.76</td>\n      <td>0</td>\n    </tr>\n    <tr>\n      <th>1609</th>\n      <td>0.995158</td>\n      <td>-0.621826</td>\n      <td>-0.325852</td>\n      <td>-1.356740</td>\n      <td>-0.686005</td>\n      <td>-1.435876</td>\n      <td>0.409797</td>\n      <td>-0.334338</td>\n      <td>0.685586</td>\n      <td>-0.915185</td>\n      <td>1.855483</td>\n      <td>1.516669</td>\n      <td>0.161217</td>\n      <td>0.678325</td>\n      <td>0.754820</td>\n      <td>-0.604068</td>\n      <td>-0.219514</td>\n      <td>0.099932</td>\n      <td>0.984132</td>\n      <td>0.247418</td>\n      <td>0.123912</td>\n      <td>0.111217</td>\n      <td>-0.238331</td>\n      <td>0.606093</td>\n      <td>0.597169</td>\n      <td>-0.033266</td>\n      <td>-0.051457</td>\n      <td>0.024328</td>\n      <td>160.00</td>\n      <td>0</td>\n    </tr>\n    <tr>\n      <th>74445</th>\n      <td>-3.085516</td>\n      <td>-1.232223</td>\n      <td>0.763441</td>\n      <td>-0.242930</td>\n      <td>1.213530</td>\n      <td>-0.933337</td>\n      <td>-1.104850</td>\n      <td>0.669397</td>\n      <td>0.619235</td>\n      <td>-0.260568</td>\n      <td>-1.388942</td>\n      <td>-0.316119</td>\n      <td>-0.494229</td>\n      <td>0.241798</td>\n      <td>0.993925</td>\n      <td>1.071331</td>\n      <td>-0.762457</td>\n      <td>-0.133627</td>\n      <td>-1.297000</td>\n      <td>-0.405427</td>\n      <td>-0.109123</td>\n      <td>-0.241966</td>\n      <td>-0.984082</td>\n      <td>-0.689215</td>\n      <td>-0.614096</td>\n      <td>0.066562</td>\n      <td>0.645604</td>\n      <td>-0.315022</td>\n      <td>11.40</td>\n      <td>0</td>\n    </tr>\n    <tr>\n      <th>5598</th>\n      <td>-0.094255</td>\n      <td>0.373340</td>\n      <td>1.175382</td>\n      <td>0.627407</td>\n      <td>-0.160934</td>\n      <td>0.310964</td>\n      <td>0.927078</td>\n      <td>-0.983293</td>\n      <td>0.928696</td>\n      <td>1.421688</td>\n      <td>0.319144</td>\n      <td>-2.850179</td>\n      <td>1.707957</td>\n      <td>0.491084</td>\n      <td>-0.855800</td>\n      <td>-2.854832</td>\n      <td>1.056708</td>\n      <td>0.772647</td>\n      <td>-0.624793</td>\n      <td>-0.585970</td>\n      <td>-0.559566</td>\n      <td>-0.157548</td>\n      <td>0.158081</td>\n      <td>-0.007013</td>\n      <td>-1.211904</td>\n      <td>-0.627710</td>\n      <td>-0.852221</td>\n      <td>-0.525718</td>\n      <td>76.19</td>\n      <td>0</td>\n    </tr>\n  </tbody>\n</table>\n</div>"
     },
     "metadata": {},
     "execution_count": 2
    }
   ],
   "source": [
    "dataset = load_creditcard_dataset()\n",
    "dataset.head()"
   ]
  },
  {
   "source": [
    "## 2) Setting up an MLFlow Experiment\n",
    "\n",
    "Now that a problem has been stated and some data to help solving the problem has been gathered, the next step is to setup a MLFlow experiment to log our models. **MLFlow is built upon the concept of experiments. A experiment is a series of fits, where parameters, metrics, models and artifacts can be associated with the respective fit (in an machine learning package agnostic way).**\n",
    "\n",
    "The code bellow tries to create an experiment, if that experiments already existis then it sets the experiment to the active one.\n",
    " "
   ],
   "cell_type": "markdown",
   "metadata": {}
  },
  {
   "cell_type": "code",
   "execution_count": 3,
   "metadata": {},
   "outputs": [
    {
     "output_type": "execute_result",
     "data": {
      "text/plain": [
       "'http://127.0.0.1:5000'"
      ]
     },
     "metadata": {},
     "execution_count": 3
    }
   ],
   "source": [
    "TRACKING_URI"
   ]
  },
  {
   "cell_type": "code",
   "execution_count": 4,
   "metadata": {},
   "outputs": [],
   "source": [
    "EXPERIMENT_NAME='teste4'\n",
    "# TRACKING_URI='http://127.0.0.1:5000'"
   ]
  },
  {
   "cell_type": "code",
   "execution_count": 5,
   "metadata": {
    "tags": []
   },
   "outputs": [],
   "source": [
    "# mlflow.set_tracking_uri(\"sqlite:///mlruns.db\")\n",
    "mlflow.set_tracking_uri(TRACKING_URI)\n",
    "try:\n",
    "    experiment = mlflow.create_experiment(EXPERIMENT_NAME)\n",
    "except Exception:\n",
    "    client = MlflowClient()\n",
    "    experiment = client.get_experiment_by_name(EXPERIMENT_NAME)\n",
    "\n",
    "mlflow.set_experiment(EXPERIMENT_NAME)"
   ]
  },
  {
   "source": [
    "## 3) Training different Models\n",
    "\n",
    "The ext step if to train, evaluate and log a few different models. In order to demonstrate that MLFlow allows us to use different machine learning packages we will train an H2O autoML and SkLearn models (using pycaret). Now is the time where MLFlow is put into action: For each model that if fitted it will be logged a few parameters, metrics, artifacts and the models it self. To understand how this is done it checkout the classifiers definitions in `src/trainers/` folder and the [MLFlow Logging Documentaion](https://www.mlflow.org/docs/latest/tracking.html#logging-data-to-runs), ot all happens inside the `mlflow.start_run()` context manager. \n",
    "\n",
    "The next cells will train different classifiers. Once they finish running you can deploy the [MLFlow Tracking UI](https://www.mlflow.org/docs/latest/tracking.html#tracking-ui) by executing `mlflow ui -p 5000 --backend-store-uri sqlite:///mlruns.db` in the terminal inside the `src/` folder. and see the results at [127.0.0.1:5000](127.0.0.1:5000)."
   ],
   "cell_type": "markdown",
   "metadata": {}
  },
  {
   "cell_type": "code",
   "execution_count": 6,
   "metadata": {},
   "outputs": [
    {
     "output_type": "stream",
     "name": "stdout",
     "text": [
      "Checking whether there is an H2O instance running at http://localhost:54321 ..... not found.\n",
      "Attempting to start a local H2O server...\n",
      "  Java Version: openjdk version \"11.0.11\" 2021-04-20; OpenJDK Runtime Environment (build 11.0.11+9-Ubuntu-0ubuntu2.20.04); OpenJDK 64-Bit Server VM (build 11.0.11+9-Ubuntu-0ubuntu2.20.04, mixed mode, sharing)\n",
      "  Starting server from /media/vinicius/Dados/poetry/virtualenvs/ml-pipes-VBbH4xSK-py3.8/lib/python3.8/site-packages/h2o/backend/bin/h2o.jar\n",
      "  Ice root: /tmp/tmpu6_kf566\n",
      "  JVM stdout: /tmp/tmpu6_kf566/h2o_vinicius_started_from_python.out\n",
      "  JVM stderr: /tmp/tmpu6_kf566/h2o_vinicius_started_from_python.err\n",
      "  Server is running at http://127.0.0.1:54321\n",
      "Connecting to H2O server at http://127.0.0.1:54321 ... successful.\n"
     ]
    },
    {
     "output_type": "display_data",
     "data": {
      "text/plain": "--------------------------  ------------------------------------------------------------------\nH2O_cluster_uptime:         01 secs\nH2O_cluster_timezone:       America/Sao_Paulo\nH2O_data_parsing_timezone:  UTC\nH2O_cluster_version:        3.32.1.1\nH2O_cluster_version_age:    1 month and 23 days\nH2O_cluster_name:           H2O_from_python_vinicius_ebckxm\nH2O_cluster_total_nodes:    1\nH2O_cluster_free_memory:    3 Gb\nH2O_cluster_total_cores:    8\nH2O_cluster_allowed_cores:  8\nH2O_cluster_status:         accepting new members, healthy\nH2O_connection_url:         http://127.0.0.1:54321\nH2O_connection_proxy:       {\"http\": null, \"https\": null}\nH2O_internal_security:      False\nH2O_API_Extensions:         Amazon S3, XGBoost, Algos, AutoML, Core V3, TargetEncoder, Core V4\nPython_version:             3.8.5 final\n--------------------------  ------------------------------------------------------------------",
      "text/html": "<div style=\"overflow:auto\"><table style=\"width:50%\"><tr><td>H2O_cluster_uptime:</td>\n<td>01 secs</td></tr>\n<tr><td>H2O_cluster_timezone:</td>\n<td>America/Sao_Paulo</td></tr>\n<tr><td>H2O_data_parsing_timezone:</td>\n<td>UTC</td></tr>\n<tr><td>H2O_cluster_version:</td>\n<td>3.32.1.1</td></tr>\n<tr><td>H2O_cluster_version_age:</td>\n<td>1 month and 23 days </td></tr>\n<tr><td>H2O_cluster_name:</td>\n<td>H2O_from_python_vinicius_ebckxm</td></tr>\n<tr><td>H2O_cluster_total_nodes:</td>\n<td>1</td></tr>\n<tr><td>H2O_cluster_free_memory:</td>\n<td>3 Gb</td></tr>\n<tr><td>H2O_cluster_total_cores:</td>\n<td>8</td></tr>\n<tr><td>H2O_cluster_allowed_cores:</td>\n<td>8</td></tr>\n<tr><td>H2O_cluster_status:</td>\n<td>accepting new members, healthy</td></tr>\n<tr><td>H2O_connection_url:</td>\n<td>http://127.0.0.1:54321</td></tr>\n<tr><td>H2O_connection_proxy:</td>\n<td>{\"http\": null, \"https\": null}</td></tr>\n<tr><td>H2O_internal_security:</td>\n<td>False</td></tr>\n<tr><td>H2O_API_Extensions:</td>\n<td>Amazon S3, XGBoost, Algos, AutoML, Core V3, TargetEncoder, Core V4</td></tr>\n<tr><td>Python_version:</td>\n<td>3.8.5 final</td></tr></table></div>"
     },
     "metadata": {}
    },
    {
     "output_type": "stream",
     "name": "stdout",
     "text": [
      "Parse progress: |█████████████████████████████████████████████████████████| 100%\n",
      "AutoML progress: |\n",
      "13:28:45.222: User specified a validation frame with cross-validation still enabled. Please note that the models will still be validated using cross-validation only, the validation frame will be used to provide purely informative validation metrics on the trained models.\n",
      "\n",
      "████████████████████████████████████████████████████████| 100%\n",
      "Could not find exact threshold 0.5; using closest threshold found 0.45161522192663917.\n",
      "Could not find exact threshold 0.5; using closest threshold found 0.45161522192663917.\n",
      "Could not find exact threshold 0.5; using closest threshold found 0.45161522192663917.\n",
      "Could not find exact threshold 0.5; using closest threshold found 0.45161522192663917.\n",
      "Could not find exact threshold 0.5; using closest threshold found 0.45161522192663917.\n"
     ]
    },
    {
     "output_type": "error",
     "ename": "Exception",
     "evalue": "[Errno 13] Permission denied: '/usr/app'",
     "traceback": [
      "\u001b[0;31m---------------------------------------------------------------------------\u001b[0m",
      "\u001b[0;31mPermissionError\u001b[0m                           Traceback (most recent call last)",
      "\u001b[0;32m/media/vinicius/Dados/projects/ml-pipes/src/trainers/h2o_automl.py\u001b[0m in \u001b[0;36mmlflow_run\u001b[0;34m(self)\u001b[0m\n\u001b[1;32m    136\u001b[0m                 \u001b[0;31m## 5) Logging Model\u001b[0m\u001b[0;34m\u001b[0m\u001b[0;34m\u001b[0m\u001b[0;34m\u001b[0m\u001b[0m\n\u001b[0;32m--> 137\u001b[0;31m                 \u001b[0mmlflow\u001b[0m\u001b[0;34m.\u001b[0m\u001b[0mh2o\u001b[0m\u001b[0;34m.\u001b[0m\u001b[0mlog_model\u001b[0m\u001b[0;34m(\u001b[0m\u001b[0mmodel\u001b[0m\u001b[0;34m.\u001b[0m\u001b[0mleader\u001b[0m\u001b[0;34m,\u001b[0m \u001b[0;34m\"model\"\u001b[0m\u001b[0;34m)\u001b[0m\u001b[0;34m\u001b[0m\u001b[0;34m\u001b[0m\u001b[0m\n\u001b[0m\u001b[1;32m    138\u001b[0m \u001b[0;34m\u001b[0m\u001b[0m\n",
      "\u001b[0;32m/media/vinicius/Dados/poetry/virtualenvs/ml-pipes-VBbH4xSK-py3.8/lib/python3.8/site-packages/mlflow/h2o.py\u001b[0m in \u001b[0;36mlog_model\u001b[0;34m(h2o_model, artifact_path, conda_env, registered_model_name, signature, input_example, **kwargs)\u001b[0m\n\u001b[1;32m    204\u001b[0m     \"\"\"\n\u001b[0;32m--> 205\u001b[0;31m     Model.log(\n\u001b[0m\u001b[1;32m    206\u001b[0m         \u001b[0martifact_path\u001b[0m\u001b[0;34m=\u001b[0m\u001b[0martifact_path\u001b[0m\u001b[0;34m,\u001b[0m\u001b[0;34m\u001b[0m\u001b[0;34m\u001b[0m\u001b[0m\n",
      "\u001b[0;32m/media/vinicius/Dados/poetry/virtualenvs/ml-pipes-VBbH4xSK-py3.8/lib/python3.8/site-packages/mlflow/models/model.py\u001b[0m in \u001b[0;36mlog\u001b[0;34m(cls, artifact_path, flavor, registered_model_name, await_registration_for, **kwargs)\u001b[0m\n\u001b[1;32m    182\u001b[0m             \u001b[0mflavor\u001b[0m\u001b[0;34m.\u001b[0m\u001b[0msave_model\u001b[0m\u001b[0;34m(\u001b[0m\u001b[0mpath\u001b[0m\u001b[0;34m=\u001b[0m\u001b[0mlocal_path\u001b[0m\u001b[0;34m,\u001b[0m \u001b[0mmlflow_model\u001b[0m\u001b[0;34m=\u001b[0m\u001b[0mmlflow_model\u001b[0m\u001b[0;34m,\u001b[0m \u001b[0;34m**\u001b[0m\u001b[0mkwargs\u001b[0m\u001b[0;34m)\u001b[0m\u001b[0;34m\u001b[0m\u001b[0;34m\u001b[0m\u001b[0m\n\u001b[0;32m--> 183\u001b[0;31m             \u001b[0mmlflow\u001b[0m\u001b[0;34m.\u001b[0m\u001b[0mtracking\u001b[0m\u001b[0;34m.\u001b[0m\u001b[0mfluent\u001b[0m\u001b[0;34m.\u001b[0m\u001b[0mlog_artifacts\u001b[0m\u001b[0;34m(\u001b[0m\u001b[0mlocal_path\u001b[0m\u001b[0;34m,\u001b[0m \u001b[0martifact_path\u001b[0m\u001b[0;34m)\u001b[0m\u001b[0;34m\u001b[0m\u001b[0;34m\u001b[0m\u001b[0m\n\u001b[0m\u001b[1;32m    184\u001b[0m             \u001b[0;32mtry\u001b[0m\u001b[0;34m:\u001b[0m\u001b[0;34m\u001b[0m\u001b[0;34m\u001b[0m\u001b[0m\n",
      "\u001b[0;32m/media/vinicius/Dados/poetry/virtualenvs/ml-pipes-VBbH4xSK-py3.8/lib/python3.8/site-packages/mlflow/tracking/fluent.py\u001b[0m in \u001b[0;36mlog_artifacts\u001b[0;34m(local_dir, artifact_path)\u001b[0m\n\u001b[1;32m    576\u001b[0m     \u001b[0mrun_id\u001b[0m \u001b[0;34m=\u001b[0m \u001b[0m_get_or_start_run\u001b[0m\u001b[0;34m(\u001b[0m\u001b[0;34m)\u001b[0m\u001b[0;34m.\u001b[0m\u001b[0minfo\u001b[0m\u001b[0;34m.\u001b[0m\u001b[0mrun_id\u001b[0m\u001b[0;34m\u001b[0m\u001b[0;34m\u001b[0m\u001b[0m\n\u001b[0;32m--> 577\u001b[0;31m     \u001b[0mMlflowClient\u001b[0m\u001b[0;34m(\u001b[0m\u001b[0;34m)\u001b[0m\u001b[0;34m.\u001b[0m\u001b[0mlog_artifacts\u001b[0m\u001b[0;34m(\u001b[0m\u001b[0mrun_id\u001b[0m\u001b[0;34m,\u001b[0m \u001b[0mlocal_dir\u001b[0m\u001b[0;34m,\u001b[0m \u001b[0martifact_path\u001b[0m\u001b[0;34m)\u001b[0m\u001b[0;34m\u001b[0m\u001b[0;34m\u001b[0m\u001b[0m\n\u001b[0m\u001b[1;32m    578\u001b[0m \u001b[0;34m\u001b[0m\u001b[0m\n",
      "\u001b[0;32m/media/vinicius/Dados/poetry/virtualenvs/ml-pipes-VBbH4xSK-py3.8/lib/python3.8/site-packages/mlflow/tracking/client.py\u001b[0m in \u001b[0;36mlog_artifacts\u001b[0;34m(self, run_id, local_dir, artifact_path)\u001b[0m\n\u001b[1;32m    948\u001b[0m         \"\"\"\n\u001b[0;32m--> 949\u001b[0;31m         \u001b[0mself\u001b[0m\u001b[0;34m.\u001b[0m\u001b[0m_tracking_client\u001b[0m\u001b[0;34m.\u001b[0m\u001b[0mlog_artifacts\u001b[0m\u001b[0;34m(\u001b[0m\u001b[0mrun_id\u001b[0m\u001b[0;34m,\u001b[0m \u001b[0mlocal_dir\u001b[0m\u001b[0;34m,\u001b[0m \u001b[0martifact_path\u001b[0m\u001b[0;34m)\u001b[0m\u001b[0;34m\u001b[0m\u001b[0;34m\u001b[0m\u001b[0m\n\u001b[0m\u001b[1;32m    950\u001b[0m \u001b[0;34m\u001b[0m\u001b[0m\n",
      "\u001b[0;32m/media/vinicius/Dados/poetry/virtualenvs/ml-pipes-VBbH4xSK-py3.8/lib/python3.8/site-packages/mlflow/tracking/_tracking_service/client.py\u001b[0m in \u001b[0;36mlog_artifacts\u001b[0;34m(self, run_id, local_dir, artifact_path)\u001b[0m\n\u001b[1;32m    287\u001b[0m         \"\"\"\n\u001b[0;32m--> 288\u001b[0;31m         \u001b[0mself\u001b[0m\u001b[0;34m.\u001b[0m\u001b[0m_get_artifact_repo\u001b[0m\u001b[0;34m(\u001b[0m\u001b[0mrun_id\u001b[0m\u001b[0;34m)\u001b[0m\u001b[0;34m.\u001b[0m\u001b[0mlog_artifacts\u001b[0m\u001b[0;34m(\u001b[0m\u001b[0mlocal_dir\u001b[0m\u001b[0;34m,\u001b[0m \u001b[0martifact_path\u001b[0m\u001b[0;34m)\u001b[0m\u001b[0;34m\u001b[0m\u001b[0;34m\u001b[0m\u001b[0m\n\u001b[0m\u001b[1;32m    289\u001b[0m \u001b[0;34m\u001b[0m\u001b[0m\n",
      "\u001b[0;32m/media/vinicius/Dados/poetry/virtualenvs/ml-pipes-VBbH4xSK-py3.8/lib/python3.8/site-packages/mlflow/store/artifact/local_artifact_repo.py\u001b[0m in \u001b[0;36mlog_artifacts\u001b[0;34m(self, local_dir, artifact_path)\u001b[0m\n\u001b[1;32m     56\u001b[0m         \u001b[0;32mif\u001b[0m \u001b[0;32mnot\u001b[0m \u001b[0mos\u001b[0m\u001b[0;34m.\u001b[0m\u001b[0mpath\u001b[0m\u001b[0;34m.\u001b[0m\u001b[0mexists\u001b[0m\u001b[0;34m(\u001b[0m\u001b[0martifact_dir\u001b[0m\u001b[0;34m)\u001b[0m\u001b[0;34m:\u001b[0m\u001b[0;34m\u001b[0m\u001b[0;34m\u001b[0m\u001b[0m\n\u001b[0;32m---> 57\u001b[0;31m             \u001b[0mmkdir\u001b[0m\u001b[0;34m(\u001b[0m\u001b[0martifact_dir\u001b[0m\u001b[0;34m)\u001b[0m\u001b[0;34m\u001b[0m\u001b[0;34m\u001b[0m\u001b[0m\n\u001b[0m\u001b[1;32m     58\u001b[0m         \u001b[0mdir_util\u001b[0m\u001b[0;34m.\u001b[0m\u001b[0mcopy_tree\u001b[0m\u001b[0;34m(\u001b[0m\u001b[0msrc\u001b[0m\u001b[0;34m=\u001b[0m\u001b[0mlocal_dir\u001b[0m\u001b[0;34m,\u001b[0m \u001b[0mdst\u001b[0m\u001b[0;34m=\u001b[0m\u001b[0martifact_dir\u001b[0m\u001b[0;34m,\u001b[0m \u001b[0mpreserve_mode\u001b[0m\u001b[0;34m=\u001b[0m\u001b[0;36m0\u001b[0m\u001b[0;34m,\u001b[0m \u001b[0mpreserve_times\u001b[0m\u001b[0;34m=\u001b[0m\u001b[0;36m0\u001b[0m\u001b[0;34m)\u001b[0m\u001b[0;34m\u001b[0m\u001b[0;34m\u001b[0m\u001b[0m\n",
      "\u001b[0;32m/media/vinicius/Dados/poetry/virtualenvs/ml-pipes-VBbH4xSK-py3.8/lib/python3.8/site-packages/mlflow/utils/file_utils.py\u001b[0m in \u001b[0;36mmkdir\u001b[0;34m(root, name)\u001b[0m\n\u001b[1;32m    112\u001b[0m         \u001b[0;32mif\u001b[0m \u001b[0me\u001b[0m\u001b[0;34m.\u001b[0m\u001b[0merrno\u001b[0m \u001b[0;34m!=\u001b[0m \u001b[0merrno\u001b[0m\u001b[0;34m.\u001b[0m\u001b[0mEEXIST\u001b[0m \u001b[0;32mor\u001b[0m \u001b[0;32mnot\u001b[0m \u001b[0mos\u001b[0m\u001b[0;34m.\u001b[0m\u001b[0mpath\u001b[0m\u001b[0;34m.\u001b[0m\u001b[0misdir\u001b[0m\u001b[0;34m(\u001b[0m\u001b[0mtarget\u001b[0m\u001b[0;34m)\u001b[0m\u001b[0;34m:\u001b[0m\u001b[0;34m\u001b[0m\u001b[0;34m\u001b[0m\u001b[0m\n\u001b[0;32m--> 113\u001b[0;31m             \u001b[0;32mraise\u001b[0m \u001b[0me\u001b[0m\u001b[0;34m\u001b[0m\u001b[0;34m\u001b[0m\u001b[0m\n\u001b[0m\u001b[1;32m    114\u001b[0m     \u001b[0;32mreturn\u001b[0m \u001b[0mtarget\u001b[0m\u001b[0;34m\u001b[0m\u001b[0;34m\u001b[0m\u001b[0m\n",
      "\u001b[0;32m/media/vinicius/Dados/poetry/virtualenvs/ml-pipes-VBbH4xSK-py3.8/lib/python3.8/site-packages/mlflow/utils/file_utils.py\u001b[0m in \u001b[0;36mmkdir\u001b[0;34m(root, name)\u001b[0m\n\u001b[1;32m    109\u001b[0m     \u001b[0;32mtry\u001b[0m\u001b[0;34m:\u001b[0m\u001b[0;34m\u001b[0m\u001b[0;34m\u001b[0m\u001b[0m\n\u001b[0;32m--> 110\u001b[0;31m         \u001b[0mos\u001b[0m\u001b[0;34m.\u001b[0m\u001b[0mmakedirs\u001b[0m\u001b[0;34m(\u001b[0m\u001b[0mtarget\u001b[0m\u001b[0;34m)\u001b[0m\u001b[0;34m\u001b[0m\u001b[0;34m\u001b[0m\u001b[0m\n\u001b[0m\u001b[1;32m    111\u001b[0m     \u001b[0;32mexcept\u001b[0m \u001b[0mOSError\u001b[0m \u001b[0;32mas\u001b[0m \u001b[0me\u001b[0m\u001b[0;34m:\u001b[0m\u001b[0;34m\u001b[0m\u001b[0;34m\u001b[0m\u001b[0m\n",
      "\u001b[0;32m/usr/lib/python3.8/os.py\u001b[0m in \u001b[0;36mmakedirs\u001b[0;34m(name, mode, exist_ok)\u001b[0m\n\u001b[1;32m    212\u001b[0m         \u001b[0;32mtry\u001b[0m\u001b[0;34m:\u001b[0m\u001b[0;34m\u001b[0m\u001b[0;34m\u001b[0m\u001b[0m\n\u001b[0;32m--> 213\u001b[0;31m             \u001b[0mmakedirs\u001b[0m\u001b[0;34m(\u001b[0m\u001b[0mhead\u001b[0m\u001b[0;34m,\u001b[0m \u001b[0mexist_ok\u001b[0m\u001b[0;34m=\u001b[0m\u001b[0mexist_ok\u001b[0m\u001b[0;34m)\u001b[0m\u001b[0;34m\u001b[0m\u001b[0;34m\u001b[0m\u001b[0m\n\u001b[0m\u001b[1;32m    214\u001b[0m         \u001b[0;32mexcept\u001b[0m \u001b[0mFileExistsError\u001b[0m\u001b[0;34m:\u001b[0m\u001b[0;34m\u001b[0m\u001b[0;34m\u001b[0m\u001b[0m\n",
      "\u001b[0;32m/usr/lib/python3.8/os.py\u001b[0m in \u001b[0;36mmakedirs\u001b[0;34m(name, mode, exist_ok)\u001b[0m\n\u001b[1;32m    212\u001b[0m         \u001b[0;32mtry\u001b[0m\u001b[0;34m:\u001b[0m\u001b[0;34m\u001b[0m\u001b[0;34m\u001b[0m\u001b[0m\n\u001b[0;32m--> 213\u001b[0;31m             \u001b[0mmakedirs\u001b[0m\u001b[0;34m(\u001b[0m\u001b[0mhead\u001b[0m\u001b[0;34m,\u001b[0m \u001b[0mexist_ok\u001b[0m\u001b[0;34m=\u001b[0m\u001b[0mexist_ok\u001b[0m\u001b[0;34m)\u001b[0m\u001b[0;34m\u001b[0m\u001b[0;34m\u001b[0m\u001b[0m\n\u001b[0m\u001b[1;32m    214\u001b[0m         \u001b[0;32mexcept\u001b[0m \u001b[0mFileExistsError\u001b[0m\u001b[0;34m:\u001b[0m\u001b[0;34m\u001b[0m\u001b[0;34m\u001b[0m\u001b[0m\n",
      "\u001b[0;32m/usr/lib/python3.8/os.py\u001b[0m in \u001b[0;36mmakedirs\u001b[0;34m(name, mode, exist_ok)\u001b[0m\n\u001b[1;32m    212\u001b[0m         \u001b[0;32mtry\u001b[0m\u001b[0;34m:\u001b[0m\u001b[0;34m\u001b[0m\u001b[0;34m\u001b[0m\u001b[0m\n\u001b[0;32m--> 213\u001b[0;31m             \u001b[0mmakedirs\u001b[0m\u001b[0;34m(\u001b[0m\u001b[0mhead\u001b[0m\u001b[0;34m,\u001b[0m \u001b[0mexist_ok\u001b[0m\u001b[0;34m=\u001b[0m\u001b[0mexist_ok\u001b[0m\u001b[0;34m)\u001b[0m\u001b[0;34m\u001b[0m\u001b[0;34m\u001b[0m\u001b[0m\n\u001b[0m\u001b[1;32m    214\u001b[0m         \u001b[0;32mexcept\u001b[0m \u001b[0mFileExistsError\u001b[0m\u001b[0;34m:\u001b[0m\u001b[0;34m\u001b[0m\u001b[0;34m\u001b[0m\u001b[0m\n",
      "\u001b[0;32m/usr/lib/python3.8/os.py\u001b[0m in \u001b[0;36mmakedirs\u001b[0;34m(name, mode, exist_ok)\u001b[0m\n\u001b[1;32m    212\u001b[0m         \u001b[0;32mtry\u001b[0m\u001b[0;34m:\u001b[0m\u001b[0;34m\u001b[0m\u001b[0;34m\u001b[0m\u001b[0m\n\u001b[0;32m--> 213\u001b[0;31m             \u001b[0mmakedirs\u001b[0m\u001b[0;34m(\u001b[0m\u001b[0mhead\u001b[0m\u001b[0;34m,\u001b[0m \u001b[0mexist_ok\u001b[0m\u001b[0;34m=\u001b[0m\u001b[0mexist_ok\u001b[0m\u001b[0;34m)\u001b[0m\u001b[0;34m\u001b[0m\u001b[0;34m\u001b[0m\u001b[0m\n\u001b[0m\u001b[1;32m    214\u001b[0m         \u001b[0;32mexcept\u001b[0m \u001b[0mFileExistsError\u001b[0m\u001b[0;34m:\u001b[0m\u001b[0;34m\u001b[0m\u001b[0;34m\u001b[0m\u001b[0m\n",
      "\u001b[0;32m/usr/lib/python3.8/os.py\u001b[0m in \u001b[0;36mmakedirs\u001b[0;34m(name, mode, exist_ok)\u001b[0m\n\u001b[1;32m    212\u001b[0m         \u001b[0;32mtry\u001b[0m\u001b[0;34m:\u001b[0m\u001b[0;34m\u001b[0m\u001b[0;34m\u001b[0m\u001b[0m\n\u001b[0;32m--> 213\u001b[0;31m             \u001b[0mmakedirs\u001b[0m\u001b[0;34m(\u001b[0m\u001b[0mhead\u001b[0m\u001b[0;34m,\u001b[0m \u001b[0mexist_ok\u001b[0m\u001b[0;34m=\u001b[0m\u001b[0mexist_ok\u001b[0m\u001b[0;34m)\u001b[0m\u001b[0;34m\u001b[0m\u001b[0;34m\u001b[0m\u001b[0m\n\u001b[0m\u001b[1;32m    214\u001b[0m         \u001b[0;32mexcept\u001b[0m \u001b[0mFileExistsError\u001b[0m\u001b[0;34m:\u001b[0m\u001b[0;34m\u001b[0m\u001b[0;34m\u001b[0m\u001b[0m\n",
      "\u001b[0;32m/usr/lib/python3.8/os.py\u001b[0m in \u001b[0;36mmakedirs\u001b[0;34m(name, mode, exist_ok)\u001b[0m\n\u001b[1;32m    222\u001b[0m     \u001b[0;32mtry\u001b[0m\u001b[0;34m:\u001b[0m\u001b[0;34m\u001b[0m\u001b[0;34m\u001b[0m\u001b[0m\n\u001b[0;32m--> 223\u001b[0;31m         \u001b[0mmkdir\u001b[0m\u001b[0;34m(\u001b[0m\u001b[0mname\u001b[0m\u001b[0;34m,\u001b[0m \u001b[0mmode\u001b[0m\u001b[0;34m)\u001b[0m\u001b[0;34m\u001b[0m\u001b[0;34m\u001b[0m\u001b[0m\n\u001b[0m\u001b[1;32m    224\u001b[0m     \u001b[0;32mexcept\u001b[0m \u001b[0mOSError\u001b[0m\u001b[0;34m:\u001b[0m\u001b[0;34m\u001b[0m\u001b[0;34m\u001b[0m\u001b[0m\n",
      "\u001b[0;31mPermissionError\u001b[0m: [Errno 13] Permission denied: '/usr/app'",
      "\nDuring handling of the above exception, another exception occurred:\n",
      "\u001b[0;31mException\u001b[0m                                 Traceback (most recent call last)",
      "\u001b[0;32m<ipython-input-6-0b45de10563a>\u001b[0m in \u001b[0;36m<module>\u001b[0;34m\u001b[0m\n\u001b[0;32m----> 1\u001b[0;31m H2OClassifier(\n\u001b[0m\u001b[1;32m      2\u001b[0m     \u001b[0mrun_name\u001b[0m\u001b[0;34m=\u001b[0m\u001b[0;34m'H2O'\u001b[0m\u001b[0;34m,\u001b[0m\u001b[0;34m\u001b[0m\u001b[0;34m\u001b[0m\u001b[0m\n\u001b[1;32m      3\u001b[0m     \u001b[0mmax_mem_size\u001b[0m\u001b[0;34m=\u001b[0m\u001b[0;34m'3G'\u001b[0m\u001b[0;34m,\u001b[0m\u001b[0;34m\u001b[0m\u001b[0;34m\u001b[0m\u001b[0m\n\u001b[1;32m      4\u001b[0m     \u001b[0mthreshold\u001b[0m\u001b[0;34m=\u001b[0m\u001b[0mTHRESHOLD\u001b[0m\u001b[0;34m,\u001b[0m\u001b[0;34m\u001b[0m\u001b[0;34m\u001b[0m\u001b[0m\n\u001b[1;32m      5\u001b[0m     \u001b[0mdf\u001b[0m\u001b[0;34m=\u001b[0m\u001b[0mdataset\u001b[0m\u001b[0;34m,\u001b[0m\u001b[0;34m\u001b[0m\u001b[0;34m\u001b[0m\u001b[0m\n",
      "\u001b[0;32m/media/vinicius/Dados/poetry/virtualenvs/ml-pipes-VBbH4xSK-py3.8/lib/python3.8/site-packages/typeguard/__init__.py\u001b[0m in \u001b[0;36mwrapper\u001b[0;34m(*args, **kwargs)\u001b[0m\n\u001b[1;32m    921\u001b[0m         \u001b[0mmemo\u001b[0m \u001b[0;34m=\u001b[0m \u001b[0m_CallMemo\u001b[0m\u001b[0;34m(\u001b[0m\u001b[0mpython_func\u001b[0m\u001b[0;34m,\u001b[0m \u001b[0m_localns\u001b[0m\u001b[0;34m,\u001b[0m \u001b[0margs\u001b[0m\u001b[0;34m=\u001b[0m\u001b[0margs\u001b[0m\u001b[0;34m,\u001b[0m \u001b[0mkwargs\u001b[0m\u001b[0;34m=\u001b[0m\u001b[0mkwargs\u001b[0m\u001b[0;34m)\u001b[0m\u001b[0;34m\u001b[0m\u001b[0;34m\u001b[0m\u001b[0m\n\u001b[1;32m    922\u001b[0m         \u001b[0mcheck_argument_types\u001b[0m\u001b[0;34m(\u001b[0m\u001b[0mmemo\u001b[0m\u001b[0;34m)\u001b[0m\u001b[0;34m\u001b[0m\u001b[0;34m\u001b[0m\u001b[0m\n\u001b[0;32m--> 923\u001b[0;31m         \u001b[0mretval\u001b[0m \u001b[0;34m=\u001b[0m \u001b[0mfunc\u001b[0m\u001b[0;34m(\u001b[0m\u001b[0;34m*\u001b[0m\u001b[0margs\u001b[0m\u001b[0;34m,\u001b[0m \u001b[0;34m**\u001b[0m\u001b[0mkwargs\u001b[0m\u001b[0;34m)\u001b[0m\u001b[0;34m\u001b[0m\u001b[0;34m\u001b[0m\u001b[0m\n\u001b[0m\u001b[1;32m    924\u001b[0m         \u001b[0;32mtry\u001b[0m\u001b[0;34m:\u001b[0m\u001b[0;34m\u001b[0m\u001b[0;34m\u001b[0m\u001b[0m\n\u001b[1;32m    925\u001b[0m             \u001b[0mcheck_return_type\u001b[0m\u001b[0;34m(\u001b[0m\u001b[0mretval\u001b[0m\u001b[0;34m,\u001b[0m \u001b[0mmemo\u001b[0m\u001b[0;34m)\u001b[0m\u001b[0;34m\u001b[0m\u001b[0;34m\u001b[0m\u001b[0m\n",
      "\u001b[0;32m/media/vinicius/Dados/projects/ml-pipes/src/trainers/h2o_automl.py\u001b[0m in \u001b[0;36m__init__\u001b[0;34m(self, df, target_col, sort_metric, threshold, run_name, max_mem_size, max_models, max_runtime_secs, nfolds, seed)\u001b[0m\n\u001b[1;32m     61\u001b[0m \u001b[0;34m\u001b[0m\u001b[0m\n\u001b[1;32m     62\u001b[0m         \u001b[0;31m# 4) Training Model\u001b[0m\u001b[0;34m\u001b[0m\u001b[0;34m\u001b[0m\u001b[0;34m\u001b[0m\u001b[0m\n\u001b[0;32m---> 63\u001b[0;31m         \u001b[0mself\u001b[0m\u001b[0;34m.\u001b[0m\u001b[0mrun_info\u001b[0m \u001b[0;34m=\u001b[0m \u001b[0mself\u001b[0m\u001b[0;34m.\u001b[0m\u001b[0mmlflow_run\u001b[0m\u001b[0;34m(\u001b[0m\u001b[0;34m)\u001b[0m\u001b[0;34m\u001b[0m\u001b[0;34m\u001b[0m\u001b[0m\n\u001b[0m\u001b[1;32m     64\u001b[0m \u001b[0;34m\u001b[0m\u001b[0m\n\u001b[1;32m     65\u001b[0m \u001b[0;34m\u001b[0m\u001b[0m\n",
      "\u001b[0;32m/media/vinicius/Dados/projects/ml-pipes/src/trainers/h2o_automl.py\u001b[0m in \u001b[0;36mmlflow_run\u001b[0;34m(self)\u001b[0m\n\u001b[1;32m    140\u001b[0m \u001b[0;34m\u001b[0m\u001b[0m\n\u001b[1;32m    141\u001b[0m         \u001b[0;32mexcept\u001b[0m \u001b[0mException\u001b[0m \u001b[0;32mas\u001b[0m \u001b[0me\u001b[0m\u001b[0;34m:\u001b[0m\u001b[0;34m\u001b[0m\u001b[0;34m\u001b[0m\u001b[0m\n\u001b[0;32m--> 142\u001b[0;31m             \u001b[0;32mraise\u001b[0m \u001b[0mException\u001b[0m\u001b[0;34m(\u001b[0m\u001b[0me\u001b[0m\u001b[0;34m)\u001b[0m\u001b[0;34m\u001b[0m\u001b[0;34m\u001b[0m\u001b[0m\n\u001b[0m",
      "\u001b[0;31mException\u001b[0m: [Errno 13] Permission denied: '/usr/app'"
     ]
    }
   ],
   "source": [
    "H2OClassifier(\n",
    "    run_name='H2O',\n",
    "    max_mem_size='3G',\n",
    "    threshold=THRESHOLD,\n",
    "    df=dataset,\n",
    "    target_col='Class',\n",
    "    sort_metric='aucpr',\n",
    "    max_models=8,\n",
    "    max_runtime_secs=10,\n",
    "    nfolds=FOLDS,\n",
    "    seed=90\n",
    ")"
   ]
  },
  {
   "cell_type": "code",
   "execution_count": 7,
   "metadata": {
    "tags": []
   },
   "outputs": [
    {
     "output_type": "display_data",
     "data": {
      "text/plain": "              Parameters\nalpha                1.0\nclass_weight        None\ncopy_X              True\nfit_intercept       True\nmax_iter            None\nnormalize          False\nrandom_state       54321\nsolver              auto\ntol                0.001",
      "text/html": "<div>\n<style scoped>\n    .dataframe tbody tr th:only-of-type {\n        vertical-align: middle;\n    }\n\n    .dataframe tbody tr th {\n        vertical-align: top;\n    }\n\n    .dataframe thead th {\n        text-align: right;\n    }\n</style>\n<table border=\"1\" class=\"dataframe\">\n  <thead>\n    <tr style=\"text-align: right;\">\n      <th></th>\n      <th>Parameters</th>\n    </tr>\n  </thead>\n  <tbody>\n    <tr>\n      <th>alpha</th>\n      <td>1.0</td>\n    </tr>\n    <tr>\n      <th>class_weight</th>\n      <td>None</td>\n    </tr>\n    <tr>\n      <th>copy_X</th>\n      <td>True</td>\n    </tr>\n    <tr>\n      <th>fit_intercept</th>\n      <td>True</td>\n    </tr>\n    <tr>\n      <th>max_iter</th>\n      <td>None</td>\n    </tr>\n    <tr>\n      <th>normalize</th>\n      <td>False</td>\n    </tr>\n    <tr>\n      <th>random_state</th>\n      <td>54321</td>\n    </tr>\n    <tr>\n      <th>solver</th>\n      <td>auto</td>\n    </tr>\n    <tr>\n      <th>tol</th>\n      <td>0.001</td>\n    </tr>\n  </tbody>\n</table>\n</div>"
     },
     "metadata": {}
    },
    {
     "output_type": "stream",
     "name": "stdout",
     "text": [
      "Error in logging parameter for                                 pycaret_precision_2\n",
      "[Errno 2] No such file or directory: 'Hyperparameters.png'\n"
     ]
    },
    {
     "output_type": "execute_result",
     "data": {
      "text/plain": [
       "<trainers.pycaret.PycaretClassifier at 0x7f34b0eb2280>"
      ]
     },
     "metadata": {},
     "execution_count": 7
    }
   ],
   "source": [
    "PycaretClassifier(\n",
    "        experiment_name=EXPERIMENT_NAME,\n",
    "        run_name='Pycaret2',\n",
    "        sort_metric='precision',\n",
    "        df=dataset,\n",
    "        target='Class',\n",
    "        threshold=THRESHOLD,\n",
    "        n_best_models=3,\n",
    "        data_split_stratify=True,\n",
    "        nfolds=FOLDS,\n",
    "        normalize=True,\n",
    "        transformation=True,\n",
    "        ignore_low_variance=True,\n",
    "        remove_multicollinearity=True,\n",
    "        multicollinearity_threshold=0.95,\n",
    "        session_id=54321\n",
    ")"
   ]
  },
  {
   "cell_type": "code",
   "execution_count": 6,
   "metadata": {},
   "outputs": [
    {
     "output_type": "execute_result",
     "data": {
      "text/plain": [
       "<trainers.spark.SparkClassifier at 0x7f440bcfabe0>"
      ]
     },
     "metadata": {},
     "execution_count": 6
    }
   ],
   "source": [
    "SparkClassifier(\n",
    "    df = dataset,\n",
    "    target_col = 'Class',\n",
    "    run_name = 'spark_classifier',\n",
    "    max_mem_size = 4,\n",
    "    n_cores = 4,\n",
    "    seed = 90\n",
    ")"
   ]
  },
  {
   "source": [
    "## 4) Setting the Best Model to Production\n",
    "\n",
    "The final step in this notebook if to set to production the model with the best selected metric, imported as `CHAMPION_METRIC`. This is done to show is is possible to create an automated workflow using MLFlow to deplot a model. However it is also possible to deplot the model using the [UI server](https://www.mlflow.org/docs/latest/model-registry.html#ui-workflow).\n",
    "\n",
    "Once this is done you can return to the README file to check how the model is now deployed."
   ],
   "cell_type": "markdown",
   "metadata": {}
  },
  {
   "cell_type": "code",
   "execution_count": 10,
   "metadata": {},
   "outputs": [
    {
     "output_type": "stream",
     "name": "stderr",
     "text": [
      "Registered model 'CreditCardDefault' already exists. Creating a new version of this model...\n",
      "2021/05/19 09:02:38 INFO mlflow.tracking._model_registry.client: Waiting up to 300 seconds for model version to finish creation.                     Model name: CreditCardDefault, version 3\n",
      "Created version '3' of model 'CreditCardDefault'.\n"
     ]
    },
    {
     "output_type": "execute_result",
     "data": {
      "text/plain": [
       "<ModelVersion: creation_timestamp=1621425758707, current_stage='Staging', description='Deploying model with model registery', last_updated_timestamp=1621425758825, name='CreditCardDefault', run_id='c325b227a2d24a3994ca8e75b0201117', run_link='', source='/media/vinicius/Dados/projects/ml-pipes/mlflow_artifact_store/1/c325b227a2d24a3994ca8e75b0201117/artifacts/model', status='READY', status_message='', tags={}, user_id='', version='3'>"
      ]
     },
     "metadata": {},
     "execution_count": 10
    }
   ],
   "source": [
    "# Getting The best Model according to CHAMPION_METRIC\n",
    "champion = MlflowClient().search_runs(\n",
    "    experiment_ids=[\n",
    "        str(\n",
    "            mlflow.get_experiment_by_name(name=EXPERIMENT_NAME).experiment_id\n",
    "        )\n",
    "    ],\n",
    "    run_view_type=ViewType.ALL,\n",
    "    order_by=[f\"metrics.{CHAMPION_METRIC} DESC\"],\n",
    "    max_results=1\n",
    ")\n",
    "run_id = champion[0].info.run_id\n",
    "\n",
    "# Registering Model in model registery\n",
    "model = mlflow.register_model(\n",
    "    model_uri=f\"runs:/{run_id}/model\",\n",
    "    name=CREDIT_CARD_MODEL_NAME\n",
    ")\n",
    "\n",
    "# Setting version 1\n",
    "MlflowClient().update_model_version(\n",
    "    name=CREDIT_CARD_MODEL_NAME,\n",
    "    version=model.version,\n",
    "    description='Deploying model with model registery'\n",
    ")\n",
    "\n",
    "# Setting it to production\n",
    "MlflowClient().transition_model_version_stage(\n",
    "    name=CREDIT_CARD_MODEL_NAME,\n",
    "    version=model.version,\n",
    "    stage=\"Staging\"\n",
    ")"
   ]
  },
  {
   "cell_type": "code",
   "execution_count": null,
   "metadata": {},
   "outputs": [],
   "source": []
  }
 ]
}