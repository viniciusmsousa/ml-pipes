{
 "metadata": {
  "language_info": {
   "codemirror_mode": {
    "name": "ipython",
    "version": 3
   },
   "file_extension": ".py",
   "mimetype": "text/x-python",
   "name": "python",
   "nbconvert_exporter": "python",
   "pygments_lexer": "ipython3",
   "version": "3.8.5"
  },
  "orig_nbformat": 2,
  "kernelspec": {
   "name": "python385jvsc74a57bd091e54437ba924c8ff0ef21fd935a5cc04c16b591cf97d51ec85aa641f4cda69d",
   "display_name": "Python 3.8.5 64-bit ('ml-pipes-VBbH4xSK-py3.8': venv)"
  },
  "metadata": {
   "interpreter": {
    "hash": "91e54437ba924c8ff0ef21fd935a5cc04c16b591cf97d51ec85aa641f4cda69d"
   }
  }
 },
 "nbformat": 4,
 "nbformat_minor": 2,
 "cells": [
  {
   "source": [
    "# Ml-Pipes\n",
    "\n",
    "The objective of this project is to present a gentle introduction of how a machine learning model can be trained and deployed. And how [MLFlow](https://www.mlflow.org/), [FastAPI](https://fastapi.tiangolo.com/) and [Docker](https://docs.docker.com/) can facilite a couple aspects of such a task. Within this context, this notebook represents the development part of the model, where a data scientist would create a few models, evaluate it using some metrics and select the best one based in a metric. There are a lot of different machine learning tools that can be used in order to create models. It is important to note that the objective of this notebook is to give a broad overview of and end to end machine learning process, and therefore it is recommended to have the documentation of the frameworks used here as a companion. Also, the README file from the project explains how to reproduce the whole project.\n",
    "\n",
    "The rest of the notebook is organized as follows\n",
    "- 1) The Problem;\n",
    "- 2) Setting up an MLFlow Experiment;\n",
    "- 3) Training different Models;\n",
    "- 4) Setting the Best Model to Production.\n",
    "\n",
    "The code bellow imports everything that will be used throughout the notebook."
   ],
   "cell_type": "markdown",
   "metadata": {}
  },
  {
   "cell_type": "code",
   "execution_count": 1,
   "metadata": {},
   "outputs": [],
   "source": [
    "# Import Libs\n",
    "import pandas as pd\n",
    "pd.set_option('display.max_columns', 500)\n",
    "\n",
    "import mlflow\n",
    "from mlflow.tracking import MlflowClient\n",
    "from mlflow.entities import ViewType\n",
    "\n",
    "from settings import EXPERIMENT_NAME, FOLDS, CREDIT_CARD_MODEL_NAME,\\\n",
    "     CHAMPION_METRIC, THRESHOLD  # pylint: disable=import-error\n",
    "from dao.CreditCardDefault \\\n",
    "    import load_creditcard_dataset  # pylint: disable=import-error\n",
    "from trainers.h2o_automl import H2OClassifier  # pylint: disable=import-error\n",
    "from trainers.pycaret import PycaretClassifier  # pylint: disable=import-error"
   ]
  },
  {
   "source": [
    "## 1) The problem\n",
    "\n",
    "The first thing we need to have to build a model is a problem to solve. Here it is used as example the [Credit Card Default from Kagle](https://www.kaggle.com/mlg-ulb/creditcardfraud), where basically the objective if to predict based on a few features whether or not a client will default on its credit card. The taret variable can assume the values 1, for default, and 0 for non default. Therefore it is a binary classification problem.\n",
    "\n",
    "Bellow the dataset is imported and the first rows of the dataset. Note that the Time column has been removed from the original dataset."
   ],
   "cell_type": "markdown",
   "metadata": {}
  },
  {
   "cell_type": "code",
   "execution_count": 2,
   "metadata": {},
   "outputs": [
    {
     "output_type": "execute_result",
     "data": {
      "text/plain": [
       "              V1        V2        V3        V4        V5        V6        V7  \\\n",
       "182875  2.008438  0.162598 -2.218728  0.954302  0.196069 -1.433587  0.097916   \n",
       "28462  -0.763624  1.027956  0.739337 -0.638500  0.204582 -0.541075  0.570384   \n",
       "187056  1.486471 -0.837320 -0.732272  1.629191 -0.233813  0.313185  0.078676   \n",
       "126572 -2.868247 -1.139031 -0.708736  0.191714 -1.597907  0.124855  1.662722   \n",
       "113013  1.205762  0.013247  0.951732  1.138075 -0.479702  0.307368 -0.500346   \n",
       "\n",
       "              V8        V9       V10       V11       V12       V13       V14  \\\n",
       "182875 -0.193850  1.029088 -1.008799 -0.595450 -1.173956 -2.300362 -2.225345   \n",
       "28462   0.284018 -0.616243 -0.961992 -1.336262  0.291892  1.086139  0.205848   \n",
       "187056 -0.027234  0.988416 -0.165763 -1.209107  1.230106  0.906739 -0.436578   \n",
       "126572  0.128932 -1.338376  0.121968 -0.993437  0.135899  0.503096  0.248301   \n",
       "113013  0.082905  0.785942 -0.233807 -1.357437  0.776953  1.255903 -0.623100   \n",
       "\n",
       "             V15       V16       V17       V18       V19       V20       V21  \\\n",
       "182875 -0.122508  0.372760  2.212081  0.782419 -0.332493 -0.280114 -0.033334   \n",
       "28462   0.240597  0.726970 -0.837433 -0.035104 -0.421264 -0.083550  0.068373   \n",
       "187056 -1.199565 -0.437594 -0.114801 -0.974397  0.117529  0.283902 -0.376984   \n",
       "126572 -0.505767 -1.577313  0.223838  0.577544 -1.885893 -1.037271 -0.394940   \n",
       "113013  0.122262  0.272778 -0.614510  0.080188  0.096515 -0.030560 -0.103054   \n",
       "\n",
       "             V22       V23       V24       V25       V26       V27       V28  \\\n",
       "182875  0.139415 -0.016894 -0.206881  0.119620  0.735991 -0.047406 -0.016285   \n",
       "28462   0.007377 -0.092307 -0.404129 -0.211563  0.243181 -0.049706  0.066394   \n",
       "187056 -1.305845  0.243207  0.557332 -0.350210 -1.157152  0.014695  0.018601   \n",
       "126572 -0.084426  0.046102  0.112023 -0.337455 -0.527738  0.232477 -0.366651   \n",
       "113013 -0.041808 -0.124058 -0.415429  0.562038 -0.361177  0.077714  0.032766   \n",
       "\n",
       "        Amount  Class  \n",
       "182875   12.31      0  \n",
       "28462    33.99      0  \n",
       "187056  245.23      0  \n",
       "126572  502.89      0  \n",
       "113013   12.99      0  "
      ],
      "text/html": "<div>\n<style scoped>\n    .dataframe tbody tr th:only-of-type {\n        vertical-align: middle;\n    }\n\n    .dataframe tbody tr th {\n        vertical-align: top;\n    }\n\n    .dataframe thead th {\n        text-align: right;\n    }\n</style>\n<table border=\"1\" class=\"dataframe\">\n  <thead>\n    <tr style=\"text-align: right;\">\n      <th></th>\n      <th>V1</th>\n      <th>V2</th>\n      <th>V3</th>\n      <th>V4</th>\n      <th>V5</th>\n      <th>V6</th>\n      <th>V7</th>\n      <th>V8</th>\n      <th>V9</th>\n      <th>V10</th>\n      <th>V11</th>\n      <th>V12</th>\n      <th>V13</th>\n      <th>V14</th>\n      <th>V15</th>\n      <th>V16</th>\n      <th>V17</th>\n      <th>V18</th>\n      <th>V19</th>\n      <th>V20</th>\n      <th>V21</th>\n      <th>V22</th>\n      <th>V23</th>\n      <th>V24</th>\n      <th>V25</th>\n      <th>V26</th>\n      <th>V27</th>\n      <th>V28</th>\n      <th>Amount</th>\n      <th>Class</th>\n    </tr>\n  </thead>\n  <tbody>\n    <tr>\n      <th>182875</th>\n      <td>2.008438</td>\n      <td>0.162598</td>\n      <td>-2.218728</td>\n      <td>0.954302</td>\n      <td>0.196069</td>\n      <td>-1.433587</td>\n      <td>0.097916</td>\n      <td>-0.193850</td>\n      <td>1.029088</td>\n      <td>-1.008799</td>\n      <td>-0.595450</td>\n      <td>-1.173956</td>\n      <td>-2.300362</td>\n      <td>-2.225345</td>\n      <td>-0.122508</td>\n      <td>0.372760</td>\n      <td>2.212081</td>\n      <td>0.782419</td>\n      <td>-0.332493</td>\n      <td>-0.280114</td>\n      <td>-0.033334</td>\n      <td>0.139415</td>\n      <td>-0.016894</td>\n      <td>-0.206881</td>\n      <td>0.119620</td>\n      <td>0.735991</td>\n      <td>-0.047406</td>\n      <td>-0.016285</td>\n      <td>12.31</td>\n      <td>0</td>\n    </tr>\n    <tr>\n      <th>28462</th>\n      <td>-0.763624</td>\n      <td>1.027956</td>\n      <td>0.739337</td>\n      <td>-0.638500</td>\n      <td>0.204582</td>\n      <td>-0.541075</td>\n      <td>0.570384</td>\n      <td>0.284018</td>\n      <td>-0.616243</td>\n      <td>-0.961992</td>\n      <td>-1.336262</td>\n      <td>0.291892</td>\n      <td>1.086139</td>\n      <td>0.205848</td>\n      <td>0.240597</td>\n      <td>0.726970</td>\n      <td>-0.837433</td>\n      <td>-0.035104</td>\n      <td>-0.421264</td>\n      <td>-0.083550</td>\n      <td>0.068373</td>\n      <td>0.007377</td>\n      <td>-0.092307</td>\n      <td>-0.404129</td>\n      <td>-0.211563</td>\n      <td>0.243181</td>\n      <td>-0.049706</td>\n      <td>0.066394</td>\n      <td>33.99</td>\n      <td>0</td>\n    </tr>\n    <tr>\n      <th>187056</th>\n      <td>1.486471</td>\n      <td>-0.837320</td>\n      <td>-0.732272</td>\n      <td>1.629191</td>\n      <td>-0.233813</td>\n      <td>0.313185</td>\n      <td>0.078676</td>\n      <td>-0.027234</td>\n      <td>0.988416</td>\n      <td>-0.165763</td>\n      <td>-1.209107</td>\n      <td>1.230106</td>\n      <td>0.906739</td>\n      <td>-0.436578</td>\n      <td>-1.199565</td>\n      <td>-0.437594</td>\n      <td>-0.114801</td>\n      <td>-0.974397</td>\n      <td>0.117529</td>\n      <td>0.283902</td>\n      <td>-0.376984</td>\n      <td>-1.305845</td>\n      <td>0.243207</td>\n      <td>0.557332</td>\n      <td>-0.350210</td>\n      <td>-1.157152</td>\n      <td>0.014695</td>\n      <td>0.018601</td>\n      <td>245.23</td>\n      <td>0</td>\n    </tr>\n    <tr>\n      <th>126572</th>\n      <td>-2.868247</td>\n      <td>-1.139031</td>\n      <td>-0.708736</td>\n      <td>0.191714</td>\n      <td>-1.597907</td>\n      <td>0.124855</td>\n      <td>1.662722</td>\n      <td>0.128932</td>\n      <td>-1.338376</td>\n      <td>0.121968</td>\n      <td>-0.993437</td>\n      <td>0.135899</td>\n      <td>0.503096</td>\n      <td>0.248301</td>\n      <td>-0.505767</td>\n      <td>-1.577313</td>\n      <td>0.223838</td>\n      <td>0.577544</td>\n      <td>-1.885893</td>\n      <td>-1.037271</td>\n      <td>-0.394940</td>\n      <td>-0.084426</td>\n      <td>0.046102</td>\n      <td>0.112023</td>\n      <td>-0.337455</td>\n      <td>-0.527738</td>\n      <td>0.232477</td>\n      <td>-0.366651</td>\n      <td>502.89</td>\n      <td>0</td>\n    </tr>\n    <tr>\n      <th>113013</th>\n      <td>1.205762</td>\n      <td>0.013247</td>\n      <td>0.951732</td>\n      <td>1.138075</td>\n      <td>-0.479702</td>\n      <td>0.307368</td>\n      <td>-0.500346</td>\n      <td>0.082905</td>\n      <td>0.785942</td>\n      <td>-0.233807</td>\n      <td>-1.357437</td>\n      <td>0.776953</td>\n      <td>1.255903</td>\n      <td>-0.623100</td>\n      <td>0.122262</td>\n      <td>0.272778</td>\n      <td>-0.614510</td>\n      <td>0.080188</td>\n      <td>0.096515</td>\n      <td>-0.030560</td>\n      <td>-0.103054</td>\n      <td>-0.041808</td>\n      <td>-0.124058</td>\n      <td>-0.415429</td>\n      <td>0.562038</td>\n      <td>-0.361177</td>\n      <td>0.077714</td>\n      <td>0.032766</td>\n      <td>12.99</td>\n      <td>0</td>\n    </tr>\n  </tbody>\n</table>\n</div>"
     },
     "metadata": {},
     "execution_count": 2
    }
   ],
   "source": [
    "dataset = load_creditcard_dataset()\n",
    "dataset.head()"
   ]
  },
  {
   "source": [
    "## 2) Setting up an MLFlow Experiment\n",
    "\n",
    "Now that a problem has been stated and some data to help solving the problem has been gathered, the next step is to setup a MLFlow experiment to log our models. **MLFlow is built upon the concept of experiments. A experiment is a series of fits, where parameters, metrics, models and artifacts can be associated with the respective fit (in an machine learning package agnostic way).**\n",
    "\n",
    "The code bellow tries to create an experiment, if that experiments already existis then it sets the experiment to the active one.\n",
    " "
   ],
   "cell_type": "markdown",
   "metadata": {}
  },
  {
   "cell_type": "code",
   "execution_count": 3,
   "metadata": {},
   "outputs": [
    {
     "output_type": "stream",
     "name": "stderr",
     "text": [
      "2021/05/11 20:41:36 INFO mlflow.store.db.utils: Creating initial MLflow database tables...\n",
      "2021/05/11 20:41:37 INFO mlflow.store.db.utils: Updating database tables\n",
      "INFO  [alembic.runtime.migration] Context impl SQLiteImpl.\n",
      "INFO  [alembic.runtime.migration] Will assume non-transactional DDL.\n",
      "INFO  [alembic.runtime.migration] Running upgrade  -> 451aebb31d03, add metric step\n",
      "INFO  [alembic.runtime.migration] Running upgrade 451aebb31d03 -> 90e64c465722, migrate user column to tags\n",
      "INFO  [alembic.runtime.migration] Running upgrade 90e64c465722 -> 181f10493468, allow nulls for metric values\n",
      "INFO  [alembic.runtime.migration] Running upgrade 181f10493468 -> df50e92ffc5e, Add Experiment Tags Table\n",
      "INFO  [alembic.runtime.migration] Running upgrade df50e92ffc5e -> 7ac759974ad8, Update run tags with larger limit\n",
      "INFO  [alembic.runtime.migration] Running upgrade 7ac759974ad8 -> 89d4b8295536, create latest metrics table\n",
      "INFO  [89d4b8295536_create_latest_metrics_table_py] Migration complete!\n",
      "INFO  [alembic.runtime.migration] Running upgrade 89d4b8295536 -> 2b4d017a5e9b, add model registry tables to db\n",
      "INFO  [2b4d017a5e9b_add_model_registry_tables_to_db_py] Adding registered_models and model_versions tables to database.\n",
      "INFO  [2b4d017a5e9b_add_model_registry_tables_to_db_py] Migration complete!\n",
      "INFO  [alembic.runtime.migration] Running upgrade 2b4d017a5e9b -> cfd24bdc0731, Update run status constraint with killed\n",
      "INFO  [alembic.runtime.migration] Running upgrade cfd24bdc0731 -> 0a8213491aaa, drop_duplicate_killed_constraint\n",
      "WARNI [0a8213491aaa_drop_duplicate_killed_constraint_py] Failed to drop check constraint. Dropping check constraints may not be supported by your SQL database. Exception content: No support for ALTER of constraints in SQLite dialectPlease refer to the batch mode feature which allows for SQLite migrations using a copy-and-move strategy.\n",
      "INFO  [alembic.runtime.migration] Running upgrade 0a8213491aaa -> 728d730b5ebd, add registered model tags table\n",
      "INFO  [alembic.runtime.migration] Running upgrade 728d730b5ebd -> 27a6a02d2cf1, add model version tags table\n",
      "INFO  [alembic.runtime.migration] Running upgrade 27a6a02d2cf1 -> 84291f40a231, add run_link to model_version\n",
      "INFO  [alembic.runtime.migration] Running upgrade 84291f40a231 -> a8c4a736bde6, allow nulls for run_id\n",
      "INFO  [alembic.runtime.migration] Running upgrade a8c4a736bde6 -> 39d1c3be5f05, add_is_nan_constraint_for_metrics_tables_if_necessary\n",
      "INFO  [alembic.runtime.migration] Context impl SQLiteImpl.\n",
      "INFO  [alembic.runtime.migration] Will assume non-transactional DDL.\n",
      "INFO  [alembic.runtime.migration] Context impl SQLiteImpl.\n",
      "INFO  [alembic.runtime.migration] Will assume non-transactional DDL.\n"
     ]
    }
   ],
   "source": [
    "mlflow.set_tracking_uri(\"sqlite:///mlruns.db\")\n",
    "try:\n",
    "    experiment = mlflow.create_experiment(EXPERIMENT_NAME)\n",
    "except Exception:\n",
    "    client = MlflowClient()\n",
    "    experiment = client.get_experiment_by_name(EXPERIMENT_NAME)\n",
    "mlflow.set_experiment(EXPERIMENT_NAME)\n",
    "mlflow.set_tracking_uri(\"sqlite:///mlruns.db\")"
   ]
  },
  {
   "source": [
    "## 3) Training different Models\n",
    "\n",
    "The ext step if to train, evaluate and log a few different models. In order to demonstrate that MLFlow allows us to use different machine learning packages we will train an H2O autoML and SkLearn models (using pycaret). Now is the time where MLFlow is put into action: For each model that if fitted it will be logged a few parameters, metrics, artifacts and the models it self. To understand how this is done it checkout the classifiers definitions in `src/trainers/` folder and the [MLFlow Logging Documentaion](https://www.mlflow.org/docs/latest/tracking.html#logging-data-to-runs). \n",
    "\n",
    "The next cells will train different classifier. Once they finish running you can deploy the [MLFlow Tracking UI](https://www.mlflow.org/docs/latest/tracking.html#tracking-ui) by executing `mlflow ui -p 5000 --backend-store-uri sqlite:///mlruns.db` in the terminal inside the `src/` folder. and see the results at [127.0.0.1:5000](127.0.0.1:5000)."
   ],
   "cell_type": "markdown",
   "metadata": {}
  },
  {
   "cell_type": "code",
   "execution_count": 4,
   "metadata": {},
   "outputs": [
    {
     "output_type": "stream",
     "name": "stdout",
     "text": [
      "Checking whether there is an H2O instance running at http://localhost:54321 ..... not found.\n",
      "Attempting to start a local H2O server...\n",
      "  Java Version: openjdk version \"11.0.11\" 2021-04-20; OpenJDK Runtime Environment (build 11.0.11+9-Ubuntu-0ubuntu2.20.04); OpenJDK 64-Bit Server VM (build 11.0.11+9-Ubuntu-0ubuntu2.20.04, mixed mode, sharing)\n",
      "  Starting server from /media/vinicius/Dados/poetry/poetry-envs/ml-pipes-VBbH4xSK-py3.8/lib/python3.8/site-packages/h2o/backend/bin/h2o.jar\n",
      "  Ice root: /tmp/tmp1znk3ipq\n",
      "  JVM stdout: /tmp/tmp1znk3ipq/h2o_vinicius_started_from_python.out\n",
      "  JVM stderr: /tmp/tmp1znk3ipq/h2o_vinicius_started_from_python.err\n",
      "  Server is running at http://127.0.0.1:54321\n",
      "Connecting to H2O server at http://127.0.0.1:54321 ... successful.\n"
     ]
    },
    {
     "output_type": "display_data",
     "data": {
      "text/plain": "--------------------------  ------------------------------------------------------------------\nH2O_cluster_uptime:         01 secs\nH2O_cluster_timezone:       America/Sao_Paulo\nH2O_data_parsing_timezone:  UTC\nH2O_cluster_version:        3.32.1.1\nH2O_cluster_version_age:    1 month and 16 days\nH2O_cluster_name:           H2O_from_python_vinicius_sr66om\nH2O_cluster_total_nodes:    1\nH2O_cluster_free_memory:    3 Gb\nH2O_cluster_total_cores:    8\nH2O_cluster_allowed_cores:  8\nH2O_cluster_status:         accepting new members, healthy\nH2O_connection_url:         http://127.0.0.1:54321\nH2O_connection_proxy:       {\"http\": null, \"https\": null}\nH2O_internal_security:      False\nH2O_API_Extensions:         Amazon S3, XGBoost, Algos, AutoML, Core V3, TargetEncoder, Core V4\nPython_version:             3.8.5 final\n--------------------------  ------------------------------------------------------------------",
      "text/html": "<div style=\"overflow:auto\"><table style=\"width:50%\"><tr><td>H2O_cluster_uptime:</td>\n<td>01 secs</td></tr>\n<tr><td>H2O_cluster_timezone:</td>\n<td>America/Sao_Paulo</td></tr>\n<tr><td>H2O_data_parsing_timezone:</td>\n<td>UTC</td></tr>\n<tr><td>H2O_cluster_version:</td>\n<td>3.32.1.1</td></tr>\n<tr><td>H2O_cluster_version_age:</td>\n<td>1 month and 16 days </td></tr>\n<tr><td>H2O_cluster_name:</td>\n<td>H2O_from_python_vinicius_sr66om</td></tr>\n<tr><td>H2O_cluster_total_nodes:</td>\n<td>1</td></tr>\n<tr><td>H2O_cluster_free_memory:</td>\n<td>3 Gb</td></tr>\n<tr><td>H2O_cluster_total_cores:</td>\n<td>8</td></tr>\n<tr><td>H2O_cluster_allowed_cores:</td>\n<td>8</td></tr>\n<tr><td>H2O_cluster_status:</td>\n<td>accepting new members, healthy</td></tr>\n<tr><td>H2O_connection_url:</td>\n<td>http://127.0.0.1:54321</td></tr>\n<tr><td>H2O_connection_proxy:</td>\n<td>{\"http\": null, \"https\": null}</td></tr>\n<tr><td>H2O_internal_security:</td>\n<td>False</td></tr>\n<tr><td>H2O_API_Extensions:</td>\n<td>Amazon S3, XGBoost, Algos, AutoML, Core V3, TargetEncoder, Core V4</td></tr>\n<tr><td>Python_version:</td>\n<td>3.8.5 final</td></tr></table></div>"
     },
     "metadata": {}
    },
    {
     "output_type": "stream",
     "name": "stdout",
     "text": [
      "Parse progress: |█████████████████████████████████████████████████████████| 100%\n",
      "INFO  [alembic.runtime.migration] Context impl SQLiteImpl.\n",
      "INFO  [alembic.runtime.migration] Will assume non-transactional DDL.\n",
      "AutoML progress: |\n",
      "20:41:44.359: User specified a validation frame with cross-validation still enabled. Please note that the models will still be validated using cross-validation only, the validation frame will be used to provide purely informative validation metrics on the trained models.\n",
      "\n",
      "████████████████████████████████████████████████████████| 100%\n",
      "INFO  [alembic.runtime.migration] Context impl SQLiteImpl.\n",
      "INFO  [alembic.runtime.migration] Will assume non-transactional DDL.\n",
      "Could not find exact threshold 0.5; using closest threshold found 0.48254385590553284.\n",
      "INFO  [alembic.runtime.migration] Context impl SQLiteImpl.\n",
      "INFO  [alembic.runtime.migration] Will assume non-transactional DDL.\n",
      "INFO  [alembic.runtime.migration] Context impl SQLiteImpl.\n",
      "INFO  [alembic.runtime.migration] Will assume non-transactional DDL.\n",
      "INFO  [alembic.runtime.migration] Context impl SQLiteImpl.\n",
      "INFO  [alembic.runtime.migration] Will assume non-transactional DDL.\n",
      "Could not find exact threshold 0.5; using closest threshold found 0.48254385590553284.\n",
      "INFO  [alembic.runtime.migration] Context impl SQLiteImpl.\n",
      "INFO  [alembic.runtime.migration] Will assume non-transactional DDL.\n",
      "Could not find exact threshold 0.5; using closest threshold found 0.48254385590553284.\n",
      "INFO  [alembic.runtime.migration] Context impl SQLiteImpl.\n",
      "INFO  [alembic.runtime.migration] Will assume non-transactional DDL.\n",
      "Could not find exact threshold 0.5; using closest threshold found 0.48254385590553284.\n",
      "INFO  [alembic.runtime.migration] Context impl SQLiteImpl.\n",
      "INFO  [alembic.runtime.migration] Will assume non-transactional DDL.\n",
      "Could not find exact threshold 0.5; using closest threshold found 0.48254385590553284.\n",
      "INFO  [alembic.runtime.migration] Context impl SQLiteImpl.\n",
      "INFO  [alembic.runtime.migration] Will assume non-transactional DDL.\n",
      "INFO  [alembic.runtime.migration] Context impl SQLiteImpl.\n",
      "INFO  [alembic.runtime.migration] Will assume non-transactional DDL.\n",
      "INFO  [alembic.runtime.migration] Context impl SQLiteImpl.\n",
      "INFO  [alembic.runtime.migration] Will assume non-transactional DDL.\n",
      "INFO  [alembic.runtime.migration] Context impl SQLiteImpl.\n",
      "INFO  [alembic.runtime.migration] Will assume non-transactional DDL.\n",
      "INFO  [alembic.runtime.migration] Context impl SQLiteImpl.\n",
      "INFO  [alembic.runtime.migration] Will assume non-transactional DDL.\n"
     ]
    },
    {
     "output_type": "execute_result",
     "data": {
      "text/plain": [
       "<trainers.h2o_automl.H2OClassifier at 0x7fa72d0f86a0>"
      ]
     },
     "metadata": {},
     "execution_count": 4
    }
   ],
   "source": [
    "H2OClassifier(\n",
    "    run_name='H2O',\n",
    "    max_mem_size='3G',\n",
    "    threshold=THRESHOLD,\n",
    "    df=dataset,\n",
    "    target_col='Class',\n",
    "    sort_metric='aucpr',\n",
    "    max_models=8,\n",
    "    max_runtime_secs=60,\n",
    "    nfolds=FOLDS,\n",
    "    seed=90\n",
    ")"
   ]
  },
  {
   "cell_type": "code",
   "execution_count": 5,
   "metadata": {
    "tags": [
     "outputPrepend"
    ]
   },
   "outputs": [
    {
     "output_type": "display_data",
     "data": {
      "text/plain": "                 Parameters\nn_components           None\npriors                 None\nshrinkage              None\nsolver                  svd\nstore_covariance      False\ntol                  0.0001",
      "text/html": "<div>\n<style scoped>\n    .dataframe tbody tr th:only-of-type {\n        vertical-align: middle;\n    }\n\n    .dataframe tbody tr th {\n        vertical-align: top;\n    }\n\n    .dataframe thead th {\n        text-align: right;\n    }\n</style>\n<table border=\"1\" class=\"dataframe\">\n  <thead>\n    <tr style=\"text-align: right;\">\n      <th></th>\n      <th>Parameters</th>\n    </tr>\n  </thead>\n  <tbody>\n    <tr>\n      <th>n_components</th>\n      <td>None</td>\n    </tr>\n    <tr>\n      <th>priors</th>\n      <td>None</td>\n    </tr>\n    <tr>\n      <th>shrinkage</th>\n      <td>None</td>\n    </tr>\n    <tr>\n      <th>solver</th>\n      <td>svd</td>\n    </tr>\n    <tr>\n      <th>store_covariance</th>\n      <td>False</td>\n    </tr>\n    <tr>\n      <th>tol</th>\n      <td>0.0001</td>\n    </tr>\n  </tbody>\n</table>\n</div>"
     },
     "metadata": {}
    },
    {
     "output_type": "stream",
     "name": "stderr",
     "text": [
      "INFO  [logs] Visual Rendered Successfully\n",
      "INFO  [logs] plot_model() succesfully completed......................................\n",
      "INFO  [alembic.runtime.migration] Context impl SQLiteImpl.\n",
      "INFO  [alembic.runtime.migration] Will assume non-transactional DDL.\n",
      "INFO  [alembic.runtime.migration] Context impl SQLiteImpl.\n",
      "INFO  [alembic.runtime.migration] Will assume non-transactional DDL.\n"
     ]
    },
    {
     "output_type": "execute_result",
     "data": {
      "text/plain": [
       "<trainers.pycaret.PycaretClassifier at 0x7fa7a3d69a60>"
      ]
     },
     "metadata": {},
     "execution_count": 5
    }
   ],
   "source": [
    "PycaretClassifier(\n",
    "        experiment_name=EXPERIMENT_NAME,\n",
    "        run_name='Pycaret',\n",
    "        sort_metric='precision',\n",
    "        df=dataset,\n",
    "        target='Class',\n",
    "        threshold=THRESHOLD,\n",
    "        n_best_models=3,\n",
    "        data_split_stratify=True,\n",
    "        nfolds=FOLDS,\n",
    "        normalize=True,\n",
    "        transformation=True,\n",
    "        ignore_low_variance=True,\n",
    "        remove_multicollinearity=True,\n",
    "        multicollinearity_threshold=0.95,\n",
    "        session_id=54321\n",
    ")"
   ]
  },
  {
   "source": [
    "## 4) Setting the Best Model to Production\n",
    "\n",
    "The final step in this notebook if to set to production the model with the best selected metric, imported as `CHAMPION_METRIC`. This is done to show is is possible to create an automated workflow using MLFlow to deplot a model. However it is also possible to deplot the model using the [UI server](https://www.mlflow.org/docs/latest/model-registry.html#ui-workflow).\n",
    "\n",
    "Once this is done you can return to the README file to check how the model is now deployed."
   ],
   "cell_type": "markdown",
   "metadata": {}
  },
  {
   "cell_type": "code",
   "execution_count": 6,
   "metadata": {},
   "outputs": [
    {
     "output_type": "stream",
     "name": "stderr",
     "text": [
      "INFO  [alembic.runtime.migration] Context impl SQLiteImpl.\n",
      "INFO  [alembic.runtime.migration] Will assume non-transactional DDL.\n",
      "INFO  [alembic.runtime.migration] Context impl SQLiteImpl.\n",
      "INFO  [alembic.runtime.migration] Will assume non-transactional DDL.\n",
      "INFO  [alembic.runtime.migration] Context impl SQLiteImpl.\n",
      "INFO  [alembic.runtime.migration] Will assume non-transactional DDL.\n",
      "Successfully registered model 'CreditCardDefault'.\n",
      "INFO  [alembic.runtime.migration] Context impl SQLiteImpl.\n",
      "INFO  [alembic.runtime.migration] Will assume non-transactional DDL.\n",
      "2021/05/11 20:43:40 INFO mlflow.tracking._model_registry.client: Waiting up to 300 seconds for model version to finish creation.                     Model name: CreditCardDefault, version 1\n",
      "Created version '1' of model 'CreditCardDefault'.\n",
      "INFO  [alembic.runtime.migration] Context impl SQLiteImpl.\n",
      "INFO  [alembic.runtime.migration] Will assume non-transactional DDL.\n",
      "INFO  [alembic.runtime.migration] Context impl SQLiteImpl.\n",
      "INFO  [alembic.runtime.migration] Will assume non-transactional DDL.\n"
     ]
    },
    {
     "output_type": "execute_result",
     "data": {
      "text/plain": [
       "<ModelVersion: creation_timestamp=1620776620726, current_stage='Production', description='Deploying model with model registery', last_updated_timestamp=1620776621049, name='CreditCardDefault', run_id='da26388cb5d04ec78d027cd0010855a3', run_link=None, source='./mlruns/1/da26388cb5d04ec78d027cd0010855a3/artifacts/model', status='READY', status_message=None, tags={}, user_id=None, version=1>"
      ]
     },
     "metadata": {},
     "execution_count": 6
    }
   ],
   "source": [
    "# Getting The best Model according to CHAMPION_METRIC\n",
    "champion = MlflowClient().search_runs(\n",
    "    experiment_ids=[\n",
    "        str(\n",
    "            mlflow.get_experiment_by_name(name=EXPERIMENT_NAME).experiment_id\n",
    "        )\n",
    "    ],\n",
    "    run_view_type=ViewType.ALL,\n",
    "    order_by=[f\"metrics.{CHAMPION_METRIC} DESC\"],\n",
    "    max_results=1\n",
    ")\n",
    "run_id = champion[0].info.run_id\n",
    "\n",
    "# Registering Model in model registery\n",
    "model = mlflow.register_model(\n",
    "    model_uri=f\"runs:/{run_id}/model\",\n",
    "    name=CREDIT_CARD_MODEL_NAME\n",
    ")\n",
    "\n",
    "# Setting version 1\n",
    "MlflowClient().update_model_version(\n",
    "    name=CREDIT_CARD_MODEL_NAME,\n",
    "    version=model.version,\n",
    "    description='Deploying model with model registery'\n",
    ")\n",
    "\n",
    "# Setting it to production\n",
    "MlflowClient().transition_model_version_stage(\n",
    "    name=CREDIT_CARD_MODEL_NAME,\n",
    "    version=model.version,\n",
    "    stage=\"Production\"\n",
    ")"
   ]
  }
 ]
}