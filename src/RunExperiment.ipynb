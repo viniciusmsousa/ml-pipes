{
 "metadata": {
  "language_info": {
   "codemirror_mode": {
    "name": "ipython",
    "version": 3
   },
   "file_extension": ".py",
   "mimetype": "text/x-python",
   "name": "python",
   "nbconvert_exporter": "python",
   "pygments_lexer": "ipython3",
   "version": "3.8.5"
  },
  "orig_nbformat": 2,
  "kernelspec": {
   "name": "python385jvsc74a57bd091e54437ba924c8ff0ef21fd935a5cc04c16b591cf97d51ec85aa641f4cda69d",
   "display_name": "Python 3.8.5 64-bit ('ml-pipes-VBbH4xSK-py3.8': venv)"
  },
  "metadata": {
   "interpreter": {
    "hash": "91e54437ba924c8ff0ef21fd935a5cc04c16b591cf97d51ec85aa641f4cda69d"
   }
  }
 },
 "nbformat": 4,
 "nbformat_minor": 2,
 "cells": [
  {
   "source": [
    "# Ml-Pipes\n",
    "\n",
    "The objective of this project is to present a gentle introduction of how a machine learning model can be trained and deployed. And how [MLFlow](https://www.mlflow.org/), [FastAPI](https://fastapi.tiangolo.com/) and [Docker](https://docs.docker.com/) can facilite a couple aspects of such a task. Within this context, this notebook represents the development part of the model, where a data scientist would create a few models, evaluate it using some metrics and select the best one based in a metric. There are a lot of different machine learning tools that can be used in order to create models. It is important to note that the objective of this notebook is to give a broad overview of and end to end machine learning process, and therefore it is recommended to have the documentation of the frameworks used here as a companion. Also, the README file from the project explains how to reproduce the whole project.\n",
    "\n",
    "The rest of the notebook is organized as follows\n",
    "- 1) The Problem;\n",
    "- 2) Setting up an MLFlow Experiment;\n",
    "- 3) Training different Models;\n",
    "- 4) Setting the Best Model to Production.\n",
    "\n",
    "The code bellow imports everything that will be used throughout the notebook."
   ],
   "cell_type": "markdown",
   "metadata": {}
  },
  {
   "cell_type": "code",
   "execution_count": 7,
   "metadata": {},
   "outputs": [],
   "source": [
    "# Import Libs\n",
    "import pandas as pd\n",
    "pd.set_option('display.max_columns', 500)\n",
    "\n",
    "import mlflow\n",
    "from mlflow.tracking import MlflowClient\n",
    "from mlflow.entities import ViewType\n",
    "\n",
    "from settings import EXPERIMENT_NAME, FOLDS, CREDIT_CARD_MODEL_NAME,\\\n",
    "     CHAMPION_METRIC, THRESHOLD  # pylint: disable=import-error\n",
    "from dao.CreditCardDefault \\\n",
    "    import load_creditcard_dataset  # pylint: disable=import-error\n",
    "from trainers.h2o_automl import H2OClassifier  # pylint: disable=import-error\n",
    "from trainers.pycaret import PycaretClassifier  # pylint: disable=import-error\n",
    "from trainers.spark import SparkClassifier"
   ]
  },
  {
   "source": [
    "## 1) The problem\n",
    "\n",
    "The first thing we need to have to build a model is a problem to solve. Here it is used as example the [Credit Card Default from Kagle](https://www.kaggle.com/mlg-ulb/creditcardfraud), where basically the objective if to predict based on a few features whether or not a client will default on its credit card. The taret variable can assume the values 1, for default, and 0 for non default. Therefore it is a binary classification problem.\n",
    "\n",
    "Bellow the dataset is imported and the first rows of the dataset. Note that the Time column has been removed from the original dataset."
   ],
   "cell_type": "markdown",
   "metadata": {}
  },
  {
   "cell_type": "code",
   "execution_count": 2,
   "metadata": {},
   "outputs": [
    {
     "output_type": "execute_result",
     "data": {
      "text/plain": [
       "              V1        V2        V3        V4        V5        V6        V7  \\\n",
       "55417   1.085133 -0.669989  0.822036  0.142537 -0.907347  0.363765 -0.715182   \n",
       "200517  1.092187 -1.936115 -0.742691  0.626054 -0.861825  0.735219 -0.367658   \n",
       "129108  1.142044  0.109129  0.277380  1.205483  0.026661  0.321842 -0.072794   \n",
       "83676  -0.450198  1.181688  1.325129  0.358330  0.106443 -0.870807  0.827045   \n",
       "38963   1.277614 -0.050241  0.124556  0.118730 -0.155314 -0.084027 -0.177664   \n",
       "\n",
       "              V8        V9       V10       V11       V12       V13       V14  \\\n",
       "55417   0.254263  1.354373 -0.499274 -1.158256  0.059617 -0.775425 -0.378222   \n",
       "200517  0.162170  0.974413 -0.035394  0.367724  1.024159  0.624077 -0.098820   \n",
       "129108  0.180119  0.126646  0.058191  0.786083  0.853191 -0.640728  0.339021   \n",
       "83676  -0.367590 -0.152878  0.126591 -0.141445 -0.346248 -0.113214 -0.578416   \n",
       "38963   0.061263  0.304515 -0.047960  0.353242  0.527604 -0.462419  0.298590   \n",
       "\n",
       "             V15       V16       V17       V18       V19       V20       V21  \\\n",
       "55417   0.083173 -0.221112  0.291495 -0.812330  0.281002 -0.023034 -0.211608   \n",
       "200517  0.121401  1.045670 -1.132820  0.805714 -0.025966  0.809354  0.309958   \n",
       "129108 -0.717260 -0.408093 -0.078953 -0.316147  0.048457 -0.196701 -0.076447   \n",
       "83676   1.276736  0.004538  0.131425 -0.046179  0.585897  0.213158 -0.227665   \n",
       "38963  -0.282083  0.370863 -0.612118  0.151401  0.851838 -0.098935 -0.259287   \n",
       "\n",
       "             V22       V23       V24       V25       V26       V27       V28  \\\n",
       "55417  -0.488872  0.004122 -0.371560  0.079359  0.999670 -0.034705  0.014633   \n",
       "200517 -0.037190 -0.129510  0.232609 -0.633778  0.095433 -0.084777  0.037491   \n",
       "129108 -0.044667 -0.110400 -0.300581  0.660126 -0.308426  0.032219  0.001730   \n",
       "83676  -0.473840  0.024050  0.332656 -0.730847  0.052158 -0.058601  0.016804   \n",
       "38963  -0.686230 -0.048703 -0.504743  0.394324  0.483180 -0.051502 -0.009545   \n",
       "\n",
       "        Amount  Class  \n",
       "55417    69.32      0  \n",
       "200517  462.51      0  \n",
       "129108    9.74      0  \n",
       "83676     5.49      0  \n",
       "38963     4.00      0  "
      ],
      "text/html": "<div>\n<style scoped>\n    .dataframe tbody tr th:only-of-type {\n        vertical-align: middle;\n    }\n\n    .dataframe tbody tr th {\n        vertical-align: top;\n    }\n\n    .dataframe thead th {\n        text-align: right;\n    }\n</style>\n<table border=\"1\" class=\"dataframe\">\n  <thead>\n    <tr style=\"text-align: right;\">\n      <th></th>\n      <th>V1</th>\n      <th>V2</th>\n      <th>V3</th>\n      <th>V4</th>\n      <th>V5</th>\n      <th>V6</th>\n      <th>V7</th>\n      <th>V8</th>\n      <th>V9</th>\n      <th>V10</th>\n      <th>V11</th>\n      <th>V12</th>\n      <th>V13</th>\n      <th>V14</th>\n      <th>V15</th>\n      <th>V16</th>\n      <th>V17</th>\n      <th>V18</th>\n      <th>V19</th>\n      <th>V20</th>\n      <th>V21</th>\n      <th>V22</th>\n      <th>V23</th>\n      <th>V24</th>\n      <th>V25</th>\n      <th>V26</th>\n      <th>V27</th>\n      <th>V28</th>\n      <th>Amount</th>\n      <th>Class</th>\n    </tr>\n  </thead>\n  <tbody>\n    <tr>\n      <th>55417</th>\n      <td>1.085133</td>\n      <td>-0.669989</td>\n      <td>0.822036</td>\n      <td>0.142537</td>\n      <td>-0.907347</td>\n      <td>0.363765</td>\n      <td>-0.715182</td>\n      <td>0.254263</td>\n      <td>1.354373</td>\n      <td>-0.499274</td>\n      <td>-1.158256</td>\n      <td>0.059617</td>\n      <td>-0.775425</td>\n      <td>-0.378222</td>\n      <td>0.083173</td>\n      <td>-0.221112</td>\n      <td>0.291495</td>\n      <td>-0.812330</td>\n      <td>0.281002</td>\n      <td>-0.023034</td>\n      <td>-0.211608</td>\n      <td>-0.488872</td>\n      <td>0.004122</td>\n      <td>-0.371560</td>\n      <td>0.079359</td>\n      <td>0.999670</td>\n      <td>-0.034705</td>\n      <td>0.014633</td>\n      <td>69.32</td>\n      <td>0</td>\n    </tr>\n    <tr>\n      <th>200517</th>\n      <td>1.092187</td>\n      <td>-1.936115</td>\n      <td>-0.742691</td>\n      <td>0.626054</td>\n      <td>-0.861825</td>\n      <td>0.735219</td>\n      <td>-0.367658</td>\n      <td>0.162170</td>\n      <td>0.974413</td>\n      <td>-0.035394</td>\n      <td>0.367724</td>\n      <td>1.024159</td>\n      <td>0.624077</td>\n      <td>-0.098820</td>\n      <td>0.121401</td>\n      <td>1.045670</td>\n      <td>-1.132820</td>\n      <td>0.805714</td>\n      <td>-0.025966</td>\n      <td>0.809354</td>\n      <td>0.309958</td>\n      <td>-0.037190</td>\n      <td>-0.129510</td>\n      <td>0.232609</td>\n      <td>-0.633778</td>\n      <td>0.095433</td>\n      <td>-0.084777</td>\n      <td>0.037491</td>\n      <td>462.51</td>\n      <td>0</td>\n    </tr>\n    <tr>\n      <th>129108</th>\n      <td>1.142044</td>\n      <td>0.109129</td>\n      <td>0.277380</td>\n      <td>1.205483</td>\n      <td>0.026661</td>\n      <td>0.321842</td>\n      <td>-0.072794</td>\n      <td>0.180119</td>\n      <td>0.126646</td>\n      <td>0.058191</td>\n      <td>0.786083</td>\n      <td>0.853191</td>\n      <td>-0.640728</td>\n      <td>0.339021</td>\n      <td>-0.717260</td>\n      <td>-0.408093</td>\n      <td>-0.078953</td>\n      <td>-0.316147</td>\n      <td>0.048457</td>\n      <td>-0.196701</td>\n      <td>-0.076447</td>\n      <td>-0.044667</td>\n      <td>-0.110400</td>\n      <td>-0.300581</td>\n      <td>0.660126</td>\n      <td>-0.308426</td>\n      <td>0.032219</td>\n      <td>0.001730</td>\n      <td>9.74</td>\n      <td>0</td>\n    </tr>\n    <tr>\n      <th>83676</th>\n      <td>-0.450198</td>\n      <td>1.181688</td>\n      <td>1.325129</td>\n      <td>0.358330</td>\n      <td>0.106443</td>\n      <td>-0.870807</td>\n      <td>0.827045</td>\n      <td>-0.367590</td>\n      <td>-0.152878</td>\n      <td>0.126591</td>\n      <td>-0.141445</td>\n      <td>-0.346248</td>\n      <td>-0.113214</td>\n      <td>-0.578416</td>\n      <td>1.276736</td>\n      <td>0.004538</td>\n      <td>0.131425</td>\n      <td>-0.046179</td>\n      <td>0.585897</td>\n      <td>0.213158</td>\n      <td>-0.227665</td>\n      <td>-0.473840</td>\n      <td>0.024050</td>\n      <td>0.332656</td>\n      <td>-0.730847</td>\n      <td>0.052158</td>\n      <td>-0.058601</td>\n      <td>0.016804</td>\n      <td>5.49</td>\n      <td>0</td>\n    </tr>\n    <tr>\n      <th>38963</th>\n      <td>1.277614</td>\n      <td>-0.050241</td>\n      <td>0.124556</td>\n      <td>0.118730</td>\n      <td>-0.155314</td>\n      <td>-0.084027</td>\n      <td>-0.177664</td>\n      <td>0.061263</td>\n      <td>0.304515</td>\n      <td>-0.047960</td>\n      <td>0.353242</td>\n      <td>0.527604</td>\n      <td>-0.462419</td>\n      <td>0.298590</td>\n      <td>-0.282083</td>\n      <td>0.370863</td>\n      <td>-0.612118</td>\n      <td>0.151401</td>\n      <td>0.851838</td>\n      <td>-0.098935</td>\n      <td>-0.259287</td>\n      <td>-0.686230</td>\n      <td>-0.048703</td>\n      <td>-0.504743</td>\n      <td>0.394324</td>\n      <td>0.483180</td>\n      <td>-0.051502</td>\n      <td>-0.009545</td>\n      <td>4.00</td>\n      <td>0</td>\n    </tr>\n  </tbody>\n</table>\n</div>"
     },
     "metadata": {},
     "execution_count": 2
    }
   ],
   "source": [
    "dataset = load_creditcard_dataset()\n",
    "dataset.head()"
   ]
  },
  {
   "source": [
    "## 2) Setting up an MLFlow Experiment\n",
    "\n",
    "Now that a problem has been stated and some data to help solving the problem has been gathered, the next step is to setup a MLFlow experiment to log our models. **MLFlow is built upon the concept of experiments. A experiment is a series of fits, where parameters, metrics, models and artifacts can be associated with the respective fit (in an machine learning package agnostic way).**\n",
    "\n",
    "The code bellow tries to create an experiment, if that experiments already existis then it sets the experiment to the active one.\n",
    " "
   ],
   "cell_type": "markdown",
   "metadata": {}
  },
  {
   "cell_type": "code",
   "execution_count": 3,
   "metadata": {},
   "outputs": [
    {
     "output_type": "stream",
     "name": "stderr",
     "text": [
      "2021/05/11 22:25:50 INFO mlflow.store.db.utils: Creating initial MLflow database tables...\n",
      "2021/05/11 22:25:51 INFO mlflow.store.db.utils: Updating database tables\n",
      "INFO  [alembic.runtime.migration] Context impl SQLiteImpl.\n",
      "INFO  [alembic.runtime.migration] Will assume non-transactional DDL.\n",
      "INFO  [alembic.runtime.migration] Running upgrade  -> 451aebb31d03, add metric step\n",
      "INFO  [alembic.runtime.migration] Running upgrade 451aebb31d03 -> 90e64c465722, migrate user column to tags\n",
      "INFO  [alembic.runtime.migration] Running upgrade 90e64c465722 -> 181f10493468, allow nulls for metric values\n",
      "INFO  [alembic.runtime.migration] Running upgrade 181f10493468 -> df50e92ffc5e, Add Experiment Tags Table\n",
      "INFO  [alembic.runtime.migration] Running upgrade df50e92ffc5e -> 7ac759974ad8, Update run tags with larger limit\n",
      "INFO  [alembic.runtime.migration] Running upgrade 7ac759974ad8 -> 89d4b8295536, create latest metrics table\n",
      "INFO  [89d4b8295536_create_latest_metrics_table_py] Migration complete!\n",
      "INFO  [alembic.runtime.migration] Running upgrade 89d4b8295536 -> 2b4d017a5e9b, add model registry tables to db\n",
      "INFO  [2b4d017a5e9b_add_model_registry_tables_to_db_py] Adding registered_models and model_versions tables to database.\n",
      "INFO  [2b4d017a5e9b_add_model_registry_tables_to_db_py] Migration complete!\n",
      "INFO  [alembic.runtime.migration] Running upgrade 2b4d017a5e9b -> cfd24bdc0731, Update run status constraint with killed\n",
      "INFO  [alembic.runtime.migration] Running upgrade cfd24bdc0731 -> 0a8213491aaa, drop_duplicate_killed_constraint\n",
      "WARNI [0a8213491aaa_drop_duplicate_killed_constraint_py] Failed to drop check constraint. Dropping check constraints may not be supported by your SQL database. Exception content: No support for ALTER of constraints in SQLite dialectPlease refer to the batch mode feature which allows for SQLite migrations using a copy-and-move strategy.\n",
      "INFO  [alembic.runtime.migration] Running upgrade 0a8213491aaa -> 728d730b5ebd, add registered model tags table\n",
      "INFO  [alembic.runtime.migration] Running upgrade 728d730b5ebd -> 27a6a02d2cf1, add model version tags table\n",
      "INFO  [alembic.runtime.migration] Running upgrade 27a6a02d2cf1 -> 84291f40a231, add run_link to model_version\n",
      "INFO  [alembic.runtime.migration] Running upgrade 84291f40a231 -> a8c4a736bde6, allow nulls for run_id\n",
      "INFO  [alembic.runtime.migration] Running upgrade a8c4a736bde6 -> 39d1c3be5f05, add_is_nan_constraint_for_metrics_tables_if_necessary\n",
      "INFO  [alembic.runtime.migration] Context impl SQLiteImpl.\n",
      "INFO  [alembic.runtime.migration] Will assume non-transactional DDL.\n",
      "INFO  [alembic.runtime.migration] Context impl SQLiteImpl.\n",
      "INFO  [alembic.runtime.migration] Will assume non-transactional DDL.\n"
     ]
    }
   ],
   "source": [
    "mlflow.set_tracking_uri(\"sqlite:///mlruns.db\")\n",
    "try:\n",
    "    experiment = mlflow.create_experiment(EXPERIMENT_NAME)\n",
    "except Exception:\n",
    "    client = MlflowClient()\n",
    "    experiment = client.get_experiment_by_name(EXPERIMENT_NAME)\n",
    "mlflow.set_experiment(EXPERIMENT_NAME)\n",
    "mlflow.set_tracking_uri(\"sqlite:///mlruns.db\")"
   ]
  },
  {
   "source": [
    "## 3) Training different Models\n",
    "\n",
    "The ext step if to train, evaluate and log a few different models. In order to demonstrate that MLFlow allows us to use different machine learning packages we will train an H2O autoML and SkLearn models (using pycaret). Now is the time where MLFlow is put into action: For each model that if fitted it will be logged a few parameters, metrics, artifacts and the models it self. To understand how this is done it checkout the classifiers definitions in `src/trainers/` folder and the [MLFlow Logging Documentaion](https://www.mlflow.org/docs/latest/tracking.html#logging-data-to-runs), ot all happens inside the `mlflow.start_run()` context manager. \n",
    "\n",
    "The next cells will train different classifiers. Once they finish running you can deploy the [MLFlow Tracking UI](https://www.mlflow.org/docs/latest/tracking.html#tracking-ui) by executing `mlflow ui -p 5000 --backend-store-uri sqlite:///mlruns.db` in the terminal inside the `src/` folder. and see the results at [127.0.0.1:5000](127.0.0.1:5000)."
   ],
   "cell_type": "markdown",
   "metadata": {}
  },
  {
   "cell_type": "code",
   "execution_count": 4,
   "metadata": {},
   "outputs": [
    {
     "output_type": "stream",
     "name": "stdout",
     "text": [
      "Checking whether there is an H2O instance running at http://localhost:54321 . connected.\n"
     ]
    },
    {
     "output_type": "display_data",
     "data": {
      "text/plain": "--------------------------  ------------------------------------------------------------------\nH2O_cluster_uptime:         47 mins 50 secs\nH2O_cluster_timezone:       America/Sao_Paulo\nH2O_data_parsing_timezone:  UTC\nH2O_cluster_version:        3.32.1.1\nH2O_cluster_version_age:    1 month and 16 days\nH2O_cluster_name:           H2O_from_python_vinicius_crvatf\nH2O_cluster_total_nodes:    1\nH2O_cluster_free_memory:    2.894 Gb\nH2O_cluster_total_cores:    8\nH2O_cluster_allowed_cores:  8\nH2O_cluster_status:         locked, healthy\nH2O_connection_url:         http://localhost:54321\nH2O_connection_proxy:       {\"http\": null, \"https\": null}\nH2O_internal_security:      False\nH2O_API_Extensions:         Amazon S3, XGBoost, Algos, AutoML, Core V3, TargetEncoder, Core V4\nPython_version:             3.8.5 final\n--------------------------  ------------------------------------------------------------------",
      "text/html": "<div style=\"overflow:auto\"><table style=\"width:50%\"><tr><td>H2O_cluster_uptime:</td>\n<td>47 mins 50 secs</td></tr>\n<tr><td>H2O_cluster_timezone:</td>\n<td>America/Sao_Paulo</td></tr>\n<tr><td>H2O_data_parsing_timezone:</td>\n<td>UTC</td></tr>\n<tr><td>H2O_cluster_version:</td>\n<td>3.32.1.1</td></tr>\n<tr><td>H2O_cluster_version_age:</td>\n<td>1 month and 16 days </td></tr>\n<tr><td>H2O_cluster_name:</td>\n<td>H2O_from_python_vinicius_crvatf</td></tr>\n<tr><td>H2O_cluster_total_nodes:</td>\n<td>1</td></tr>\n<tr><td>H2O_cluster_free_memory:</td>\n<td>2.894 Gb</td></tr>\n<tr><td>H2O_cluster_total_cores:</td>\n<td>8</td></tr>\n<tr><td>H2O_cluster_allowed_cores:</td>\n<td>8</td></tr>\n<tr><td>H2O_cluster_status:</td>\n<td>locked, healthy</td></tr>\n<tr><td>H2O_connection_url:</td>\n<td>http://localhost:54321</td></tr>\n<tr><td>H2O_connection_proxy:</td>\n<td>{\"http\": null, \"https\": null}</td></tr>\n<tr><td>H2O_internal_security:</td>\n<td>False</td></tr>\n<tr><td>H2O_API_Extensions:</td>\n<td>Amazon S3, XGBoost, Algos, AutoML, Core V3, TargetEncoder, Core V4</td></tr>\n<tr><td>Python_version:</td>\n<td>3.8.5 final</td></tr></table></div>"
     },
     "metadata": {}
    },
    {
     "output_type": "stream",
     "name": "stdout",
     "text": [
      "Parse progress: |█████████████████████████████████████████████████████████| 100%\n",
      "INFO  [alembic.runtime.migration] Context impl SQLiteImpl.\n",
      "INFO  [alembic.runtime.migration] Will assume non-transactional DDL.\n",
      "AutoML progress: |\n",
      "22:25:55.258: User specified a validation frame with cross-validation still enabled. Please note that the models will still be validated using cross-validation only, the validation frame will be used to provide purely informative validation metrics on the trained models.\n",
      "\n",
      "████████████████████████████████████████████████████████| 100%\n",
      "INFO  [alembic.runtime.migration] Context impl SQLiteImpl.\n",
      "INFO  [alembic.runtime.migration] Will assume non-transactional DDL.\n",
      "Could not find exact threshold 0.5; using closest threshold found 0.48643484711647034.\n",
      "INFO  [alembic.runtime.migration] Context impl SQLiteImpl.\n",
      "INFO  [alembic.runtime.migration] Will assume non-transactional DDL.\n",
      "INFO  [alembic.runtime.migration] Context impl SQLiteImpl.\n",
      "INFO  [alembic.runtime.migration] Will assume non-transactional DDL.\n",
      "INFO  [alembic.runtime.migration] Context impl SQLiteImpl.\n",
      "INFO  [alembic.runtime.migration] Will assume non-transactional DDL.\n",
      "Could not find exact threshold 0.5; using closest threshold found 0.48643484711647034.\n",
      "INFO  [alembic.runtime.migration] Context impl SQLiteImpl.\n",
      "INFO  [alembic.runtime.migration] Will assume non-transactional DDL.\n",
      "Could not find exact threshold 0.5; using closest threshold found 0.48643484711647034.\n",
      "INFO  [alembic.runtime.migration] Context impl SQLiteImpl.\n",
      "INFO  [alembic.runtime.migration] Will assume non-transactional DDL.\n",
      "Could not find exact threshold 0.5; using closest threshold found 0.48643484711647034.\n",
      "INFO  [alembic.runtime.migration] Context impl SQLiteImpl.\n",
      "INFO  [alembic.runtime.migration] Will assume non-transactional DDL.\n",
      "Could not find exact threshold 0.5; using closest threshold found 0.48643484711647034.\n",
      "INFO  [alembic.runtime.migration] Context impl SQLiteImpl.\n",
      "INFO  [alembic.runtime.migration] Will assume non-transactional DDL.\n",
      "INFO  [alembic.runtime.migration] Context impl SQLiteImpl.\n",
      "INFO  [alembic.runtime.migration] Will assume non-transactional DDL.\n",
      "INFO  [alembic.runtime.migration] Context impl SQLiteImpl.\n",
      "INFO  [alembic.runtime.migration] Will assume non-transactional DDL.\n",
      "INFO  [alembic.runtime.migration] Context impl SQLiteImpl.\n",
      "INFO  [alembic.runtime.migration] Will assume non-transactional DDL.\n",
      "INFO  [alembic.runtime.migration] Context impl SQLiteImpl.\n",
      "INFO  [alembic.runtime.migration] Will assume non-transactional DDL.\n"
     ]
    },
    {
     "output_type": "execute_result",
     "data": {
      "text/plain": [
       "<trainers.h2o_automl.H2OClassifier at 0x7f0f09b740a0>"
      ]
     },
     "metadata": {},
     "execution_count": 4
    }
   ],
   "source": [
    "H2OClassifier(\n",
    "    run_name='H2O',\n",
    "    max_mem_size='3G',\n",
    "    threshold=THRESHOLD,\n",
    "    df=dataset,\n",
    "    target_col='Class',\n",
    "    sort_metric='aucpr',\n",
    "    max_models=8,\n",
    "    max_runtime_secs=60,\n",
    "    nfolds=FOLDS,\n",
    "    seed=90\n",
    ")"
   ]
  },
  {
   "cell_type": "code",
   "execution_count": 5,
   "metadata": {
    "tags": [
     "outputPrepend"
    ]
   },
   "outputs": [
    {
     "output_type": "display_data",
     "data": {
      "text/plain": "              Parameters\nalpha                1.0\nclass_weight        None\ncopy_X              True\nfit_intercept       True\nmax_iter            None\nnormalize          False\nrandom_state       54321\nsolver              auto\ntol                0.001",
      "text/html": "<div>\n<style scoped>\n    .dataframe tbody tr th:only-of-type {\n        vertical-align: middle;\n    }\n\n    .dataframe tbody tr th {\n        vertical-align: top;\n    }\n\n    .dataframe thead th {\n        text-align: right;\n    }\n</style>\n<table border=\"1\" class=\"dataframe\">\n  <thead>\n    <tr style=\"text-align: right;\">\n      <th></th>\n      <th>Parameters</th>\n    </tr>\n  </thead>\n  <tbody>\n    <tr>\n      <th>alpha</th>\n      <td>1.0</td>\n    </tr>\n    <tr>\n      <th>class_weight</th>\n      <td>None</td>\n    </tr>\n    <tr>\n      <th>copy_X</th>\n      <td>True</td>\n    </tr>\n    <tr>\n      <th>fit_intercept</th>\n      <td>True</td>\n    </tr>\n    <tr>\n      <th>max_iter</th>\n      <td>None</td>\n    </tr>\n    <tr>\n      <th>normalize</th>\n      <td>False</td>\n    </tr>\n    <tr>\n      <th>random_state</th>\n      <td>54321</td>\n    </tr>\n    <tr>\n      <th>solver</th>\n      <td>auto</td>\n    </tr>\n    <tr>\n      <th>tol</th>\n      <td>0.001</td>\n    </tr>\n  </tbody>\n</table>\n</div>"
     },
     "metadata": {}
    },
    {
     "output_type": "stream",
     "name": "stderr",
     "text": [
      "INFO  [logs] Visual Rendered Successfully\n",
      "INFO  [logs] plot_model() succesfully completed......................................\n",
      "INFO  [alembic.runtime.migration] Context impl SQLiteImpl.\n",
      "INFO  [alembic.runtime.migration] Will assume non-transactional DDL.\n",
      "INFO  [alembic.runtime.migration] Context impl SQLiteImpl.\n",
      "INFO  [alembic.runtime.migration] Will assume non-transactional DDL.\n"
     ]
    },
    {
     "output_type": "execute_result",
     "data": {
      "text/plain": [
       "<trainers.pycaret.PycaretClassifier at 0x7f0f85730310>"
      ]
     },
     "metadata": {},
     "execution_count": 5
    }
   ],
   "source": [
    "PycaretClassifier(\n",
    "        experiment_name=EXPERIMENT_NAME,\n",
    "        run_name='Pycaret',\n",
    "        sort_metric='precision',\n",
    "        df=dataset,\n",
    "        target='Class',\n",
    "        threshold=THRESHOLD,\n",
    "        n_best_models=3,\n",
    "        data_split_stratify=True,\n",
    "        nfolds=FOLDS,\n",
    "        normalize=True,\n",
    "        transformation=True,\n",
    "        ignore_low_variance=True,\n",
    "        remove_multicollinearity=True,\n",
    "        multicollinearity_threshold=0.95,\n",
    "        session_id=54321\n",
    ")"
   ]
  },
  {
   "cell_type": "code",
   "execution_count": 10,
   "metadata": {},
   "outputs": [
    {
     "output_type": "stream",
     "name": "stderr",
     "text": [
      "INFO  [alembic.runtime.migration] Context impl SQLiteImpl.\n",
      "INFO  [alembic.runtime.migration] Will assume non-transactional DDL.\n",
      "INFO  [alembic.runtime.migration] Context impl SQLiteImpl.\n",
      "INFO  [alembic.runtime.migration] Will assume non-transactional DDL.\n",
      "INFO  [alembic.runtime.migration] Context impl SQLiteImpl.\n",
      "INFO  [alembic.runtime.migration] Will assume non-transactional DDL.\n",
      "INFO  [alembic.runtime.migration] Context impl SQLiteImpl.\n",
      "INFO  [alembic.runtime.migration] Will assume non-transactional DDL.\n",
      "INFO  [alembic.runtime.migration] Context impl SQLiteImpl.\n",
      "INFO  [alembic.runtime.migration] Will assume non-transactional DDL.\n",
      "INFO  [alembic.runtime.migration] Context impl SQLiteImpl.\n",
      "INFO  [alembic.runtime.migration] Will assume non-transactional DDL.\n",
      "INFO  [alembic.runtime.migration] Context impl SQLiteImpl.\n",
      "INFO  [alembic.runtime.migration] Will assume non-transactional DDL.\n",
      "INFO  [alembic.runtime.migration] Context impl SQLiteImpl.\n",
      "INFO  [alembic.runtime.migration] Will assume non-transactional DDL.\n",
      "INFO  [alembic.runtime.migration] Context impl SQLiteImpl.\n",
      "INFO  [alembic.runtime.migration] Will assume non-transactional DDL.\n",
      "INFO  [alembic.runtime.migration] Context impl SQLiteImpl.\n",
      "INFO  [alembic.runtime.migration] Will assume non-transactional DDL.\n",
      "INFO  [alembic.runtime.migration] Context impl SQLiteImpl.\n",
      "INFO  [alembic.runtime.migration] Will assume non-transactional DDL.\n"
     ]
    },
    {
     "output_type": "execute_result",
     "data": {
      "text/plain": [
       "<trainers.spark.SparkClassifier at 0x7f0ef6b826d0>"
      ]
     },
     "metadata": {},
     "execution_count": 10
    }
   ],
   "source": [
    "SparkClassifier(\n",
    "    df = dataset,\n",
    "    target_col = 'Class',\n",
    "    run_name = 'spark_classifier',\n",
    "    max_mem_size = 4,\n",
    "    n_cores = 4,\n",
    "    seed = 90\n",
    ")"
   ]
  },
  {
   "source": [
    "## 4) Setting the Best Model to Production\n",
    "\n",
    "The final step in this notebook if to set to production the model with the best selected metric, imported as `CHAMPION_METRIC`. This is done to show is is possible to create an automated workflow using MLFlow to deplot a model. However it is also possible to deplot the model using the [UI server](https://www.mlflow.org/docs/latest/model-registry.html#ui-workflow).\n",
    "\n",
    "Once this is done you can return to the README file to check how the model is now deployed."
   ],
   "cell_type": "markdown",
   "metadata": {}
  },
  {
   "cell_type": "code",
   "execution_count": 6,
   "metadata": {},
   "outputs": [
    {
     "output_type": "stream",
     "name": "stderr",
     "text": [
      "INFO  [alembic.runtime.migration] Context impl SQLiteImpl.\n",
      "INFO  [alembic.runtime.migration] Will assume non-transactional DDL.\n",
      "INFO  [alembic.runtime.migration] Context impl SQLiteImpl.\n",
      "INFO  [alembic.runtime.migration] Will assume non-transactional DDL.\n",
      "INFO  [alembic.runtime.migration] Context impl SQLiteImpl.\n",
      "INFO  [alembic.runtime.migration] Will assume non-transactional DDL.\n",
      "Successfully registered model 'CreditCardDefault'.\n",
      "INFO  [alembic.runtime.migration] Context impl SQLiteImpl.\n",
      "INFO  [alembic.runtime.migration] Will assume non-transactional DDL.\n",
      "2021/05/11 22:27:47 INFO mlflow.tracking._model_registry.client: Waiting up to 300 seconds for model version to finish creation.                     Model name: CreditCardDefault, version 1\n",
      "Created version '1' of model 'CreditCardDefault'.\n",
      "INFO  [alembic.runtime.migration] Context impl SQLiteImpl.\n",
      "INFO  [alembic.runtime.migration] Will assume non-transactional DDL.\n",
      "INFO  [alembic.runtime.migration] Context impl SQLiteImpl.\n",
      "INFO  [alembic.runtime.migration] Will assume non-transactional DDL.\n"
     ]
    },
    {
     "output_type": "execute_result",
     "data": {
      "text/plain": [
       "<ModelVersion: creation_timestamp=1620782866842, current_stage='Production', description='Deploying model with model registery', last_updated_timestamp=1620782867409, name='CreditCardDefault', run_id='f5457e6e95814060833405d0cebeee75', run_link=None, source='./mlruns/1/f5457e6e95814060833405d0cebeee75/artifacts/model', status='READY', status_message=None, tags={}, user_id=None, version=1>"
      ]
     },
     "metadata": {},
     "execution_count": 6
    }
   ],
   "source": [
    "# Getting The best Model according to CHAMPION_METRIC\n",
    "champion = MlflowClient().search_runs(\n",
    "    experiment_ids=[\n",
    "        str(\n",
    "            mlflow.get_experiment_by_name(name=EXPERIMENT_NAME).experiment_id\n",
    "        )\n",
    "    ],\n",
    "    run_view_type=ViewType.ALL,\n",
    "    order_by=[f\"metrics.{CHAMPION_METRIC} DESC\"],\n",
    "    max_results=1\n",
    ")\n",
    "run_id = champion[0].info.run_id\n",
    "\n",
    "# Registering Model in model registery\n",
    "model = mlflow.register_model(\n",
    "    model_uri=f\"runs:/{run_id}/model\",\n",
    "    name=CREDIT_CARD_MODEL_NAME\n",
    ")\n",
    "\n",
    "# Setting version 1\n",
    "MlflowClient().update_model_version(\n",
    "    name=CREDIT_CARD_MODEL_NAME,\n",
    "    version=model.version,\n",
    "    description='Deploying model with model registery'\n",
    ")\n",
    "\n",
    "# Setting it to production\n",
    "MlflowClient().transition_model_version_stage(\n",
    "    name=CREDIT_CARD_MODEL_NAME,\n",
    "    version=model.version,\n",
    "    stage=\"Production\"\n",
    ")"
   ]
  },
  {
   "cell_type": "code",
   "execution_count": null,
   "metadata": {},
   "outputs": [],
   "source": []
  }
 ]
}