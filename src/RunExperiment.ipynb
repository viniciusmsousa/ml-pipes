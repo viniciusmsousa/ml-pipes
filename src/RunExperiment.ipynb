{
 "metadata": {
  "language_info": {
   "codemirror_mode": {
    "name": "ipython",
    "version": 3
   },
   "file_extension": ".py",
   "mimetype": "text/x-python",
   "name": "python",
   "nbconvert_exporter": "python",
   "pygments_lexer": "ipython3",
   "version": "3.8.5"
  },
  "orig_nbformat": 2,
  "kernelspec": {
   "name": "python385jvsc74a57bd0c0b4a67890b9018593b09ad47235403e06a4a778d0fcca31c7c373ba0d2afff3",
   "display_name": "Python 3.8.5 64-bit ('ml-pipes-VBbH4xSK-py3.8': poetry)"
  },
  "metadata": {
   "interpreter": {
    "hash": "4e3b28acd7a0957c37c0956cd76d2c0402b105ada09a22b696d0c202f94577cc"
   }
  }
 },
 "nbformat": 4,
 "nbformat_minor": 2,
 "cells": [
  {
   "source": [
    "# Ml-Pipes\n",
    "\n",
    "The objective of this project is to present a gentle introduction of how a machine learning model can be trained and deployed. And how [MLFlow](https://www.mlflow.org/), [FastAPI](https://fastapi.tiangolo.com/) and [Docker](https://docs.docker.com/) can facilite a couple aspects of such a task. Within this context, this notebook represents the development part of the model, where a data scientist would create a few models, evaluate it using some metrics and select the best one based in a metric. There are a lot of different machine learning tools that can be used in order to create models. It is important to note that the objective of this notebook is to give a broad overview of and end to end machine learning process, and therefore it is recommended to have the documentation of the frameworks used here as a companion. Also, the README file from the project explains how to reproduce the whole project.\n",
    "\n",
    "The rest of the notebook is organized as follows\n",
    "- 1) The Problem;\n",
    "- 2) Setting up an MLFlow Experiment;\n",
    "- 3) Training different Models;\n",
    "- 4) Setting the Best Model to Production.\n",
    "\n",
    "The code bellow imports everything that will be used throughout the notebook."
   ],
   "cell_type": "markdown",
   "metadata": {}
  },
  {
   "cell_type": "code",
   "execution_count": 1,
   "metadata": {},
   "outputs": [
    {
     "output_type": "stream",
     "name": "stdout",
     "text": [
      "/media/vinicius/Dados/poetry/virtualenvs/ml-pipes-VBbH4xSK-py3.8/bin/python\n"
     ]
    }
   ],
   "source": [
    "!which python"
   ]
  },
  {
   "cell_type": "code",
   "execution_count": 2,
   "metadata": {},
   "outputs": [],
   "source": [
    "# Import Libs\n",
    "import pandas as pd\n",
    "pd.set_option('display.max_columns', 500)\n",
    "\n",
    "import mlflow\n",
    "from mlflow.tracking import MlflowClient\n",
    "from mlflow.entities import ViewType\n",
    "\n",
    "from settings import EXPERIMENT_NAME, TRACKING_URI, FOLDS, CREDIT_CARD_MODEL_NAME,\\\n",
    "     CHAMPION_METRIC, THRESHOLD  # pylint: disable=import-error\n",
    "from dao.CreditCardDefault \\\n",
    "    import load_creditcard_dataset  # pylint: disable=import-error\n",
    "\n",
    "from trainers.h2o_automl import H2OClassifier  # pylint: disable=import-error\n",
    "from trainers.pycaret import PycaretClassifier  # pylint: disable=import-error\n",
    "from trainers.spark import SparkClassifier\n"
   ]
  },
  {
   "source": [
    "## 1) The problem\n",
    "\n",
    "The first thing we need to have to build a model is a problem to solve. Here it is used as example the [Credit Card Default from Kagle](https://www.kaggle.com/mlg-ulb/creditcardfraud), where basically the objective if to predict based on a few features whether or not a client will default on its credit card. The taret variable can assume the values 1, for default, and 0 for non default. Therefore it is a binary classification problem.\n",
    "\n",
    "Bellow the dataset is imported and the first rows of the dataset. Note that the Time column has been removed from the original dataset."
   ],
   "cell_type": "markdown",
   "metadata": {}
  },
  {
   "cell_type": "code",
   "execution_count": 3,
   "metadata": {},
   "outputs": [
    {
     "output_type": "execute_result",
     "data": {
      "text/plain": [
       "              V1        V2        V3        V4        V5        V6        V7  \\\n",
       "3715    1.070801  0.041820  0.667713  1.023570 -0.486857 -0.196153 -0.210674   \n",
       "266761  1.789893 -0.411545 -1.194220  1.133385  0.986038  2.132864 -0.388684   \n",
       "91281   1.361927 -0.765832  0.516151 -1.002953 -0.843745  0.284293 -1.061179   \n",
       "206372 -0.675469 -0.064167  0.472386 -0.820784  1.879739 -0.707702  2.234005   \n",
       "176518  1.867633  0.067490 -2.083760  2.949168  2.798819  4.513581 -0.459531   \n",
       "\n",
       "              V8        V9       V10       V11       V12       V13       V14  \\\n",
       "3715    0.215182  0.065441  0.126958  1.511280  0.263984 -1.714759  0.866891   \n",
       "266761  0.575251  0.872327  0.010155  0.245467  1.437001 -0.220403 -0.025814   \n",
       "91281   0.102903 -0.703172  0.742586  0.475337  0.101678  1.247433 -0.476955   \n",
       "206372 -1.606913  0.783636  0.823222 -0.433997 -0.183646  0.733927 -1.003084   \n",
       "176518  1.013802 -0.603922  1.316204 -0.992806 -0.000587 -0.472261  0.040007   \n",
       "\n",
       "             V15       V16       V17       V18       V19       V20       V21  \\\n",
       "3715    0.793691  0.217373 -0.305565 -0.162754 -0.425243 -0.219256 -0.189233   \n",
       "266761 -1.602121 -1.290633  0.463746 -1.490560 -0.218711 -0.279185 -0.239273   \n",
       "91281   0.413005  1.980641 -0.663894 -0.072313  0.937840  0.246061  0.382232   \n",
       "206372  0.458759 -0.608013 -1.325490 -0.095072 -0.195062 -0.255915  0.018727   \n",
       "176518 -1.970184 -0.066826 -0.272940 -0.846602 -1.212787 -0.229559  0.064481   \n",
       "\n",
       "             V22       V23       V24       V25       V26       V27       V28  \\\n",
       "3715   -0.700006  0.187243  0.119866  0.091604 -0.690417  0.027305  0.022130   \n",
       "266761 -0.313765  0.231111 -0.975396 -0.082892 -0.740974  0.074463 -0.059157   \n",
       "91281   1.007709 -0.292951 -0.771063  0.570010  0.000221  0.032445  0.010256   \n",
       "206372  1.407517  0.055270  0.730877 -0.400003 -0.437959 -0.987102 -0.878809   \n",
       "176518  0.346401  0.037249  0.720629  0.339727  0.209881 -0.010506 -0.061317   \n",
       "\n",
       "        Amount  Class  \n",
       "3715     29.00      0  \n",
       "266761   35.00      0  \n",
       "91281    39.00      0  \n",
       "206372   46.10      0  \n",
       "176518   19.32      0  "
      ],
      "text/html": "<div>\n<style scoped>\n    .dataframe tbody tr th:only-of-type {\n        vertical-align: middle;\n    }\n\n    .dataframe tbody tr th {\n        vertical-align: top;\n    }\n\n    .dataframe thead th {\n        text-align: right;\n    }\n</style>\n<table border=\"1\" class=\"dataframe\">\n  <thead>\n    <tr style=\"text-align: right;\">\n      <th></th>\n      <th>V1</th>\n      <th>V2</th>\n      <th>V3</th>\n      <th>V4</th>\n      <th>V5</th>\n      <th>V6</th>\n      <th>V7</th>\n      <th>V8</th>\n      <th>V9</th>\n      <th>V10</th>\n      <th>V11</th>\n      <th>V12</th>\n      <th>V13</th>\n      <th>V14</th>\n      <th>V15</th>\n      <th>V16</th>\n      <th>V17</th>\n      <th>V18</th>\n      <th>V19</th>\n      <th>V20</th>\n      <th>V21</th>\n      <th>V22</th>\n      <th>V23</th>\n      <th>V24</th>\n      <th>V25</th>\n      <th>V26</th>\n      <th>V27</th>\n      <th>V28</th>\n      <th>Amount</th>\n      <th>Class</th>\n    </tr>\n  </thead>\n  <tbody>\n    <tr>\n      <th>3715</th>\n      <td>1.070801</td>\n      <td>0.041820</td>\n      <td>0.667713</td>\n      <td>1.023570</td>\n      <td>-0.486857</td>\n      <td>-0.196153</td>\n      <td>-0.210674</td>\n      <td>0.215182</td>\n      <td>0.065441</td>\n      <td>0.126958</td>\n      <td>1.511280</td>\n      <td>0.263984</td>\n      <td>-1.714759</td>\n      <td>0.866891</td>\n      <td>0.793691</td>\n      <td>0.217373</td>\n      <td>-0.305565</td>\n      <td>-0.162754</td>\n      <td>-0.425243</td>\n      <td>-0.219256</td>\n      <td>-0.189233</td>\n      <td>-0.700006</td>\n      <td>0.187243</td>\n      <td>0.119866</td>\n      <td>0.091604</td>\n      <td>-0.690417</td>\n      <td>0.027305</td>\n      <td>0.022130</td>\n      <td>29.00</td>\n      <td>0</td>\n    </tr>\n    <tr>\n      <th>266761</th>\n      <td>1.789893</td>\n      <td>-0.411545</td>\n      <td>-1.194220</td>\n      <td>1.133385</td>\n      <td>0.986038</td>\n      <td>2.132864</td>\n      <td>-0.388684</td>\n      <td>0.575251</td>\n      <td>0.872327</td>\n      <td>0.010155</td>\n      <td>0.245467</td>\n      <td>1.437001</td>\n      <td>-0.220403</td>\n      <td>-0.025814</td>\n      <td>-1.602121</td>\n      <td>-1.290633</td>\n      <td>0.463746</td>\n      <td>-1.490560</td>\n      <td>-0.218711</td>\n      <td>-0.279185</td>\n      <td>-0.239273</td>\n      <td>-0.313765</td>\n      <td>0.231111</td>\n      <td>-0.975396</td>\n      <td>-0.082892</td>\n      <td>-0.740974</td>\n      <td>0.074463</td>\n      <td>-0.059157</td>\n      <td>35.00</td>\n      <td>0</td>\n    </tr>\n    <tr>\n      <th>91281</th>\n      <td>1.361927</td>\n      <td>-0.765832</td>\n      <td>0.516151</td>\n      <td>-1.002953</td>\n      <td>-0.843745</td>\n      <td>0.284293</td>\n      <td>-1.061179</td>\n      <td>0.102903</td>\n      <td>-0.703172</td>\n      <td>0.742586</td>\n      <td>0.475337</td>\n      <td>0.101678</td>\n      <td>1.247433</td>\n      <td>-0.476955</td>\n      <td>0.413005</td>\n      <td>1.980641</td>\n      <td>-0.663894</td>\n      <td>-0.072313</td>\n      <td>0.937840</td>\n      <td>0.246061</td>\n      <td>0.382232</td>\n      <td>1.007709</td>\n      <td>-0.292951</td>\n      <td>-0.771063</td>\n      <td>0.570010</td>\n      <td>0.000221</td>\n      <td>0.032445</td>\n      <td>0.010256</td>\n      <td>39.00</td>\n      <td>0</td>\n    </tr>\n    <tr>\n      <th>206372</th>\n      <td>-0.675469</td>\n      <td>-0.064167</td>\n      <td>0.472386</td>\n      <td>-0.820784</td>\n      <td>1.879739</td>\n      <td>-0.707702</td>\n      <td>2.234005</td>\n      <td>-1.606913</td>\n      <td>0.783636</td>\n      <td>0.823222</td>\n      <td>-0.433997</td>\n      <td>-0.183646</td>\n      <td>0.733927</td>\n      <td>-1.003084</td>\n      <td>0.458759</td>\n      <td>-0.608013</td>\n      <td>-1.325490</td>\n      <td>-0.095072</td>\n      <td>-0.195062</td>\n      <td>-0.255915</td>\n      <td>0.018727</td>\n      <td>1.407517</td>\n      <td>0.055270</td>\n      <td>0.730877</td>\n      <td>-0.400003</td>\n      <td>-0.437959</td>\n      <td>-0.987102</td>\n      <td>-0.878809</td>\n      <td>46.10</td>\n      <td>0</td>\n    </tr>\n    <tr>\n      <th>176518</th>\n      <td>1.867633</td>\n      <td>0.067490</td>\n      <td>-2.083760</td>\n      <td>2.949168</td>\n      <td>2.798819</td>\n      <td>4.513581</td>\n      <td>-0.459531</td>\n      <td>1.013802</td>\n      <td>-0.603922</td>\n      <td>1.316204</td>\n      <td>-0.992806</td>\n      <td>-0.000587</td>\n      <td>-0.472261</td>\n      <td>0.040007</td>\n      <td>-1.970184</td>\n      <td>-0.066826</td>\n      <td>-0.272940</td>\n      <td>-0.846602</td>\n      <td>-1.212787</td>\n      <td>-0.229559</td>\n      <td>0.064481</td>\n      <td>0.346401</td>\n      <td>0.037249</td>\n      <td>0.720629</td>\n      <td>0.339727</td>\n      <td>0.209881</td>\n      <td>-0.010506</td>\n      <td>-0.061317</td>\n      <td>19.32</td>\n      <td>0</td>\n    </tr>\n  </tbody>\n</table>\n</div>"
     },
     "metadata": {},
     "execution_count": 3
    }
   ],
   "source": [
    "dataset = load_creditcard_dataset()\n",
    "dataset.head()"
   ]
  },
  {
   "source": [
    "## 2) Setting up an MLFlow Experiment\n",
    "\n",
    "Now that a problem has been stated and some data to help solving the problem has been gathered, the next step is to setup a MLFlow experiment to log our models. **MLFlow is built upon the concept of experiments. A experiment is a series of fits, where parameters, metrics, models and artifacts can be associated with the respective fit (in an machine learning package agnostic way).**\n",
    "\n",
    "The code bellow tries to create an experiment, if that experiments already existis then it sets the experiment to the active one.\n",
    " "
   ],
   "cell_type": "markdown",
   "metadata": {}
  },
  {
   "cell_type": "code",
   "execution_count": 4,
   "metadata": {},
   "outputs": [
    {
     "output_type": "execute_result",
     "data": {
      "text/plain": [
       "'http://127.0.0.1:5000'"
      ]
     },
     "metadata": {},
     "execution_count": 4
    }
   ],
   "source": [
    "TRACKING_URI"
   ]
  },
  {
   "cell_type": "code",
   "execution_count": 5,
   "metadata": {},
   "outputs": [],
   "source": [
    "EXPERIMENT_NAME='teste'\n",
    "# TRACKING_URI='http://127.0.0.1:5000'"
   ]
  },
  {
   "cell_type": "code",
   "execution_count": 6,
   "metadata": {
    "tags": []
   },
   "outputs": [],
   "source": [
    "# mlflow.set_tracking_uri(\"sqlite:///mlruns.db\")\n",
    "mlflow.set_tracking_uri(TRACKING_URI)\n",
    "try:\n",
    "    experiment = mlflow.create_experiment(EXPERIMENT_NAME)\n",
    "except Exception:\n",
    "    client = MlflowClient()\n",
    "    experiment = client.get_experiment_by_name(EXPERIMENT_NAME)\n",
    "\n",
    "mlflow.set_experiment(EXPERIMENT_NAME)"
   ]
  },
  {
   "source": [
    "## 3) Training different Models\n",
    "\n",
    "The ext step if to train, evaluate and log a few different models. In order to demonstrate that MLFlow allows us to use different machine learning packages we will train an H2O autoML and SkLearn models (using pycaret). Now is the time where MLFlow is put into action: For each model that if fitted it will be logged a few parameters, metrics, artifacts and the models it self. To understand how this is done it checkout the classifiers definitions in `src/trainers/` folder and the [MLFlow Logging Documentaion](https://www.mlflow.org/docs/latest/tracking.html#logging-data-to-runs), ot all happens inside the `mlflow.start_run()` context manager. \n",
    "\n",
    "The next cells will train different classifiers. Once they finish running you can deploy the [MLFlow Tracking UI](https://www.mlflow.org/docs/latest/tracking.html#tracking-ui) by executing `mlflow ui -p 5000 --backend-store-uri sqlite:///mlruns.db` in the terminal inside the `src/` folder. and see the results at [127.0.0.1:5000](127.0.0.1:5000)."
   ],
   "cell_type": "markdown",
   "metadata": {}
  },
  {
   "cell_type": "code",
   "execution_count": 7,
   "metadata": {},
   "outputs": [],
   "source": [
    "os.environ['MLFLOW_S3_ENDPOINT_URL'] = 'http://127.0.0.1:9000'\n",
    "os.environ['AWS_ACCESS_KEY_ID'] = 'minio_access_key'\n",
    "os.environ['AWS_SECRET_ACCESS_KEY'] = 'MINIO_SECRET_KEY'"
   ]
  },
  {
   "cell_type": "code",
   "execution_count": 8,
   "metadata": {},
   "outputs": [
    {
     "output_type": "stream",
     "name": "stdout",
     "text": [
      "Checking whether there is an H2O instance running at http://localhost:54321 ..... not found.\n",
      "Attempting to start a local H2O server...\n",
      "  Java Version: openjdk version \"11.0.11\" 2021-04-20; OpenJDK Runtime Environment (build 11.0.11+9-Ubuntu-0ubuntu2.20.04); OpenJDK 64-Bit Server VM (build 11.0.11+9-Ubuntu-0ubuntu2.20.04, mixed mode, sharing)\n",
      "  Starting server from /media/vinicius/Dados/poetry/virtualenvs/ml-pipes-VBbH4xSK-py3.8/lib/python3.8/site-packages/h2o/backend/bin/h2o.jar\n",
      "  Ice root: /tmp/tmppblhxtl4\n",
      "  JVM stdout: /tmp/tmppblhxtl4/h2o_vinicius_started_from_python.out\n",
      "  JVM stderr: /tmp/tmppblhxtl4/h2o_vinicius_started_from_python.err\n",
      "  Server is running at http://127.0.0.1:54321\n",
      "Connecting to H2O server at http://127.0.0.1:54321 ... successful.\n"
     ]
    },
    {
     "output_type": "display_data",
     "data": {
      "text/plain": "--------------------------  ------------------------------------------------------------------\nH2O_cluster_uptime:         02 secs\nH2O_cluster_timezone:       America/Sao_Paulo\nH2O_data_parsing_timezone:  UTC\nH2O_cluster_version:        3.32.1.1\nH2O_cluster_version_age:    1 month and 23 days\nH2O_cluster_name:           H2O_from_python_vinicius_9z4i7l\nH2O_cluster_total_nodes:    1\nH2O_cluster_free_memory:    3 Gb\nH2O_cluster_total_cores:    8\nH2O_cluster_allowed_cores:  8\nH2O_cluster_status:         accepting new members, healthy\nH2O_connection_url:         http://127.0.0.1:54321\nH2O_connection_proxy:       {\"http\": null, \"https\": null}\nH2O_internal_security:      False\nH2O_API_Extensions:         Amazon S3, XGBoost, Algos, AutoML, Core V3, TargetEncoder, Core V4\nPython_version:             3.8.5 final\n--------------------------  ------------------------------------------------------------------",
      "text/html": "<div style=\"overflow:auto\"><table style=\"width:50%\"><tr><td>H2O_cluster_uptime:</td>\n<td>02 secs</td></tr>\n<tr><td>H2O_cluster_timezone:</td>\n<td>America/Sao_Paulo</td></tr>\n<tr><td>H2O_data_parsing_timezone:</td>\n<td>UTC</td></tr>\n<tr><td>H2O_cluster_version:</td>\n<td>3.32.1.1</td></tr>\n<tr><td>H2O_cluster_version_age:</td>\n<td>1 month and 23 days </td></tr>\n<tr><td>H2O_cluster_name:</td>\n<td>H2O_from_python_vinicius_9z4i7l</td></tr>\n<tr><td>H2O_cluster_total_nodes:</td>\n<td>1</td></tr>\n<tr><td>H2O_cluster_free_memory:</td>\n<td>3 Gb</td></tr>\n<tr><td>H2O_cluster_total_cores:</td>\n<td>8</td></tr>\n<tr><td>H2O_cluster_allowed_cores:</td>\n<td>8</td></tr>\n<tr><td>H2O_cluster_status:</td>\n<td>accepting new members, healthy</td></tr>\n<tr><td>H2O_connection_url:</td>\n<td>http://127.0.0.1:54321</td></tr>\n<tr><td>H2O_connection_proxy:</td>\n<td>{\"http\": null, \"https\": null}</td></tr>\n<tr><td>H2O_internal_security:</td>\n<td>False</td></tr>\n<tr><td>H2O_API_Extensions:</td>\n<td>Amazon S3, XGBoost, Algos, AutoML, Core V3, TargetEncoder, Core V4</td></tr>\n<tr><td>Python_version:</td>\n<td>3.8.5 final</td></tr></table></div>"
     },
     "metadata": {}
    },
    {
     "output_type": "stream",
     "name": "stdout",
     "text": [
      "Parse progress: |█████████████████████████████████████████████████████████| 100%\n",
      "AutoML progress: |\n",
      "19:00:47.265: User specified a validation frame with cross-validation still enabled. Please note that the models will still be validated using cross-validation only, the validation frame will be used to provide purely informative validation metrics on the trained models.\n",
      "\n",
      "████████████████████████████████████████████████████████| 100%\n",
      "Could not find exact threshold 0.5; using closest threshold found 0.4551657569282098.\n",
      "Could not find exact threshold 0.5; using closest threshold found 0.4551657569282098.\n",
      "Could not find exact threshold 0.5; using closest threshold found 0.4551657569282098.\n",
      "Could not find exact threshold 0.5; using closest threshold found 0.4551657569282098.\n",
      "Could not find exact threshold 0.5; using closest threshold found 0.4551657569282098.\n"
     ]
    },
    {
     "output_type": "execute_result",
     "data": {
      "text/plain": [
       "<trainers.h2o_automl.H2OClassifier at 0x7f08e894bc70>"
      ]
     },
     "metadata": {},
     "execution_count": 8
    }
   ],
   "source": [
    "H2OClassifier(\n",
    "    run_name='H2O',\n",
    "    max_mem_size='3G',\n",
    "    threshold=THRESHOLD,\n",
    "    df=dataset,\n",
    "    target_col='Class',\n",
    "    sort_metric='aucpr',\n",
    "    max_models=8,\n",
    "    max_runtime_secs=10,\n",
    "    nfolds=FOLDS,\n",
    "    seed=90\n",
    ")"
   ]
  },
  {
   "cell_type": "code",
   "execution_count": 8,
   "metadata": {
    "tags": []
   },
   "outputs": [
    {
     "output_type": "display_data",
     "data": {
      "text/plain": "                         Parameters\nbootstrap                     False\nccp_alpha                       0.0\nclass_weight                   None\ncriterion                      gini\nmax_depth                      None\nmax_features                   auto\nmax_leaf_nodes                 None\nmax_samples                    None\nmin_impurity_decrease           0.0\nmin_impurity_split             None\nmin_samples_leaf                  1\nmin_samples_split                 2\nmin_weight_fraction_leaf        0.0\nn_estimators                    100\nn_jobs                           -1\noob_score                     False\nrandom_state                  54321\nverbose                           0\nwarm_start                    False",
      "text/html": "<div>\n<style scoped>\n    .dataframe tbody tr th:only-of-type {\n        vertical-align: middle;\n    }\n\n    .dataframe tbody tr th {\n        vertical-align: top;\n    }\n\n    .dataframe thead th {\n        text-align: right;\n    }\n</style>\n<table border=\"1\" class=\"dataframe\">\n  <thead>\n    <tr style=\"text-align: right;\">\n      <th></th>\n      <th>Parameters</th>\n    </tr>\n  </thead>\n  <tbody>\n    <tr>\n      <th>bootstrap</th>\n      <td>False</td>\n    </tr>\n    <tr>\n      <th>ccp_alpha</th>\n      <td>0.0</td>\n    </tr>\n    <tr>\n      <th>class_weight</th>\n      <td>None</td>\n    </tr>\n    <tr>\n      <th>criterion</th>\n      <td>gini</td>\n    </tr>\n    <tr>\n      <th>max_depth</th>\n      <td>None</td>\n    </tr>\n    <tr>\n      <th>max_features</th>\n      <td>auto</td>\n    </tr>\n    <tr>\n      <th>max_leaf_nodes</th>\n      <td>None</td>\n    </tr>\n    <tr>\n      <th>max_samples</th>\n      <td>None</td>\n    </tr>\n    <tr>\n      <th>min_impurity_decrease</th>\n      <td>0.0</td>\n    </tr>\n    <tr>\n      <th>min_impurity_split</th>\n      <td>None</td>\n    </tr>\n    <tr>\n      <th>min_samples_leaf</th>\n      <td>1</td>\n    </tr>\n    <tr>\n      <th>min_samples_split</th>\n      <td>2</td>\n    </tr>\n    <tr>\n      <th>min_weight_fraction_leaf</th>\n      <td>0.0</td>\n    </tr>\n    <tr>\n      <th>n_estimators</th>\n      <td>100</td>\n    </tr>\n    <tr>\n      <th>n_jobs</th>\n      <td>-1</td>\n    </tr>\n    <tr>\n      <th>oob_score</th>\n      <td>False</td>\n    </tr>\n    <tr>\n      <th>random_state</th>\n      <td>54321</td>\n    </tr>\n    <tr>\n      <th>verbose</th>\n      <td>0</td>\n    </tr>\n    <tr>\n      <th>warm_start</th>\n      <td>False</td>\n    </tr>\n  </tbody>\n</table>\n</div>"
     },
     "metadata": {}
    },
    {
     "output_type": "stream",
     "name": "stdout",
     "text": [
      "Error in logging parameter for                                 pycaret_precision_2\n",
      "[Errno 2] No such file or directory: 'Hyperparameters.png'\n"
     ]
    },
    {
     "output_type": "execute_result",
     "data": {
      "text/plain": [
       "<trainers.pycaret.PycaretClassifier at 0x7f60d4dd6ee0>"
      ]
     },
     "metadata": {},
     "execution_count": 8
    }
   ],
   "source": [
    "PycaretClassifier(\n",
    "        experiment_name=EXPERIMENT_NAME,\n",
    "        run_name='Pycaret2',\n",
    "        sort_metric='precision',\n",
    "        df=dataset,\n",
    "        target='Class',\n",
    "        threshold=THRESHOLD,\n",
    "        n_best_models=3,\n",
    "        data_split_stratify=True,\n",
    "        nfolds=FOLDS,\n",
    "        normalize=True,\n",
    "        transformation=True,\n",
    "        ignore_low_variance=True,\n",
    "        remove_multicollinearity=True,\n",
    "        multicollinearity_threshold=0.95,\n",
    "        session_id=54321\n",
    ")"
   ]
  },
  {
   "cell_type": "code",
   "execution_count": 6,
   "metadata": {},
   "outputs": [
    {
     "output_type": "execute_result",
     "data": {
      "text/plain": [
       "<trainers.spark.SparkClassifier at 0x7f440bcfabe0>"
      ]
     },
     "metadata": {},
     "execution_count": 6
    }
   ],
   "source": [
    "SparkClassifier(\n",
    "    df = dataset,\n",
    "    target_col = 'Class',\n",
    "    run_name = 'spark_classifier',\n",
    "    max_mem_size = 4,\n",
    "    n_cores = 4,\n",
    "    seed = 90\n",
    ")"
   ]
  },
  {
   "source": [
    "## 4) Setting the Best Model to Production\n",
    "\n",
    "The final step in this notebook if to set to production the model with the best selected metric, imported as `CHAMPION_METRIC`. This is done to show is is possible to create an automated workflow using MLFlow to deplot a model. However it is also possible to deplot the model using the [UI server](https://www.mlflow.org/docs/latest/model-registry.html#ui-workflow).\n",
    "\n",
    "Once this is done you can return to the README file to check how the model is now deployed."
   ],
   "cell_type": "markdown",
   "metadata": {}
  },
  {
   "cell_type": "code",
   "execution_count": 10,
   "metadata": {},
   "outputs": [
    {
     "output_type": "stream",
     "name": "stderr",
     "text": [
      "Registered model 'CreditCardDefault' already exists. Creating a new version of this model...\n",
      "2021/05/19 09:02:38 INFO mlflow.tracking._model_registry.client: Waiting up to 300 seconds for model version to finish creation.                     Model name: CreditCardDefault, version 3\n",
      "Created version '3' of model 'CreditCardDefault'.\n"
     ]
    },
    {
     "output_type": "execute_result",
     "data": {
      "text/plain": [
       "<ModelVersion: creation_timestamp=1621425758707, current_stage='Staging', description='Deploying model with model registery', last_updated_timestamp=1621425758825, name='CreditCardDefault', run_id='c325b227a2d24a3994ca8e75b0201117', run_link='', source='/media/vinicius/Dados/projects/ml-pipes/mlflow_artifact_store/1/c325b227a2d24a3994ca8e75b0201117/artifacts/model', status='READY', status_message='', tags={}, user_id='', version='3'>"
      ]
     },
     "metadata": {},
     "execution_count": 10
    }
   ],
   "source": [
    "# Getting The best Model according to CHAMPION_METRIC\n",
    "champion = MlflowClient().search_runs(\n",
    "    experiment_ids=[\n",
    "        str(\n",
    "            mlflow.get_experiment_by_name(name=EXPERIMENT_NAME).experiment_id\n",
    "        )\n",
    "    ],\n",
    "    run_view_type=ViewType.ALL,\n",
    "    order_by=[f\"metrics.{CHAMPION_METRIC} DESC\"],\n",
    "    max_results=1\n",
    ")\n",
    "run_id = champion[0].info.run_id\n",
    "\n",
    "# Registering Model in model registery\n",
    "model = mlflow.register_model(\n",
    "    model_uri=f\"runs:/{run_id}/model\",\n",
    "    name=CREDIT_CARD_MODEL_NAME\n",
    ")\n",
    "\n",
    "# Setting version 1\n",
    "MlflowClient().update_model_version(\n",
    "    name=CREDIT_CARD_MODEL_NAME,\n",
    "    version=model.version,\n",
    "    description='Deploying model with model registery'\n",
    ")\n",
    "\n",
    "# Setting it to production\n",
    "MlflowClient().transition_model_version_stage(\n",
    "    name=CREDIT_CARD_MODEL_NAME,\n",
    "    version=model.version,\n",
    "    stage=\"Staging\"\n",
    ")"
   ]
  },
  {
   "cell_type": "code",
   "execution_count": null,
   "metadata": {},
   "outputs": [],
   "source": []
  }
 ]
}